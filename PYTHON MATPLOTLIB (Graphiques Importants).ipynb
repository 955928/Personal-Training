{
 "cells": [
  {
   "cell_type": "code",
   "execution_count": null,
   "id": "11c2da22",
   "metadata": {},
   "outputs": [],
   "source": [
    "#CLASSIFICATION avec scatter et plt\n",
    "\n",
    "import numpy as np\n",
    "import matplotlib.pyplot as plt\n",
    "from sklearn.datasets import load_iris"
   ]
  },
  {
   "cell_type": "code",
   "execution_count": 82,
   "id": "c2f1b705",
   "metadata": {
    "scrolled": true
   },
   "outputs": [
    {
     "name": "stdout",
     "output_type": "stream",
     "text": [
      "x contient 150 examples et 4 variables\n",
      "il y a 3 classes\n"
     ]
    },
    {
     "data": {
      "text/plain": [
       "array([[5.1, 3.5, 1.4, 0.2],\n",
       "       [4.9, 3. , 1.4, 0.2],\n",
       "       [4.7, 3.2, 1.3, 0.2],\n",
       "       [4.6, 3.1, 1.5, 0.2],\n",
       "       [5. , 3.6, 1.4, 0.2],\n",
       "       [5.4, 3.9, 1.7, 0.4],\n",
       "       [4.6, 3.4, 1.4, 0.3],\n",
       "       [5. , 3.4, 1.5, 0.2],\n",
       "       [4.4, 2.9, 1.4, 0.2],\n",
       "       [4.9, 3.1, 1.5, 0.1],\n",
       "       [5.4, 3.7, 1.5, 0.2],\n",
       "       [4.8, 3.4, 1.6, 0.2],\n",
       "       [4.8, 3. , 1.4, 0.1],\n",
       "       [4.3, 3. , 1.1, 0.1],\n",
       "       [5.8, 4. , 1.2, 0.2],\n",
       "       [5.7, 4.4, 1.5, 0.4],\n",
       "       [5.4, 3.9, 1.3, 0.4],\n",
       "       [5.1, 3.5, 1.4, 0.3],\n",
       "       [5.7, 3.8, 1.7, 0.3],\n",
       "       [5.1, 3.8, 1.5, 0.3],\n",
       "       [5.4, 3.4, 1.7, 0.2],\n",
       "       [5.1, 3.7, 1.5, 0.4],\n",
       "       [4.6, 3.6, 1. , 0.2],\n",
       "       [5.1, 3.3, 1.7, 0.5],\n",
       "       [4.8, 3.4, 1.9, 0.2],\n",
       "       [5. , 3. , 1.6, 0.2],\n",
       "       [5. , 3.4, 1.6, 0.4],\n",
       "       [5.2, 3.5, 1.5, 0.2],\n",
       "       [5.2, 3.4, 1.4, 0.2],\n",
       "       [4.7, 3.2, 1.6, 0.2],\n",
       "       [4.8, 3.1, 1.6, 0.2],\n",
       "       [5.4, 3.4, 1.5, 0.4],\n",
       "       [5.2, 4.1, 1.5, 0.1],\n",
       "       [5.5, 4.2, 1.4, 0.2],\n",
       "       [4.9, 3.1, 1.5, 0.2],\n",
       "       [5. , 3.2, 1.2, 0.2],\n",
       "       [5.5, 3.5, 1.3, 0.2],\n",
       "       [4.9, 3.6, 1.4, 0.1],\n",
       "       [4.4, 3. , 1.3, 0.2],\n",
       "       [5.1, 3.4, 1.5, 0.2],\n",
       "       [5. , 3.5, 1.3, 0.3],\n",
       "       [4.5, 2.3, 1.3, 0.3],\n",
       "       [4.4, 3.2, 1.3, 0.2],\n",
       "       [5. , 3.5, 1.6, 0.6],\n",
       "       [5.1, 3.8, 1.9, 0.4],\n",
       "       [4.8, 3. , 1.4, 0.3],\n",
       "       [5.1, 3.8, 1.6, 0.2],\n",
       "       [4.6, 3.2, 1.4, 0.2],\n",
       "       [5.3, 3.7, 1.5, 0.2],\n",
       "       [5. , 3.3, 1.4, 0.2],\n",
       "       [7. , 3.2, 4.7, 1.4],\n",
       "       [6.4, 3.2, 4.5, 1.5],\n",
       "       [6.9, 3.1, 4.9, 1.5],\n",
       "       [5.5, 2.3, 4. , 1.3],\n",
       "       [6.5, 2.8, 4.6, 1.5],\n",
       "       [5.7, 2.8, 4.5, 1.3],\n",
       "       [6.3, 3.3, 4.7, 1.6],\n",
       "       [4.9, 2.4, 3.3, 1. ],\n",
       "       [6.6, 2.9, 4.6, 1.3],\n",
       "       [5.2, 2.7, 3.9, 1.4],\n",
       "       [5. , 2. , 3.5, 1. ],\n",
       "       [5.9, 3. , 4.2, 1.5],\n",
       "       [6. , 2.2, 4. , 1. ],\n",
       "       [6.1, 2.9, 4.7, 1.4],\n",
       "       [5.6, 2.9, 3.6, 1.3],\n",
       "       [6.7, 3.1, 4.4, 1.4],\n",
       "       [5.6, 3. , 4.5, 1.5],\n",
       "       [5.8, 2.7, 4.1, 1. ],\n",
       "       [6.2, 2.2, 4.5, 1.5],\n",
       "       [5.6, 2.5, 3.9, 1.1],\n",
       "       [5.9, 3.2, 4.8, 1.8],\n",
       "       [6.1, 2.8, 4. , 1.3],\n",
       "       [6.3, 2.5, 4.9, 1.5],\n",
       "       [6.1, 2.8, 4.7, 1.2],\n",
       "       [6.4, 2.9, 4.3, 1.3],\n",
       "       [6.6, 3. , 4.4, 1.4],\n",
       "       [6.8, 2.8, 4.8, 1.4],\n",
       "       [6.7, 3. , 5. , 1.7],\n",
       "       [6. , 2.9, 4.5, 1.5],\n",
       "       [5.7, 2.6, 3.5, 1. ],\n",
       "       [5.5, 2.4, 3.8, 1.1],\n",
       "       [5.5, 2.4, 3.7, 1. ],\n",
       "       [5.8, 2.7, 3.9, 1.2],\n",
       "       [6. , 2.7, 5.1, 1.6],\n",
       "       [5.4, 3. , 4.5, 1.5],\n",
       "       [6. , 3.4, 4.5, 1.6],\n",
       "       [6.7, 3.1, 4.7, 1.5],\n",
       "       [6.3, 2.3, 4.4, 1.3],\n",
       "       [5.6, 3. , 4.1, 1.3],\n",
       "       [5.5, 2.5, 4. , 1.3],\n",
       "       [5.5, 2.6, 4.4, 1.2],\n",
       "       [6.1, 3. , 4.6, 1.4],\n",
       "       [5.8, 2.6, 4. , 1.2],\n",
       "       [5. , 2.3, 3.3, 1. ],\n",
       "       [5.6, 2.7, 4.2, 1.3],\n",
       "       [5.7, 3. , 4.2, 1.2],\n",
       "       [5.7, 2.9, 4.2, 1.3],\n",
       "       [6.2, 2.9, 4.3, 1.3],\n",
       "       [5.1, 2.5, 3. , 1.1],\n",
       "       [5.7, 2.8, 4.1, 1.3],\n",
       "       [6.3, 3.3, 6. , 2.5],\n",
       "       [5.8, 2.7, 5.1, 1.9],\n",
       "       [7.1, 3. , 5.9, 2.1],\n",
       "       [6.3, 2.9, 5.6, 1.8],\n",
       "       [6.5, 3. , 5.8, 2.2],\n",
       "       [7.6, 3. , 6.6, 2.1],\n",
       "       [4.9, 2.5, 4.5, 1.7],\n",
       "       [7.3, 2.9, 6.3, 1.8],\n",
       "       [6.7, 2.5, 5.8, 1.8],\n",
       "       [7.2, 3.6, 6.1, 2.5],\n",
       "       [6.5, 3.2, 5.1, 2. ],\n",
       "       [6.4, 2.7, 5.3, 1.9],\n",
       "       [6.8, 3. , 5.5, 2.1],\n",
       "       [5.7, 2.5, 5. , 2. ],\n",
       "       [5.8, 2.8, 5.1, 2.4],\n",
       "       [6.4, 3.2, 5.3, 2.3],\n",
       "       [6.5, 3. , 5.5, 1.8],\n",
       "       [7.7, 3.8, 6.7, 2.2],\n",
       "       [7.7, 2.6, 6.9, 2.3],\n",
       "       [6. , 2.2, 5. , 1.5],\n",
       "       [6.9, 3.2, 5.7, 2.3],\n",
       "       [5.6, 2.8, 4.9, 2. ],\n",
       "       [7.7, 2.8, 6.7, 2. ],\n",
       "       [6.3, 2.7, 4.9, 1.8],\n",
       "       [6.7, 3.3, 5.7, 2.1],\n",
       "       [7.2, 3.2, 6. , 1.8],\n",
       "       [6.2, 2.8, 4.8, 1.8],\n",
       "       [6.1, 3. , 4.9, 1.8],\n",
       "       [6.4, 2.8, 5.6, 2.1],\n",
       "       [7.2, 3. , 5.8, 1.6],\n",
       "       [7.4, 2.8, 6.1, 1.9],\n",
       "       [7.9, 3.8, 6.4, 2. ],\n",
       "       [6.4, 2.8, 5.6, 2.2],\n",
       "       [6.3, 2.8, 5.1, 1.5],\n",
       "       [6.1, 2.6, 5.6, 1.4],\n",
       "       [7.7, 3. , 6.1, 2.3],\n",
       "       [6.3, 3.4, 5.6, 2.4],\n",
       "       [6.4, 3.1, 5.5, 1.8],\n",
       "       [6. , 3. , 4.8, 1.8],\n",
       "       [6.9, 3.1, 5.4, 2.1],\n",
       "       [6.7, 3.1, 5.6, 2.4],\n",
       "       [6.9, 3.1, 5.1, 2.3],\n",
       "       [5.8, 2.7, 5.1, 1.9],\n",
       "       [6.8, 3.2, 5.9, 2.3],\n",
       "       [6.7, 3.3, 5.7, 2.5],\n",
       "       [6.7, 3. , 5.2, 2.3],\n",
       "       [6.3, 2.5, 5. , 1.9],\n",
       "       [6.5, 3. , 5.2, 2. ],\n",
       "       [6.2, 3.4, 5.4, 2.3],\n",
       "       [5.9, 3. , 5.1, 1.8]])"
      ]
     },
     "execution_count": 82,
     "metadata": {},
     "output_type": "execute_result"
    }
   ],
   "source": [
    "iris = load_iris()\n",
    "\n",
    "x = iris.data\n",
    "y = iris.target\n",
    "\n",
    "names = list(iris.target_names)\n",
    "\n",
    "print(f'x contient {x.shape[0]} examples et {x.shape[1]} variables')\n",
    "print(f'il y a {np.unique(y).size} classes')\n",
    "x"
   ]
  },
  {
   "cell_type": "code",
   "execution_count": 83,
   "id": "fe0349ad",
   "metadata": {
    "scrolled": true
   },
   "outputs": [
    {
     "name": "stdout",
     "output_type": "stream",
     "text": [
      "x contient 150 examples et 4 variables\n",
      "il y a 3 classes\n"
     ]
    },
    {
     "data": {
      "text/plain": [
       "array([0, 0, 0, 0, 0, 0, 0, 0, 0, 0, 0, 0, 0, 0, 0, 0, 0, 0, 0, 0, 0, 0,\n",
       "       0, 0, 0, 0, 0, 0, 0, 0, 0, 0, 0, 0, 0, 0, 0, 0, 0, 0, 0, 0, 0, 0,\n",
       "       0, 0, 0, 0, 0, 0, 1, 1, 1, 1, 1, 1, 1, 1, 1, 1, 1, 1, 1, 1, 1, 1,\n",
       "       1, 1, 1, 1, 1, 1, 1, 1, 1, 1, 1, 1, 1, 1, 1, 1, 1, 1, 1, 1, 1, 1,\n",
       "       1, 1, 1, 1, 1, 1, 1, 1, 1, 1, 1, 1, 2, 2, 2, 2, 2, 2, 2, 2, 2, 2,\n",
       "       2, 2, 2, 2, 2, 2, 2, 2, 2, 2, 2, 2, 2, 2, 2, 2, 2, 2, 2, 2, 2, 2,\n",
       "       2, 2, 2, 2, 2, 2, 2, 2, 2, 2, 2, 2, 2, 2, 2, 2, 2, 2])"
      ]
     },
     "execution_count": 83,
     "metadata": {},
     "output_type": "execute_result"
    }
   ],
   "source": [
    "iris = load_iris()\n",
    "\n",
    "x = iris.data\n",
    "y = iris.target\n",
    "\n",
    "names = list(iris.target_names)\n",
    "\n",
    "print(f'x contient {x.shape[0]} examples et {x.shape[1]} variables')\n",
    "print(f'il y a {np.unique(y).size} classes')\n",
    "y"
   ]
  },
  {
   "cell_type": "code",
   "execution_count": 84,
   "id": "da1ff0b9",
   "metadata": {
    "scrolled": true
   },
   "outputs": [
    {
     "data": {
      "text/plain": [
       "Text(0, 0.5, 'largeur sépal')"
      ]
     },
     "execution_count": 84,
     "metadata": {},
     "output_type": "execute_result"
    }
   ],
   "source": [
    "#Graphique de CLASSIFICATION avec plt.scatter\n",
    "#Limite: peut seulement présenter 2 des variables dans les 4 on dispose\n",
    "\n",
    "plt.scatter(x[:, 0], x[:, 1], c=y)\n",
    "plt.xlabel('longeur  sépal')\n",
    "plt.ylabel('largeur sépal')"
   ]
  },
  {
   "cell_type": "code",
   "execution_count": 85,
   "id": "f1db4602",
   "metadata": {
    "scrolled": true
   },
   "outputs": [
    {
     "data": {
      "text/plain": [
       "Text(42.597222222222214, 0.5, 'largeur sépal')"
      ]
     },
     "execution_count": 85,
     "metadata": {},
     "output_type": "execute_result"
    }
   ],
   "source": [
    "\n",
    "plt.scatter(x[:, 0], x[:, 1], c=y, alpha=0.5, s=x[:,2]*100)\n",
    "#c = couleur\n",
    "#alpha = controler la transparence de chacun des pts de notre graphe\n",
    "#s= controler la taille de nos variables; ici on va controler la taille en fonction d'une des variables de notre problème\n",
    "#plus les pts sont gros= pétals est longs; plus les pts sont petits =pétals petits\n",
    "plt.xlabel('longeur  sépal')\n",
    "plt.ylabel('largeur sépal')"
   ]
  },
  {
   "cell_type": "code",
   "execution_count": 86,
   "id": "929fbd0e",
   "metadata": {},
   "outputs": [],
   "source": [
    "#GRAPHIQUES 3D\n",
    "from mpl_toolkits.mplot3d import Axes3D"
   ]
  },
  {
   "cell_type": "code",
   "execution_count": 87,
   "id": "8dfc0182",
   "metadata": {
    "scrolled": true
   },
   "outputs": [],
   "source": [
    "#ici on doit créer un objet axe apres avoir chargé le module\n",
    "ax = plt.axes(projection='3d')"
   ]
  },
  {
   "cell_type": "code",
   "execution_count": 88,
   "id": "7f940d3c",
   "metadata": {
    "scrolled": true
   },
   "outputs": [
    {
     "data": {
      "text/plain": [
       "<mpl_toolkits.mplot3d.art3d.Path3DCollection at 0x2b0f535eb90>"
      ]
     },
     "execution_count": 88,
     "metadata": {},
     "output_type": "execute_result"
    }
   ],
   "source": [
    "\n",
    "ax = plt.axes(projection='3d')\n",
    "ax.scatter(x[:,0], x[:,1], x[:, 2], c=y)\n",
    "#dans spyder ou pycharmm on peut explorer la graphique(cool)"
   ]
  },
  {
   "cell_type": "code",
   "execution_count": 89,
   "id": "81f35325",
   "metadata": {},
   "outputs": [
    {
     "ename": "SyntaxError",
     "evalue": "incomplete input (1088802196.py, line 2)",
     "output_type": "error",
     "traceback": [
      "\u001b[1;36m  Cell \u001b[1;32mIn[89], line 2\u001b[1;36m\u001b[0m\n\u001b[1;33m    \"\"\"\"\u001b[0m\n\u001b[1;37m    ^\u001b[0m\n\u001b[1;31mSyntaxError\u001b[0m\u001b[1;31m:\u001b[0m incomplete input\n"
     ]
    }
   ],
   "source": [
    "#mais on peut également le voir dans jupyter on commencant avec :\n",
    "\"\"\"\"\n",
    "%matplotlib\n",
    "from mpl_toolkits.mplot3d import Axes3D"
   ]
  },
  {
   "cell_type": "code",
   "execution_count": 53,
   "id": "361198c6",
   "metadata": {},
   "outputs": [
    {
     "data": {
      "text/plain": [
       "<mpl_toolkits.mplot3d.art3d.Path3DCollection at 0x2b0f3678f50>"
      ]
     },
     "execution_count": 53,
     "metadata": {},
     "output_type": "execute_result"
    }
   ],
   "source": [
    "ax = plt.axes(projection ='3d')\n",
    "ax.scatter(x[:, 0], x[:, 1], x[:,2], c=y)"
   ]
  },
  {
   "cell_type": "code",
   "execution_count": 54,
   "id": "63d824eb",
   "metadata": {},
   "outputs": [],
   "source": [
    "#on peut également visualiser des surfaces et des fonctions mathématiques que l'on aurait modélisé\n",
    "f = lambda x, y: np.sin(x) + np.cos(x+y)"
   ]
  },
  {
   "cell_type": "code",
   "execution_count": 58,
   "id": "d4541d7b",
   "metadata": {},
   "outputs": [],
   "source": [
    "\n",
    "X = np.linspace(0, 5, 100)\n",
    "Y = np.linspace(0, 5, 100)\n",
    "X, Y = np.meshgrid(X, Y)\n",
    "\n",
    "Z = f(X, Y)"
   ]
  },
  {
   "cell_type": "code",
   "execution_count": 59,
   "id": "f070a691",
   "metadata": {},
   "outputs": [
    {
     "data": {
      "text/plain": [
       "(100, 100)"
      ]
     },
     "execution_count": 59,
     "metadata": {},
     "output_type": "execute_result"
    }
   ],
   "source": [
    "Z.shape"
   ]
  },
  {
   "cell_type": "code",
   "execution_count": 60,
   "id": "32f47c2d",
   "metadata": {},
   "outputs": [
    {
     "data": {
      "text/plain": [
       "<mpl_toolkits.mplot3d.art3d.Poly3DCollection at 0x2b0f36f9ad0>"
      ]
     },
     "execution_count": 60,
     "metadata": {},
     "output_type": "execute_result"
    }
   ],
   "source": [
    "ax = plt.axes(projection='3d')\n",
    "ax.plot_surface(X, Y, Z, cmap='plasma')"
   ]
  },
  {
   "cell_type": "code",
   "execution_count": 61,
   "id": "6a9ca85e",
   "metadata": {},
   "outputs": [
    {
     "data": {
      "text/plain": [
       "(array([ 9., 23., 14., 27., 16., 26., 18.,  6.,  5.,  6.]),\n",
       " array([4.3 , 4.66, 5.02, 5.38, 5.74, 6.1 , 6.46, 6.82, 7.18, 7.54, 7.9 ]),\n",
       " <BarContainer object of 10 artists>)"
      ]
     },
     "execution_count": 61,
     "metadata": {},
     "output_type": "execute_result"
    }
   ],
   "source": [
    "#HISTOGRAMME\n",
    "#permet de voir la distribution des données avec lesquel on travail\n",
    "\n",
    "plt.hist(x[:,0])\n",
    "#bins = détermine le nombre de section qu'on souhaite avoir dans notre histogramme"
   ]
  },
  {
   "cell_type": "code",
   "execution_count": 62,
   "id": "7cdc8393",
   "metadata": {},
   "outputs": [
    {
     "data": {
      "text/plain": [
       "(array([150.]), array([4.3, 7.9]), <BarContainer object of 1 artists>)"
      ]
     },
     "execution_count": 62,
     "metadata": {},
     "output_type": "execute_result"
    }
   ],
   "source": [
    "\n",
    "plt.hist(x[:,0], bins=1)\n",
    "#bins = détermine le nombre de section qu'on souhaite avoir dans notre histogramme"
   ]
  },
  {
   "cell_type": "code",
   "execution_count": 63,
   "id": "5835f1d8",
   "metadata": {},
   "outputs": [
    {
     "data": {
      "text/plain": [
       "(array([ 4.,  1.,  4.,  2.,  5., 16.,  9.,  4.,  1.,  6., 13.,  8.,  7.,\n",
       "         3.,  6., 10.,  9.,  7.,  5.,  2., 11.,  4.,  1.,  1.,  4.,  1.,\n",
       "         0.,  1.,  4.,  1.]),\n",
       " array([4.3 , 4.42, 4.54, 4.66, 4.78, 4.9 , 5.02, 5.14, 5.26, 5.38, 5.5 ,\n",
       "        5.62, 5.74, 5.86, 5.98, 6.1 , 6.22, 6.34, 6.46, 6.58, 6.7 , 6.82,\n",
       "        6.94, 7.06, 7.18, 7.3 , 7.42, 7.54, 7.66, 7.78, 7.9 ]),\n",
       " <BarContainer object of 30 artists>)"
      ]
     },
     "execution_count": 63,
     "metadata": {},
     "output_type": "execute_result"
    }
   ],
   "source": [
    "\n",
    "\n",
    "plt.hist(x[:,0], bins=30)\n",
    "#bins = détermine le nombre de section qu'on souhaite avoir dans notre histogramme"
   ]
  },
  {
   "cell_type": "code",
   "execution_count": 64,
   "id": "ceb4e962",
   "metadata": {},
   "outputs": [
    {
     "data": {
      "text/plain": [
       "(array([ 1.,  3.,  4.,  3.,  8., 14., 14., 10., 26., 11., 19., 12.,  6.,\n",
       "         4.,  9.,  2.,  1.,  1.,  1.,  1.]),\n",
       " array([2.  , 2.12, 2.24, 2.36, 2.48, 2.6 , 2.72, 2.84, 2.96, 3.08, 3.2 ,\n",
       "        3.32, 3.44, 3.56, 3.68, 3.8 , 3.92, 4.04, 4.16, 4.28, 4.4 ]),\n",
       " <BarContainer object of 20 artists>)"
      ]
     },
     "execution_count": 64,
     "metadata": {},
     "output_type": "execute_result"
    }
   ],
   "source": [
    "\n",
    "\n",
    "\n",
    "plt.hist(x[:,0], bins=20)\n",
    "plt.hist(x[:,1], bins=20)\n",
    "#pour une figure on peut créer 2 histogrammes en même temps"
   ]
  },
  {
   "cell_type": "code",
   "execution_count": 65,
   "id": "141a690a",
   "metadata": {},
   "outputs": [
    {
     "data": {
      "text/plain": [
       "<matplotlib.colorbar.Colorbar at 0x2b0f49ebc90>"
      ]
     },
     "execution_count": 65,
     "metadata": {},
     "output_type": "execute_result"
    }
   ],
   "source": [
    "#on peut également tracer les histogrammes en 2D, pour visualiser la distribution des données lorsqu'elles suivent 2 variables\n",
    "plt.hist2d(x[:,0], x[:,1])\n",
    "plt.xlabel('longueur sépal')\n",
    "plt.ylabel('largeur sépal')\n",
    "#légende qui nous indique à quoi corréspond les différents couleurs\n",
    "plt.colorbar()"
   ]
  },
  {
   "cell_type": "code",
   "execution_count": 66,
   "id": "d8b4a3a2",
   "metadata": {},
   "outputs": [
    {
     "data": {
      "text/plain": [
       "<matplotlib.colorbar.Colorbar at 0x2b0f4e5ea50>"
      ]
     },
     "execution_count": 66,
     "metadata": {},
     "output_type": "execute_result"
    }
   ],
   "source": [
    "\n",
    "plt.hist2d(x[:,0], x[:,1], cmap='Blues')\n",
    "plt.xlabel('longueur sépal')\n",
    "plt.ylabel('largeur sépal')\n",
    "plt.colorbar()"
   ]
  },
  {
   "cell_type": "code",
   "execution_count": 71,
   "id": "050d932f",
   "metadata": {},
   "outputs": [
    {
     "name": "stderr",
     "output_type": "stream",
     "text": [
      "C:\\Users\\JoJo_\\AppData\\Local\\Temp\\ipykernel_9400\\3000436198.py:3: DeprecationWarning: scipy.misc.face has been deprecated in SciPy v1.10.0; and will be completely removed in SciPy v1.12.0. Dataset methods have moved into the scipy.datasets module. Use scipy.datasets.face instead.\n",
      "  face = misc.face(gray=True)\n"
     ]
    }
   ],
   "source": [
    "#l'histogramme d'une analyse d'une image en noir et blanc\n",
    "from scipy import misc\n",
    "face = misc.face(gray=True)\n",
    "#plt.imshow(face, cmap='gray')\n",
    "plt.hist(face.ravel(),bins=255)#RAPPEL: 255 = valeurs de pixel dans une image 0= noir, 255 = blanc\n",
    "#ravel=applatit l'image\n",
    "plt.show()\n",
    "#dans le résultat on voit l'analyse d'apparition des différents couleurs de pixels\n",
    "#majorité entre 100  et 150, beaucoyp dans les noir et peu qui sont clairs"
   ]
  },
  {
   "cell_type": "code",
   "execution_count": 72,
   "id": "e1b508e5",
   "metadata": {},
   "outputs": [
    {
     "data": {
      "text/plain": [
       "<matplotlib.contour.QuadContourSet at 0x2b0f63712d0>"
      ]
     },
     "execution_count": 72,
     "metadata": {},
     "output_type": "execute_result"
    }
   ],
   "source": [
    "#CONTOUR PLOT\n",
    "#Permet un meilleur compréhension pour l'optimisation d'une problème\n",
    "\n",
    "plt.contour(X, Y, Z)"
   ]
  },
  {
   "cell_type": "code",
   "execution_count": 73,
   "id": "011d694b",
   "metadata": {},
   "outputs": [
    {
     "data": {
      "text/plain": [
       "<matplotlib.contour.QuadContourSet at 0x2b0f63c1950>"
      ]
     },
     "execution_count": 73,
     "metadata": {},
     "output_type": "execute_result"
    }
   ],
   "source": [
    "#on peut augmenter le nombre de niveau qui précisent le détails de notre graphique avec le chiffre qui suive\n",
    "#et avec colors \n",
    "plt.contour(X, Y, Z, 20, colors='black')\n",
    "#positif=ligne continue\n",
    "#négatif=ligne petit tirait(ligne discontinue)"
   ]
  },
  {
   "cell_type": "code",
   "execution_count": 74,
   "id": "ac9b9542",
   "metadata": {},
   "outputs": [
    {
     "data": {
      "text/plain": [
       "<matplotlib.colorbar.Colorbar at 0x2b0f6455290>"
      ]
     },
     "execution_count": 74,
     "metadata": {},
     "output_type": "execute_result"
    }
   ],
   "source": [
    "plt.contourf(X, Y, Z, 20, cmap='RdGy')\n",
    "plt.colorbar()\n",
    "#quels sont les valeurs de nos différents gradient sur notre contours plot "
   ]
  },
  {
   "cell_type": "code",
   "execution_count": 75,
   "id": "3362054a",
   "metadata": {
    "scrolled": true
   },
   "outputs": [
    {
     "data": {
      "text/plain": [
       "<matplotlib.image.AxesImage at 0x2b0f64bca90>"
      ]
     },
     "execution_count": 75,
     "metadata": {},
     "output_type": "execute_result"
    }
   ],
   "source": [
    "#IMSHOW (Imageshow)\n",
    "plt.imshow(face)#face=tableau numpy qui continent les différents px de notre image\n",
    "#donc la fonction IMshow permet d'afficher n'importe quel tableau Numpy"
   ]
  },
  {
   "cell_type": "code",
   "execution_count": 76,
   "id": "877b0726",
   "metadata": {},
   "outputs": [
    {
     "data": {
      "text/plain": [
       "<matplotlib.colorbar.Colorbar at 0x2b0f8555f10>"
      ]
     },
     "execution_count": 76,
     "metadata": {},
     "output_type": "execute_result"
    }
   ],
   "source": [
    "#ici on va passer à la matrice pour notre dataset des fleurs iris\n",
    "plt.imshow(np.corrcoef(x.T), cmap='Blues')\n",
    "plt.colorbar()\n"
   ]
  },
  {
   "cell_type": "code",
   "execution_count": 77,
   "id": "f9972d5b",
   "metadata": {},
   "outputs": [
    {
     "name": "stdout",
     "output_type": "stream",
     "text": [
      "[0, 1, 2]\n"
     ]
    }
   ],
   "source": [
    "#Exercice sur les graphiques importantes de matplotlib\n",
    "\n",
    "classes = list(np.unique(y))\n",
    "print(classes)"
   ]
  },
  {
   "cell_type": "code",
   "execution_count": 79,
   "id": "db2febdd",
   "metadata": {},
   "outputs": [],
   "source": [
    "n = x.shape[1]#on enregistre dans le variable n le nombre de colone qu'il y a dans x(la dimension)\n",
    "plt.figure(figsize=(12, 8))\n",
    "for i in range (n):#boucle for qui va faire une itération sur le noimbre de variable qu'on a (n)\n",
    "    plt.subplot(n//2, n//2, i+1)#(//=nombre entier) n diviser par 2 lignes; n diviser par 2 colonnes; graphique i + 1  parcequ'il n'a pas de graphique 0(n)\n",
    "    plt.scatter(x[:, 0], x[:, i], c=y)#je vais plot un abscisse 0 et I pour les ordonner\n",
    "    plt.xlabel('0')\n",
    "    plt.ylabel(i)\n",
    "    #plt.colorbar(ticks=list(np.unique(y)))"
   ]
  },
  {
   "cell_type": "code",
   "execution_count": 80,
   "id": "9c84e0a8",
   "metadata": {},
   "outputs": [],
   "source": [
    "n = x.shape[1]#on enregistre dans le variable n le nombre de colone qu'il y a dans x(la dimension)\n",
    "plt.figure(figsize=(12, 8))\n",
    "for i in range (n):#boucle for qui va faire une itération sur le noimbre de variable qu'on a (n)\n",
    "    plt.subplot(n//2, n//2, i+1)#//=nombre entier; ndiviser par 2 lignes; n diviser par 2 colonnes; graphique i + 1  parcequ'il n'a pas de graphique 0(n)\n",
    "    plt.scatter(x[:, 0], x[:, i], c=y)#je vais plot un abscisse 0 et I pour les ordonner\n",
    "    plt.xlabel('0')\n",
    "    plt.ylabel(i)\n",
    "    plt.colorbar(ticks=list(np.unique(y)))"
   ]
  },
  {
   "cell_type": "code",
   "execution_count": null,
   "id": "0109eca9",
   "metadata": {},
   "outputs": [],
   "source": []
  }
 ],
 "metadata": {
  "kernelspec": {
   "display_name": "Python 3 (ipykernel)",
   "language": "python",
   "name": "python3"
  },
  "language_info": {
   "codemirror_mode": {
    "name": "ipython",
    "version": 3
   },
   "file_extension": ".py",
   "mimetype": "text/x-python",
   "name": "python",
   "nbconvert_exporter": "python",
   "pygments_lexer": "ipython3",
   "version": "3.11.5"
  }
 },
 "nbformat": 4,
 "nbformat_minor": 5
}
