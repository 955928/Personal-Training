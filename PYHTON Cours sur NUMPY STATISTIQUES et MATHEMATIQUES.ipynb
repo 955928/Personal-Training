{
 "cells": [
  {
   "cell_type": "code",
   "execution_count": 1,
   "id": "4a26e2af",
   "metadata": {},
   "outputs": [],
   "source": [
    "#METHODES DE NDARRAY\n",
    "import numpy as np"
   ]
  },
  {
   "cell_type": "code",
   "execution_count": 32,
   "id": "31d3b49f",
   "metadata": {},
   "outputs": [
    {
     "data": {
      "text/plain": [
       "array([[5, 0, 3],\n",
       "       [3, 7, 9]])"
      ]
     },
     "execution_count": 32,
     "metadata": {},
     "output_type": "execute_result"
    }
   ],
   "source": [
    "np.random.seed(0)\n",
    "A = np.random.randint(0, 10, [2, 3])\n",
    "A"
   ]
  },
  {
   "cell_type": "code",
   "execution_count": 33,
   "id": "e4407bde",
   "metadata": {},
   "outputs": [
    {
     "data": {
      "text/plain": [
       "27"
      ]
     },
     "execution_count": 33,
     "metadata": {},
     "output_type": "execute_result"
    }
   ],
   "source": [
    "#faire la somme de tout les éléments\n",
    "A.sum()"
   ]
  },
  {
   "cell_type": "code",
   "execution_count": 34,
   "id": "bfd274de",
   "metadata": {},
   "outputs": [
    {
     "data": {
      "text/plain": [
       "array([ 8,  7, 12])"
      ]
     },
     "execution_count": 34,
     "metadata": {},
     "output_type": "execute_result"
    }
   ],
   "source": [
    "#puis l'utiliser sur un des axes de notre tableau, ici sur l'axe 0 donc (5+3; 0+7; 3+9) de notre trableau précédent\n",
    "\n",
    "A.sum(axis=0)"
   ]
  },
  {
   "cell_type": "code",
   "execution_count": 35,
   "id": "9ff4e511",
   "metadata": {},
   "outputs": [
    {
     "data": {
      "text/plain": [
       "array([ 8, 19])"
      ]
     },
     "execution_count": 35,
     "metadata": {},
     "output_type": "execute_result"
    }
   ],
   "source": [
    "#axis1 ==(5+0+3; 3+7+9)\n",
    "A.sum(axis=1)"
   ]
  },
  {
   "cell_type": "code",
   "execution_count": 36,
   "id": "910bcdb9",
   "metadata": {},
   "outputs": [
    {
     "data": {
      "text/plain": [
       "array([ 5,  5,  8, 11, 18, 27])"
      ]
     },
     "execution_count": 36,
     "metadata": {},
     "output_type": "execute_result"
    }
   ],
   "source": [
    "# la somme cumulé\n",
    "A.cumsum()"
   ]
  },
  {
   "cell_type": "code",
   "execution_count": 37,
   "id": "76bcb7e2",
   "metadata": {},
   "outputs": [
    {
     "data": {
      "text/plain": [
       "0"
      ]
     },
     "execution_count": 37,
     "metadata": {},
     "output_type": "execute_result"
    }
   ],
   "source": [
    "#le produit de A\n",
    "A.prod()"
   ]
  },
  {
   "cell_type": "code",
   "execution_count": 38,
   "id": "73cd4129",
   "metadata": {},
   "outputs": [
    {
     "data": {
      "text/plain": [
       "array([5, 0, 0, 0, 0, 0])"
      ]
     },
     "execution_count": 38,
     "metadata": {},
     "output_type": "execute_result"
    }
   ],
   "source": [
    "#produit cumulé\n",
    "A.cumprod()"
   ]
  },
  {
   "cell_type": "code",
   "execution_count": 39,
   "id": "d845b670",
   "metadata": {},
   "outputs": [
    {
     "data": {
      "text/plain": [
       "0"
      ]
     },
     "execution_count": 39,
     "metadata": {},
     "output_type": "execute_result"
    }
   ],
   "source": [
    "#le minimum\n",
    "A.min()"
   ]
  },
  {
   "cell_type": "code",
   "execution_count": 40,
   "id": "59e32010",
   "metadata": {},
   "outputs": [
    {
     "data": {
      "text/plain": [
       "array([3, 0, 3])"
      ]
     },
     "execution_count": 40,
     "metadata": {},
     "output_type": "execute_result"
    }
   ],
   "source": [
    "#minimum d'un axe(ici on compare toujours nos nombre à la verticale)\n",
    "A.min(axis=0)"
   ]
  },
  {
   "cell_type": "code",
   "execution_count": 41,
   "id": "9208d2dc",
   "metadata": {},
   "outputs": [
    {
     "data": {
      "text/plain": [
       "array([1, 0, 0], dtype=int64)"
      ]
     },
     "execution_count": 41,
     "metadata": {},
     "output_type": "execute_result"
    }
   ],
   "source": [
    "#trouver la position du min\n",
    "A.argmin(axis=0)\n"
   ]
  },
  {
   "cell_type": "code",
   "execution_count": 42,
   "id": "67350022",
   "metadata": {},
   "outputs": [],
   "source": [
    "#argsort() = va nous retourner la façon placer nos différents index afin de trier nos tableaux soit de plus petit au plus grand ou de plus grand au plus petits\n",
    "#il retourne les index dans l'ordre de tri du Tableau A  sans modifier le tableau A(il n'est pas trier)"
   ]
  },
  {
   "cell_type": "code",
   "execution_count": 43,
   "id": "2df82b8f",
   "metadata": {},
   "outputs": [
    {
     "data": {
      "text/plain": [
       "array([[1, 2, 0],\n",
       "       [0, 1, 2]], dtype=int64)"
      ]
     },
     "execution_count": 43,
     "metadata": {},
     "output_type": "execute_result"
    }
   ],
   "source": [
    "A.argsort()\n"
   ]
  },
  {
   "cell_type": "code",
   "execution_count": 44,
   "id": "7f8e42a8",
   "metadata": {},
   "outputs": [
    {
     "data": {
      "text/plain": [
       "array([[1, 0, 0],\n",
       "       [0, 1, 1]], dtype=int64)"
      ]
     },
     "execution_count": 44,
     "metadata": {},
     "output_type": "execute_result"
    }
   ],
   "source": [
    "A.argsort(axis=0)"
   ]
  },
  {
   "cell_type": "code",
   "execution_count": 45,
   "id": "30e70f48",
   "metadata": {},
   "outputs": [
    {
     "data": {
      "text/plain": [
       "array([1, 0, 0], dtype=int64)"
      ]
     },
     "execution_count": 45,
     "metadata": {},
     "output_type": "execute_result"
    }
   ],
   "source": [
    "A.argmin(axis=0)"
   ]
  },
  {
   "cell_type": "code",
   "execution_count": 46,
   "id": "0ae839ee",
   "metadata": {},
   "outputs": [
    {
     "data": {
      "text/plain": [
       "array([[1.48413159e+02, 1.00000000e+00, 2.00855369e+01],\n",
       "       [2.00855369e+01, 1.09663316e+03, 8.10308393e+03]])"
      ]
     },
     "execution_count": 46,
     "metadata": {},
     "output_type": "execute_result"
    }
   ],
   "source": [
    "#pour accéder aux autres fonction en dehors de ndarray\n",
    "#np.exponentielle à l'int. du quel on fait passer notre tableau(on va donc avoir le nombre exp pour chaque nombre à l'int. de notre tableau A)\n",
    "np.exp(A)"
   ]
  },
  {
   "cell_type": "code",
   "execution_count": 47,
   "id": "7473de58",
   "metadata": {},
   "outputs": [
    {
     "name": "stderr",
     "output_type": "stream",
     "text": [
      "C:\\Users\\JoJo_\\AppData\\Local\\Temp\\ipykernel_24540\\1028426564.py:2: RuntimeWarning: divide by zero encountered in log\n",
      "  np.log(A)\n"
     ]
    },
    {
     "data": {
      "text/plain": [
       "array([[1.60943791,       -inf, 1.09861229],\n",
       "       [1.09861229, 1.94591015, 2.19722458]])"
      ]
     },
     "execution_count": 47,
     "metadata": {},
     "output_type": "execute_result"
    }
   ],
   "source": [
    "#erreur parceque l'algorythme de 0 n'existe pas\n",
    "np.log(A)"
   ]
  },
  {
   "cell_type": "code",
   "execution_count": 48,
   "id": "2dc7d169",
   "metadata": {},
   "outputs": [
    {
     "data": {
      "text/plain": [
       "array([[ 0.28366219,  1.        , -0.9899925 ],\n",
       "       [-0.9899925 ,  0.75390225, -0.91113026]])"
      ]
     },
     "execution_count": 48,
     "metadata": {},
     "output_type": "execute_result"
    }
   ],
   "source": [
    "#cosinus\n",
    "np.cos(A)"
   ]
  },
  {
   "cell_type": "code",
   "execution_count": 49,
   "id": "aad00346",
   "metadata": {},
   "outputs": [
    {
     "data": {
      "text/plain": [
       "array([[-0.95892427,  0.        ,  0.14112001],\n",
       "       [ 0.14112001,  0.6569866 ,  0.41211849]])"
      ]
     },
     "execution_count": 49,
     "metadata": {},
     "output_type": "execute_result"
    }
   ],
   "source": [
    "#sinus\n",
    "np.sin(A)"
   ]
  },
  {
   "cell_type": "code",
   "execution_count": 50,
   "id": "0d0045cb",
   "metadata": {},
   "outputs": [
    {
     "data": {
      "text/plain": [
       "array([[  74.20321058,    0.        ,   10.01787493],\n",
       "       [  10.01787493,  548.31612327, 4051.54190208]])"
      ]
     },
     "execution_count": 50,
     "metadata": {},
     "output_type": "execute_result"
    }
   ],
   "source": [
    "#sinus hyperbolique\n",
    "np.sinh(A)"
   ]
  },
  {
   "cell_type": "code",
   "execution_count": 51,
   "id": "a264a302",
   "metadata": {},
   "outputs": [],
   "source": [
    "#Statistiques avec Numpy\n"
   ]
  },
  {
   "cell_type": "code",
   "execution_count": 52,
   "id": "7c4a589d",
   "metadata": {},
   "outputs": [
    {
     "data": {
      "text/plain": [
       "array([[5, 0, 3],\n",
       "       [3, 7, 9]])"
      ]
     },
     "execution_count": 52,
     "metadata": {},
     "output_type": "execute_result"
    }
   ],
   "source": [
    "A"
   ]
  },
  {
   "cell_type": "code",
   "execution_count": 53,
   "id": "a843b4c3",
   "metadata": {},
   "outputs": [
    {
     "data": {
      "text/plain": [
       "4.5"
      ]
     },
     "execution_count": 53,
     "metadata": {},
     "output_type": "execute_result"
    }
   ],
   "source": [
    "#la moyenne(méthodes de numpy)\n",
    "A.mean()"
   ]
  },
  {
   "cell_type": "code",
   "execution_count": 54,
   "id": "dd792a5a",
   "metadata": {},
   "outputs": [
    {
     "data": {
      "text/plain": [
       "2.9297326385411577"
      ]
     },
     "execution_count": 54,
     "metadata": {},
     "output_type": "execute_result"
    }
   ],
   "source": [
    "#l'écart type  de notre tableau ; fait partie des méthodes qu'ona sur l'objet NUMPY\n",
    "A.std()"
   ]
  },
  {
   "cell_type": "code",
   "execution_count": 55,
   "id": "ec7cec5b",
   "metadata": {},
   "outputs": [
    {
     "data": {
      "text/plain": [
       "8.583333333333334"
      ]
     },
     "execution_count": 55,
     "metadata": {},
     "output_type": "execute_result"
    }
   ],
   "source": [
    "#LA VARIANCE(méthodes de numpy)\n",
    "A.var()"
   ]
  },
  {
   "cell_type": "code",
   "execution_count": 56,
   "id": "b756d505",
   "metadata": {},
   "outputs": [],
   "source": [
    "#Corrélation coefficient = une fonction numpy qui permet de tracer une matrice de corrélation pour notre tableau A\n",
    "#on va comprendre les corrélations qu'il ya entre les différents lignes/colonnes (en fonction de l'axe choisi dans notre tableau A)\n",
    "#ou mêmes entre les différents lignes / colonnes de n'importe quel tableau différents dans numpy"
   ]
  },
  {
   "cell_type": "code",
   "execution_count": 57,
   "id": "9c73a3b5",
   "metadata": {},
   "outputs": [
    {
     "data": {
      "text/plain": [
       "array([[ 1.        , -0.56362148],\n",
       "       [-0.56362148,  1.        ]])"
      ]
     },
     "execution_count": 57,
     "metadata": {},
     "output_type": "execute_result"
    }
   ],
   "source": [
    "#indique la corrélation qui existent entre les différents lignes de A\n",
    "np.corrcoef(A)"
   ]
  },
  {
   "cell_type": "code",
   "execution_count": 58,
   "id": "89035886",
   "metadata": {},
   "outputs": [
    {
     "data": {
      "text/plain": [
       "-0.5636214801906779"
      ]
     },
     "execution_count": 58,
     "metadata": {},
     "output_type": "execute_result"
    }
   ],
   "source": [
    "#accéder au nombre d'en haut à droite, donc a la premiière ligne 0 et deuxième colonne 1\n",
    "np.corrcoef(A) [0, 1]"
   ]
  },
  {
   "cell_type": "code",
   "execution_count": 59,
   "id": "2375604a",
   "metadata": {},
   "outputs": [
    {
     "data": {
      "text/plain": [
       "(array([0, 3, 5, 7, 9]), array([1, 2, 1, 1, 1], dtype=int64))"
      ]
     },
     "execution_count": 59,
     "metadata": {},
     "output_type": "execute_result"
    }
   ],
   "source": [
    "#on va maintenant trouver  le nombre de fois qu'un élément de notre tableau numpy se répète \n",
    "#np.unique nous retourne les différents entités dans notre tableau et à la fois les répétitions pour chacune de ces entités \n",
    "\n",
    "\n",
    "np.unique(A, return_counts=True)\n",
    "#on aurait donc 2 tableaux numpy. le 1er: les différents entités qu'on a dans notre tableau puis le deuxième le nombre de répétition de chacune de ces entités"
   ]
  },
  {
   "cell_type": "code",
   "execution_count": 60,
   "id": "ccc6fbd3",
   "metadata": {},
   "outputs": [
    {
     "data": {
      "text/plain": [
       "array([[5, 0, 3, 3, 7],\n",
       "       [9, 3, 5, 2, 4],\n",
       "       [7, 6, 8, 8, 1],\n",
       "       [6, 7, 7, 8, 1],\n",
       "       [5, 9, 8, 9, 4]])"
      ]
     },
     "execution_count": 60,
     "metadata": {},
     "output_type": "execute_result"
    }
   ],
   "source": [
    "np.random.seed(0)\n",
    "B = np.random.randint(0, 10, [5, 5])\n",
    "B"
   ]
  },
  {
   "cell_type": "code",
   "execution_count": 61,
   "id": "feb7a75b",
   "metadata": {},
   "outputs": [
    {
     "data": {
      "text/plain": [
       "(array([0, 1, 2, 3, 4, 5, 6, 7, 8, 9]),\n",
       " array([1, 2, 1, 3, 2, 3, 2, 4, 4, 3], dtype=int64))"
      ]
     },
     "execution_count": 61,
     "metadata": {},
     "output_type": "execute_result"
    }
   ],
   "source": [
    "np.unique(B, return_counts=True)"
   ]
  },
  {
   "cell_type": "code",
   "execution_count": 62,
   "id": "b599ea23",
   "metadata": {},
   "outputs": [],
   "source": [
    "#maintenant on va arrnger ces tableaux dans une variable\n",
    "#'values' égale au 1er tableau et 'counts' au 2eme\n",
    "\n",
    "values, counts = np.unique(B, return_counts=True)"
   ]
  },
  {
   "cell_type": "code",
   "execution_count": 63,
   "id": "646c5503",
   "metadata": {},
   "outputs": [
    {
     "data": {
      "text/plain": [
       "array([1, 2, 1, 3, 2, 3, 2, 4, 4, 3], dtype=int64)"
      ]
     },
     "execution_count": 63,
     "metadata": {},
     "output_type": "execute_result"
    }
   ],
   "source": [
    "counts"
   ]
  },
  {
   "cell_type": "code",
   "execution_count": 64,
   "id": "cf3d286b",
   "metadata": {},
   "outputs": [
    {
     "data": {
      "text/plain": [
       "array([0, 2, 1, 4, 6, 3, 5, 9, 7, 8], dtype=int64)"
      ]
     },
     "execution_count": 64,
     "metadata": {},
     "output_type": "execute_result"
    }
   ],
   "source": [
    "#le but serait de classer nos variables pour savoir quel sont les éléments qui apparaissent le +/- souvent dans notre dataset  \n",
    "#ici argsort nous donne un tableau des différents index qui permet de trier 'counts'.\n",
    "#ici on a les index trier du plus petit au plus gros\n",
    "counts.argsort()"
   ]
  },
  {
   "cell_type": "code",
   "execution_count": 65,
   "id": "b7d1286c",
   "metadata": {},
   "outputs": [
    {
     "data": {
      "text/plain": [
       "array([0, 2, 1, 4, 6, 3, 5, 9, 7, 8])"
      ]
     },
     "execution_count": 65,
     "metadata": {},
     "output_type": "execute_result"
    }
   ],
   "source": [
    "#on va injecter tout ces index dans un tableau values, et ca va donc retrier values\n",
    "\n",
    "values[counts.argsort()]\n",
    "#ici le nombre qui apparait le plus souvent c'est le nombre 8"
   ]
  },
  {
   "cell_type": "code",
   "execution_count": 72,
   "id": "16168c6f",
   "metadata": {},
   "outputs": [
    {
     "name": "stdout",
     "output_type": "stream",
     "text": [
      "valeur 0 apparait 1\n",
      "valeur 2 apparait 1\n",
      "valeur 1 apparait 2\n",
      "valeur 4 apparait 2\n",
      "valeur 6 apparait 2\n",
      "valeur 3 apparait 3\n",
      "valeur 5 apparait 3\n",
      "valeur 9 apparait 3\n",
      "valeur 7 apparait 4\n",
      "valeur 8 apparait 4\n"
     ]
    }
   ],
   "source": [
    "#counts[counts.argsort()] = permet d'indirectement trier counts\n",
    "\n",
    "for i, j in zip(values[counts.argsort()], counts[counts.argsort()]):\n",
    "    print(f'valeur {i} apparait {j}')"
   ]
  },
  {
   "cell_type": "code",
   "execution_count": 73,
   "id": "de733774",
   "metadata": {},
   "outputs": [
    {
     "data": {
      "text/plain": [
       "array([[ 0.44386323,  0.33367433,         nan, -0.20515826,  0.3130677 ],\n",
       "       [-0.85409574, -2.55298982,  0.6536186 ,  0.8644362 , -0.74216502],\n",
       "       [ 2.26975462, -1.45436567,  0.04575852, -0.18718385,  1.53277921],\n",
       "       [ 1.46935877,  0.15494743,  0.37816252, -0.88778575, -1.98079647],\n",
       "       [-0.34791215,  0.15634897,  1.23029068,         nan, -0.38732682]])"
      ]
     },
     "execution_count": 73,
     "metadata": {},
     "output_type": "execute_result"
    }
   ],
   "source": [
    "#NAN CORRECTIONS = (\"not a number\" correction)\n",
    "\n",
    "A = np.random.randn(5, 5)\n",
    "A[0, 2] = np.nan\n",
    "A[4, 3] = np.nan\n",
    "A"
   ]
  },
  {
   "cell_type": "code",
   "execution_count": 74,
   "id": "81e94d0f",
   "metadata": {},
   "outputs": [
    {
     "data": {
      "text/plain": [
       "nan"
      ]
     },
     "execution_count": 74,
     "metadata": {},
     "output_type": "execute_result"
    }
   ],
   "source": [
    "A.mean()"
   ]
  },
  {
   "cell_type": "code",
   "execution_count": 75,
   "id": "0700ad82",
   "metadata": {},
   "outputs": [
    {
     "data": {
      "text/plain": [
       "0.010707879575141632"
      ]
     },
     "execution_count": 75,
     "metadata": {},
     "output_type": "execute_result"
    }
   ],
   "source": [
    "#il existe des fonctions qui permettent d'ignororer des entités NAN lors son exécution\n",
    "np.nanmean(A)"
   ]
  },
  {
   "cell_type": "code",
   "execution_count": 76,
   "id": "820ef752",
   "metadata": {},
   "outputs": [
    {
     "data": {
      "text/plain": [
       "1.213857100788078"
      ]
     },
     "execution_count": 76,
     "metadata": {},
     "output_type": "execute_result"
    }
   ],
   "source": [
    "np.nanvar(A)"
   ]
  },
  {
   "cell_type": "code",
   "execution_count": 77,
   "id": "87e265cd",
   "metadata": {},
   "outputs": [
    {
     "data": {
      "text/plain": [
       "1.1017518326683546"
      ]
     },
     "execution_count": 77,
     "metadata": {},
     "output_type": "execute_result"
    }
   ],
   "source": [
    "np.nanstd(A)"
   ]
  },
  {
   "cell_type": "code",
   "execution_count": 78,
   "id": "98383c05",
   "metadata": {},
   "outputs": [
    {
     "data": {
      "text/plain": [
       "array([[False, False,  True, False, False],\n",
       "       [False, False, False, False, False],\n",
       "       [False, False, False, False, False],\n",
       "       [False, False, False, False, False],\n",
       "       [False, False, False,  True, False]])"
      ]
     },
     "execution_count": 78,
     "metadata": {},
     "output_type": "execute_result"
    }
   ],
   "source": [
    "#ici on va compter le nombre de fois qu'apparraise l'entité NAN dans notre tableau\n",
    "\n",
    "np.isnan(A)\n",
    "#True dans notre masque Boolean signifie la présence de NAN"
   ]
  },
  {
   "cell_type": "code",
   "execution_count": 79,
   "id": "4ddad940",
   "metadata": {},
   "outputs": [
    {
     "data": {
      "text/plain": [
       "2"
      ]
     },
     "execution_count": 79,
     "metadata": {},
     "output_type": "execute_result"
    }
   ],
   "source": [
    "np.isnan(A).sum()\n",
    "#dans  tout le tableau numpy y'a 2 fois NAN"
   ]
  },
  {
   "cell_type": "code",
   "execution_count": 80,
   "id": "801b8c01",
   "metadata": {},
   "outputs": [
    {
     "data": {
      "text/plain": [
       "0.08"
      ]
     },
     "execution_count": 80,
     "metadata": {},
     "output_type": "execute_result"
    }
   ],
   "source": [
    "#pour conaître le rapport de NAN que l'on a et toute la taille de notre tableau\n",
    "#on va diviser par la taille de notre tableau en utilisant l'attribu 'size'\n",
    "np.isnan(A).sum()/A.size\n",
    "\n",
    "#on a 8% de tout le tableau qui est un NAN"
   ]
  },
  {
   "cell_type": "code",
   "execution_count": 83,
   "id": "afde3048",
   "metadata": {},
   "outputs": [
    {
     "data": {
      "text/plain": [
       "array([[ 0.44386323,  0.33367433,  0.        , -0.20515826,  0.3130677 ],\n",
       "       [-0.85409574, -2.55298982,  0.6536186 ,  0.8644362 , -0.74216502],\n",
       "       [ 2.26975462, -1.45436567,  0.04575852, -0.18718385,  1.53277921],\n",
       "       [ 1.46935877,  0.15494743,  0.37816252, -0.88778575, -1.98079647],\n",
       "       [-0.34791215,  0.15634897,  1.23029068,  0.        , -0.38732682]])"
      ]
     },
     "execution_count": 83,
     "metadata": {},
     "output_type": "execute_result"
    }
   ],
   "source": [
    "#on va débarrasser de NAN dans un tableau numpy en utilisant \"BOOLEAN INDEXING\" de numpy\n",
    "\n",
    "\n",
    "A[np.isnan(A)] = 0\n",
    "\n",
    "#on va injecter le masque dans notre tableau A puis est égale à une valeur par défaut par exemple 0\n",
    "#dans le résultat le 0 va donc remplacer le NAN\n",
    "\n",
    "A"
   ]
  },
  {
   "cell_type": "code",
   "execution_count": 85,
   "id": "0c4114fa",
   "metadata": {},
   "outputs": [
    {
     "data": {
      "text/plain": [
       "array([[1., 1., 1.],\n",
       "       [1., 1., 1.]])"
      ]
     },
     "execution_count": 85,
     "metadata": {},
     "output_type": "execute_result"
    }
   ],
   "source": [
    "#Algèbre LINEAIRESPARTIE DU COURS OPTIONNEL ET PAS LE PLUS IMPORTANT EN DATA SCIENCE\n",
    "\n",
    "A = np.ones((2, 3))\n",
    "B = np.ones((3, 2))\n",
    "\n",
    "A"
   ]
  },
  {
   "cell_type": "code",
   "execution_count": 86,
   "id": "a871a727",
   "metadata": {},
   "outputs": [
    {
     "data": {
      "text/plain": [
       "array([[1., 1.],\n",
       "       [1., 1.],\n",
       "       [1., 1.]])"
      ]
     },
     "execution_count": 86,
     "metadata": {},
     "output_type": "execute_result"
    }
   ],
   "source": [
    "B"
   ]
  },
  {
   "cell_type": "code",
   "execution_count": 87,
   "id": "472f0020",
   "metadata": {},
   "outputs": [
    {
     "data": {
      "text/plain": [
       "array([[1., 1.],\n",
       "       [1., 1.],\n",
       "       [1., 1.]])"
      ]
     },
     "execution_count": 87,
     "metadata": {},
     "output_type": "execute_result"
    }
   ],
   "source": [
    "#Ici on cherche l'attribut T de transposer une autre matrice(ici de A à B)\n",
    "\n",
    "A.T"
   ]
  },
  {
   "cell_type": "code",
   "execution_count": 88,
   "id": "d3dcdda0",
   "metadata": {},
   "outputs": [
    {
     "data": {
      "text/plain": [
       "(3, 2)"
      ]
     },
     "execution_count": 88,
     "metadata": {},
     "output_type": "execute_result"
    }
   ],
   "source": [
    "A.T.shape\n"
   ]
  },
  {
   "cell_type": "code",
   "execution_count": 89,
   "id": "27b0807c",
   "metadata": {},
   "outputs": [
    {
     "data": {
      "text/plain": [
       "array([[3., 3.],\n",
       "       [3., 3.]])"
      ]
     },
     "execution_count": 89,
     "metadata": {},
     "output_type": "execute_result"
    }
   ],
   "source": [
    "#Maintenant on va faire un produit matricielle entre A et B ave la méthode \".dot\"\n",
    "A.dot(B)"
   ]
  },
  {
   "cell_type": "code",
   "execution_count": 90,
   "id": "637bd760",
   "metadata": {},
   "outputs": [
    {
     "data": {
      "text/plain": [
       "array([[2., 2., 2.],\n",
       "       [2., 2., 2.],\n",
       "       [2., 2., 2.]])"
      ]
     },
     "execution_count": 90,
     "metadata": {},
     "output_type": "execute_result"
    }
   ],
   "source": [
    "B.dot(A)"
   ]
  },
  {
   "cell_type": "code",
   "execution_count": 231,
   "id": "a1ded995",
   "metadata": {},
   "outputs": [
    {
     "data": {
      "text/plain": [
       "array([[3, 1, 0],\n",
       "       [1, 0, 8],\n",
       "       [8, 5, 3]])"
      ]
     },
     "execution_count": 231,
     "metadata": {},
     "output_type": "execute_result"
    }
   ],
   "source": [
    "A = np.random.randint(0, 10, [3, 3])\n",
    "\n",
    "A\n"
   ]
  },
  {
   "cell_type": "code",
   "execution_count": 232,
   "id": "d2c46206",
   "metadata": {},
   "outputs": [
    {
     "data": {
      "text/plain": [
       "-58.999999999999964"
      ]
     },
     "execution_count": 232,
     "metadata": {},
     "output_type": "execute_result"
    }
   ],
   "source": [
    "np.linalg.det(A)"
   ]
  },
  {
   "cell_type": "code",
   "execution_count": 233,
   "id": "72133f14",
   "metadata": {},
   "outputs": [
    {
     "data": {
      "text/plain": [
       "array([[ 0.6779661 ,  0.05084746, -0.13559322],\n",
       "       [-1.03389831, -0.15254237,  0.40677966],\n",
       "       [-0.08474576,  0.11864407,  0.01694915]])"
      ]
     },
     "execution_count": 233,
     "metadata": {},
     "output_type": "execute_result"
    }
   ],
   "source": [
    "#retourne l'inverse de notre matrice\n",
    "np.linalg.inv(A)\n"
   ]
  },
  {
   "cell_type": "code",
   "execution_count": 235,
   "id": "cf307074",
   "metadata": {},
   "outputs": [
    {
     "data": {
      "text/plain": [
       "array([[ 0.6779661 ,  0.05084746, -0.13559322],\n",
       "       [-1.03389831, -0.15254237,  0.40677966],\n",
       "       [-0.08474576,  0.11864407,  0.01694915]])"
      ]
     },
     "execution_count": 235,
     "metadata": {},
     "output_type": "execute_result"
    }
   ],
   "source": [
    "#souvent en data science, les combinaisons linéaires peut empecher l'inversion donc on peut utiliser la fonction pseudo inverse \"pinv()\"\n",
    "#avec quleque différences qu'il va falloir connaitre\n",
    "np.linalg.pinv(A)"
   ]
  },
  {
   "cell_type": "code",
   "execution_count": 236,
   "id": "137f9b8a",
   "metadata": {},
   "outputs": [
    {
     "data": {
      "text/plain": [
       "(array([ 8.86011467,  1.52021723, -4.3803319 ]),\n",
       " array([[-0.11481653, -0.54597106,  0.11884177],\n",
       "        [-0.67283801,  0.80791857, -0.87709169],\n",
       "        [-0.73082568,  0.22177285,  0.46538887]]))"
      ]
     },
     "execution_count": 236,
     "metadata": {},
     "output_type": "execute_result"
    }
   ],
   "source": [
    "#Prinicipal Component Analysis = utilise les valeurs/vecteurs propres(réduction de dimension)\n",
    "np.linalg.eig(A)\n",
    "#1ere tableau = les 3 valeurs propres\n",
    "#2eme tableau = nos 3 vecteurs propres "
   ]
  }
 ],
 "metadata": {
  "kernelspec": {
   "display_name": "Python 3 (ipykernel)",
   "language": "python",
   "name": "python3"
  },
  "language_info": {
   "codemirror_mode": {
    "name": "ipython",
    "version": 3
   },
   "file_extension": ".py",
   "mimetype": "text/x-python",
   "name": "python",
   "nbconvert_exporter": "python",
   "pygments_lexer": "ipython3",
   "version": "3.11.5"
  }
 },
 "nbformat": 4,
 "nbformat_minor": 5
}
