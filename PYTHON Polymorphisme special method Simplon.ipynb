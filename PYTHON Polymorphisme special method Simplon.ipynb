{
 "cells": [
  {
   "cell_type": "code",
   "execution_count": 1,
   "id": "1f115fef",
   "metadata": {},
   "outputs": [],
   "source": [
    "class ItemBibliothèque:\n",
    "    def __init__(self, titre, date_publication):\n",
    "        self.titre = titre\n",
    "        self.date_publication = date_publication\n",
    "\n",
    "class Livre(ItemBibliothèque):\n",
    "    def __init__(self, titre, date_publication, auteur, ISBN):\n",
    "        ItemBibliothèque.__init__(self, titre, date_publication) # Extension de la méthode __init__ de la classe parente\n",
    "        self.auteur = auteur\n",
    "        self.ISBN = ISBN\n",
    "\n",
    "class Magazine(ItemBibliothèque):\n",
    "    def __init__(self, titre, date_publication, editeur, numero_edition):\n",
    "        ItemBibliothèque.__init__(self, titre, date_publication) # Extension de la méthode __init__ de la classe parente\n",
    "        self.editeur = editeur\n",
    "        self.numero_edition = numero_edition\n",
    "\n",
    "class Utilisateur:\n",
    "    def __init__(self, nom, numero_id):\n",
    "        self.nom = nom\n",
    "        self.numero_id = numero_id\n",
    "        self.emprunts = []\n",
    "\n",
    "    def emprunter(self, item):\n",
    "        self.emprunts.append(item)"
   ]
  },
  {
   "cell_type": "code",
   "execution_count": 2,
   "id": "fa051343",
   "metadata": {},
   "outputs": [],
   "source": [
    "class ItemBibliothèque:\n",
    "    def __init__(self, titre, date_publication):\n",
    "        self.titre = titre\n",
    "        self.date_publication = date_publication\n",
    "\n",
    "    def description(self):\n",
    "        return f\"Titre: {self.titre}, Date de publication: {self.date_publication}\"\n",
    "\n",
    "class Livre(ItemBibliothèque):\n",
    "    def __init__(self, titre, date_publication, auteur, ISBN):\n",
    "        ItemBibliothèque.__init__(self, titre, date_publication)\n",
    "        self.auteur = auteur\n",
    "        self.ISBN = ISBN\n",
    "\n",
    "    def description(self):  # Cette méthode surcharge la méthode parente\n",
    "        base_desc = super().description()  # Utilise la méthode 'description' de la classe parente\n",
    "        return f\"{base_desc}, Auteur: {self.auteur}, ISBN: {self.ISBN}\"\n",
    "\n",
    "class Magazine(ItemBibliothèque):\n",
    "    def __init__(self, titre, date_publication, editeur, numero_edition):\n",
    "        ItemBibliothèque.__init__(self, titre, date_publication)\n",
    "        self.editeur = editeur\n",
    "        self.numero_edition = numero_edition\n",
    "\n",
    "    def description(self):  # Cette méthode surcharge aussi la méthode parente\n",
    "        base_desc = super().description()  # Utilise la méthode 'description' de la classe parente\n",
    "        return f\"{base_desc}, Éditeur: {self.editeur}, Édition: {self.numero_edition}\""
   ]
  },
  {
   "cell_type": "code",
   "execution_count": 3,
   "id": "8e84341b",
   "metadata": {},
   "outputs": [
    {
     "name": "stdout",
     "output_type": "stream",
     "text": [
      "Titre: L'Étranger, Date de publication: 1942, Auteur: Albert Camus, ISBN: 123456789\n",
      "Titre: ScienceActu, Date de publication: 2022, Éditeur: Éditions Sci, Édition: 42\n"
     ]
    }
   ],
   "source": [
    "items = [Livre(\"L'Étranger\", \"1942\", \"Albert Camus\", \"123456789\"),\n",
    "         Magazine(\"ScienceActu\", \"2022\", \"Éditions Sci\", \"42\")]\n",
    "\n",
    "for item in items:\n",
    "    print(item.description())  # Le polymorphisme en action!"
   ]
  },
  {
   "cell_type": "code",
   "execution_count": 4,
   "id": "83e6e13c",
   "metadata": {},
   "outputs": [],
   "source": [
    "class Véhicule:\n",
    "    def démarrer(self):\n",
    "        return \"Le véhicule démarre.\"\n",
    "\n",
    "class Voiture(Véhicule):\n",
    "    def démarrer(self):\n",
    "        étape_base = super().démarrer()  # Utilisation de super pour appeler la méthode de la classe parente\n",
    "        return f\"{étape_base} Les ceintures sont bouclées.\""
   ]
  },
  {
   "cell_type": "code",
   "execution_count": 5,
   "id": "fff46b68",
   "metadata": {},
   "outputs": [],
   "source": [
    "class Rectangle:\n",
    "    def __init__(self, longueur, largeur):\n",
    "        self.longueur = longueur\n",
    "        self.largeur = largeur\n",
    "\n",
    "    def aire(self):\n",
    "        return self.longueur * self.largeur\n",
    "\n",
    "class Carré(Rectangle):\n",
    "    def __init__(self, côté):\n",
    "        super().__init__(côté, côté)  # Utilisation de super pour initialiser le carré comme un rectangle avec des côtés égaux"
   ]
  },
  {
   "cell_type": "code",
   "execution_count": 6,
   "id": "aa508d90",
   "metadata": {},
   "outputs": [
    {
     "name": "stdout",
     "output_type": "stream",
     "text": [
      "<__main__.Livre object at 0x000001DF234C8990>\n"
     ]
    }
   ],
   "source": [
    "class Livre:\n",
    "    def __init__(self, titre, auteur):\n",
    "        self.titre = titre\n",
    "        self.auteur = auteur\n",
    "\n",
    "livre1 = Livre(\"1984\", \"George Orwell\")\n",
    "print(livre1)  # Renvoie: <__main__.Livre object at 0x7f5d2f33d150>"
   ]
  },
  {
   "cell_type": "code",
   "execution_count": 7,
   "id": "963a2fd7",
   "metadata": {},
   "outputs": [
    {
     "name": "stdout",
     "output_type": "stream",
     "text": [
      "'1984' de George Orwell\n",
      "Livre('1984', 'George Orwell')\n"
     ]
    }
   ],
   "source": [
    "class Livre:\n",
    "    def __init__(self, titre, auteur):\n",
    "        self.titre = titre\n",
    "        self.auteur = auteur\n",
    "\n",
    "    def __str__(self):\n",
    "        return f\"'{self.titre}' de {self.auteur}\"\n",
    "\n",
    "    def __repr__(self):\n",
    "        return f\"Livre('{self.titre}', '{self.auteur}')\"\n",
    "\n",
    "livre1 = Livre(\"1984\", \"George Orwell\")\n",
    "\n",
    "print(livre1)           # Utilise __str__ : '1984' de George Orwell\n",
    "print(repr(livre1))     # Utilise __repr__ : Livre('1984', 'George Orwell')"
   ]
  },
  {
   "cell_type": "code",
   "execution_count": 8,
   "id": "0fd6be4f",
   "metadata": {},
   "outputs": [
    {
     "name": "stdout",
     "output_type": "stream",
     "text": [
      "3\n"
     ]
    }
   ],
   "source": [
    "x = 1\n",
    "resultat = eval(\"x + 2\")\n",
    "print(resultat)  # Affiche: 3"
   ]
  },
  {
   "cell_type": "code",
   "execution_count": 9,
   "id": "cd774710",
   "metadata": {},
   "outputs": [],
   "source": [
    "class Livre:\n",
    "    def __init__(self, titre, auteur):\n",
    "        self.titre = titre\n",
    "        self.auteur = auteur\n",
    "\n",
    "    def __repr__(self):\n",
    "        return f\"Livre('{self.titre}', '{self.auteur}')\""
   ]
  },
  {
   "cell_type": "code",
   "execution_count": 10,
   "id": "eb61ceb9",
   "metadata": {},
   "outputs": [],
   "source": [
    "class Livre:\n",
    "    def __init__(self, titre, auteur):\n",
    "        self.titre = titre\n",
    "        self.auteur = auteur\n",
    "\n",
    "    def __repr__(self):\n",
    "        return f\"Livre('{self.titre}', '{self.auteur}')\""
   ]
  },
  {
   "cell_type": "code",
   "execution_count": 11,
   "id": "ffe7f766",
   "metadata": {},
   "outputs": [],
   "source": [
    "livre1 = Livre(\"1984\", \"George Orwell\")"
   ]
  },
  {
   "cell_type": "code",
   "execution_count": 12,
   "id": "a7923a2c",
   "metadata": {},
   "outputs": [
    {
     "name": "stdout",
     "output_type": "stream",
     "text": [
      "Livre('1984', 'George Orwell')\n"
     ]
    }
   ],
   "source": [
    "representation = repr(livre1)\n",
    "print(representation)  # Affiche: Livre('1984', 'George Orwell')"
   ]
  },
  {
   "cell_type": "code",
   "execution_count": 13,
   "id": "1eeee6f4",
   "metadata": {},
   "outputs": [
    {
     "name": "stdout",
     "output_type": "stream",
     "text": [
      "1984\n"
     ]
    }
   ],
   "source": [
    "livre2 = eval(representation)\n",
    "print(livre2.titre)    # Affiche: 1984"
   ]
  },
  {
   "cell_type": "code",
   "execution_count": null,
   "id": "0a0ce414",
   "metadata": {},
   "outputs": [],
   "source": []
  }
 ],
 "metadata": {
  "kernelspec": {
   "display_name": "Python 3 (ipykernel)",
   "language": "python",
   "name": "python3"
  },
  "language_info": {
   "codemirror_mode": {
    "name": "ipython",
    "version": 3
   },
   "file_extension": ".py",
   "mimetype": "text/x-python",
   "name": "python",
   "nbconvert_exporter": "python",
   "pygments_lexer": "ipython3",
   "version": "3.11.5"
  }
 },
 "nbformat": 4,
 "nbformat_minor": 5
}
