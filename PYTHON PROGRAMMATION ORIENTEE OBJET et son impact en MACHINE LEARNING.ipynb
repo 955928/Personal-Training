{
 "cells": [
  {
   "cell_type": "code",
   "execution_count": 1,
   "id": "7bd28965",
   "metadata": {},
   "outputs": [],
   "source": [
    "#POO: paradigme du monde de la programmamtion(une vision du monde, que l'on utilise lorsqu'on veut écrire des programmes pour résoudre des problèmes)\n",
    "#On considère que notre univers est rempli ,d'objet eg livre, bureau, ordinateur, et on peut les caractériser par des ATTRIBUTS\n",
    "#Les attributs sont les qualification d'un objet comme la couleur/ marque /masse/encre d'un stylo par exemple.\n",
    "#Les actions sont ce que des objets pourront effectuer comme écrire / effacer avec un crayon par exemple.\n",
    "#Les actions = Méthodes\n",
    "#Les actions peuvent donc modifier les attributs d'un objet comme si on écrit avec le stylo(action), l'encre diminuera(attribut)\n",
    "\n",
    "#POO c'est parallel au langage Humain (des noms = objets, adjective = attributs, verbe = act\n",
    "\n",
    "#Class: plan de conception qui permet de créer pleins d'objets du même type/class exempl: stylo sera la class"
   ]
  },
  {
   "cell_type": "code",
   "execution_count": 2,
   "id": "ec48b133",
   "metadata": {},
   "outputs": [],
   "source": [
    "#numpy.ndarray = une class qui nous permet à créer des objets qui sont des tableaux à n dimension.\n",
    "#Le constructeur =  dans la classe ndarray,\"array\"  nous permet de créer un objet de la classe"
   ]
  },
  {
   "cell_type": "code",
   "execution_count": 7,
   "id": "880f65d9",
   "metadata": {},
   "outputs": [],
   "source": [
    "import numpy as np\n",
    "\n",
    "tableau = np.array([1, 2, 3])"
   ]
  },
  {
   "cell_type": "code",
   "execution_count": 8,
   "id": "13c1c25a",
   "metadata": {},
   "outputs": [
    {
     "name": "stdout",
     "output_type": "stream",
     "text": [
      "3\n"
     ]
    }
   ],
   "source": [
    "print(tableau.size)"
   ]
  },
  {
   "cell_type": "code",
   "execution_count": null,
   "id": "64541e0d",
   "metadata": {},
   "outputs": [],
   "source": []
  }
 ],
 "metadata": {
  "kernelspec": {
   "display_name": "Python 3 (ipykernel)",
   "language": "python",
   "name": "python3"
  },
  "language_info": {
   "codemirror_mode": {
    "name": "ipython",
    "version": 3
   },
   "file_extension": ".py",
   "mimetype": "text/x-python",
   "name": "python",
   "nbconvert_exporter": "python",
   "pygments_lexer": "ipython3",
   "version": "3.11.5"
  }
 },
 "nbformat": 4,
 "nbformat_minor": 5
}
