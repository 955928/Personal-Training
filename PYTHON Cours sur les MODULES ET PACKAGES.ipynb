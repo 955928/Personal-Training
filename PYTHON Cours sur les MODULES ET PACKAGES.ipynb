{
 "cells": [
  {
   "cell_type": "code",
   "execution_count": 55,
   "id": "0206e4ad",
   "metadata": {},
   "outputs": [],
   "source": [
    "#utilise spyder pour voir les résultat\n",
    "import module_1\n",
    "\n",
    "liste_1 = module_1.fibonacci(50)"
   ]
  },
  {
   "cell_type": "code",
   "execution_count": 62,
   "id": "99d70b19",
   "metadata": {},
   "outputs": [],
   "source": [
    "#pycache vien d'apparaitre dans notre répertoire. Il permet à créer les connexions entre nos differents modules"
   ]
  },
  {
   "cell_type": "code",
   "execution_count": 1,
   "id": "b478e908",
   "metadata": {},
   "outputs": [
    {
     "data": {
      "text/plain": [
       "[0, 1, 1, 2, 3, 5, 8, 13, 21, 34]"
      ]
     },
     "execution_count": 1,
     "metadata": {},
     "output_type": "execute_result"
    }
   ],
   "source": [
    "import module_1 as m1 #on peut donner un surnom au module avec \"as\"\n",
    "\n",
    "liste_1 = m1.fibonacci(50)\n",
    "liste_1"
   ]
  },
  {
   "cell_type": "code",
   "execution_count": 2,
   "id": "8670e079",
   "metadata": {},
   "outputs": [
    {
     "data": {
      "text/plain": [
       "[0, 1, 1, 2, 3, 5, 8, 13, 21, 34]"
      ]
     },
     "execution_count": 2,
     "metadata": {},
     "output_type": "execute_result"
    }
   ],
   "source": [
    "#on peut importer certain fonction/classes/variables \n",
    "from module_1 import fibonacci\n",
    "\n",
    "liste = fibonacci(50)\n",
    "liste"
   ]
  },
  {
   "cell_type": "code",
   "execution_count": 65,
   "id": "f8dcf85b",
   "metadata": {},
   "outputs": [],
   "source": [
    "#si on veut importer tout ce qui existe dans un module on écrit \"*\"(qui veut dire all)\n",
    "\n",
    "from module_1 import *\n"
   ]
  },
  {
   "cell_type": "code",
   "execution_count": 66,
   "id": "6b649606",
   "metadata": {},
   "outputs": [
    {
     "name": "stdout",
     "output_type": "stream",
     "text": [
      "3.141592653589793\n"
     ]
    }
   ],
   "source": [
    "#module: un doc qui contient du code\n",
    "#package:un paquet de différent module(matplotlibre est extrèmement connu)\n",
    "\n",
    "import math\n",
    "\n",
    "print(math.pi)"
   ]
  },
  {
   "cell_type": "code",
   "execution_count": 67,
   "id": "87e530c5",
   "metadata": {},
   "outputs": [
    {
     "name": "stdout",
     "output_type": "stream",
     "text": [
      "-1.0\n"
     ]
    }
   ],
   "source": [
    "\n",
    "import math\n",
    "\n",
    "print(math.cos(math.pi))"
   ]
  },
  {
   "cell_type": "code",
   "execution_count": 68,
   "id": "115da125",
   "metadata": {},
   "outputs": [
    {
     "name": "stdout",
     "output_type": "stream",
     "text": [
      "1.0\n",
      "148.4131591025766\n"
     ]
    }
   ],
   "source": [
    "\n",
    "import math\n",
    "\n",
    "print(math.cos(2*math.pi))\n",
    "print(math.exp(5))"
   ]
  },
  {
   "cell_type": "code",
   "execution_count": 69,
   "id": "0a6dba4c",
   "metadata": {},
   "outputs": [
    {
     "name": "stdout",
     "output_type": "stream",
     "text": [
      "21\n"
     ]
    }
   ],
   "source": [
    "import random\n",
    "\n",
    "print(random.choice(liste_1))"
   ]
  },
  {
   "cell_type": "code",
   "execution_count": 4,
   "id": "d855398f",
   "metadata": {},
   "outputs": [
    {
     "name": "stdout",
     "output_type": "stream",
     "text": [
      "anne\n"
     ]
    }
   ],
   "source": [
    "import random\n",
    "\n",
    "print(random.choice(['jean','anne', 'julie'])) #ici à chaque fois on éxecute notre code ca donne un différent résultat"
   ]
  },
  {
   "cell_type": "code",
   "execution_count": 51,
   "id": "67337b06",
   "metadata": {},
   "outputs": [
    {
     "name": "stdout",
     "output_type": "stream",
     "text": [
      "anne\n"
     ]
    }
   ],
   "source": [
    "import random\n",
    "\n",
    "random.seed(0)\n",
    "\n",
    "print(random.choice(['jean','anne', 'julie'])) #ici à chaque fois on éxecute notre code ca donne le même résultat"
   ]
  },
  {
   "cell_type": "code",
   "execution_count": 74,
   "id": "465c1cc3",
   "metadata": {},
   "outputs": [
    {
     "name": "stdout",
     "output_type": "stream",
     "text": [
      "anne\n",
      "0.5833820394550312\n"
     ]
    }
   ],
   "source": [
    "import random\n",
    "\n",
    "print(random.choice(['jean','anne', 'julie'])) \n",
    "\n",
    "print(random.random())"
   ]
  },
  {
   "cell_type": "code",
   "execution_count": 89,
   "id": "05bbbb9f",
   "metadata": {},
   "outputs": [
    {
     "name": "stdout",
     "output_type": "stream",
     "text": [
      "anne\n",
      "0.7579544029403025\n",
      "8\n",
      "5\n",
      "[33, 65, 62, 51, 38, 61, 45, 74, 27, 64]\n"
     ]
    }
   ],
   "source": [
    "import random\n",
    "\n",
    "random.seed(0)\n",
    "\n",
    "print(random.choice(['jean','anne', 'julie']))\n",
    "\n",
    "print(random.random())#float le nombre générer sera qu'entre 0 et 1\n",
    "\n",
    "print(random.randint(5, 10))#int générer des nombre entiers\n",
    "\n",
    "print(random.randrange(100))#permet à nous retourner un int dans une fourchette de nombre\n",
    "\n",
    "#fonction sample nous retourne une liste qui contient qu'à élément et chaque élément est chosis d'une façon aléatoire dans une population que leur donnée\n",
    "#ici on le donne la population range 100 où on veut 10 éléments dans notre liste\n",
    "\n",
    "print(random.sample(range(100), 10))"
   ]
  },
  {
   "cell_type": "code",
   "execution_count": 5,
   "id": "21f6d170",
   "metadata": {},
   "outputs": [
    {
     "name": "stdout",
     "output_type": "stream",
     "text": [
      "anne\n",
      "0.7579544029403025\n",
      "8\n",
      "5\n",
      "[65, 62, 51, 38]\n"
     ]
    }
   ],
   "source": [
    "import random\n",
    "\n",
    "random.seed(0)\n",
    "\n",
    "print(random.choice(['jean','anne', 'julie']))\n",
    "\n",
    "print(random.random())#float le nombre générer sera qu'entre 0 et 1\n",
    "\n",
    "print(random.randint(5, 10))#int générer des nombre entiers\n",
    "\n",
    "print(random.randrange(100))#permet à nous retourner un int dans une fourchette de nombre\n",
    "\n",
    "#on veut créer une liste de nombre aléatoire d'éléments entre 0 et 100 par exemple\n",
    "print(random.sample(range(100), random.randrange(10)))\n",
    "\n",
    "#permet de mélange les données qu'on a dans une structure de données(comme une liste par exemple)\n",
    "random.shuffle(liste_1)"
   ]
  },
  {
   "cell_type": "code",
   "execution_count": 99,
   "id": "68e761c6",
   "metadata": {},
   "outputs": [
    {
     "name": "stdout",
     "output_type": "stream",
     "text": [
      "anne\n",
      "0.7579544029403025\n",
      "8\n",
      "5\n",
      "[65, 62, 51, 38]\n",
      "None\n"
     ]
    }
   ],
   "source": [
    "import random\n",
    "\n",
    "random.seed(0)\n",
    "\n",
    "print(random.choice(['jean','anne', 'julie']))\n",
    "\n",
    "print(random.random())\n",
    "\n",
    "print(random.randint(5, 10))\n",
    "\n",
    "print(random.randrange(100))\n",
    "\n",
    "\n",
    "print(random.sample(range(100), random.randrange(10)))\n",
    "\n",
    "print(random.shuffle(liste_1)) #voit résultat sur Spyder"
   ]
  },
  {
   "cell_type": "code",
   "execution_count": 80,
   "id": "e61423f5",
   "metadata": {},
   "outputs": [
    {
     "name": "stdout",
     "output_type": "stream",
     "text": [
      "8.8\n",
      "121.73333333333333\n"
     ]
    }
   ],
   "source": [
    "import statistics\n",
    "\n",
    "print(statistics.mean(liste_1))\n",
    "print(statistics.variance(liste_1))"
   ]
  },
  {
   "cell_type": "code",
   "execution_count": 100,
   "id": "c85d1854",
   "metadata": {},
   "outputs": [
    {
     "data": {
      "text/plain": [
       "'C:\\\\Users\\\\JoJo_\\\\OneDrive\\\\Desktop\\\\COURS SIMPLON'"
      ]
     },
     "execution_count": 100,
     "metadata": {},
     "output_type": "execute_result"
    }
   ],
   "source": [
    "import os\n",
    "#getcwd(cureent workind directory): localisé où on est dans notre répertoire\n",
    "os.getcwd()"
   ]
  },
  {
   "cell_type": "code",
   "execution_count": 6,
   "id": "905d178f",
   "metadata": {},
   "outputs": [
    {
     "name": "stdout",
     "output_type": "stream",
     "text": [
      "['01 - Vos premiers programmes.html', '01 - Vos premiers programmes.ipynb', '02_-_A_la_decouverte_des_comparaisons_et_des_instructions_conditionnelles.html', '03_-_Les_fonctions.ipynb', '04_-_Les_boucles_et_les_types_construits.ipynb', '1-introduction FORMATION SAS SIMPLON.ipynb', '2-heritage.ipynb', 'Bacteria.png', 'BTC-EUR.csv', 'CONFIRMATION ACTUALISATION POLEM.pdf', 'ETH-EUR.csv', 'ex1.png', 'Exercice sur dict. et list comprehension.ipynb', \"Exercice sur l'indexing,slicing,masking.ipynb\", 'Exercice sur les bases de Matplotlib.ipynb', 'Exercice sur les built-in functions.ipynb', 'Exercice sur les dictionnaires.ipynb', 'Exercice sur les fonctions if_else and for_while.ipynb', 'Exercice sur les Listes et Tuples.ipynb', 'Exercice sur les modules et packages.ipynb', 'Exercice sur les Variables et Fonctions.ipynb', 'Exercice sur numpy statistiques et mathématiques.ipynb', 'Exercice sur numpy.ipynb', 'fichier.ex', 'fichier.txt', 'figure.png', 'liensutiles.txt', 'module_1.ipynb', 'module_1.py', 'p1i8awsivji51.jpg', 'PYHTON Cours sur NUMPY STATISTIQUES et MATHEMATIQUES.ipynb', 'PYTHON Cours sur IF_ELSE, WHILE_FOR.ipynb', \"PYTHON Cours sur l'INDEXING SLICING MASKING SUBSETTING.ipynb\", 'PYTHON Cours sur les BUILT - IN FIUNCTIONS.ipynb', 'PYTHON Cours sur les DICTIONNAIRES.ipynb', 'PYTHON Cours sur les LIST et DICTIONARY COMPREHENSION.ipynb', 'PYTHON Cours sur les LISTES et TUPLES.ipynb', 'PYTHON Cours sur les MODULES ET PACKAGES.ipynb', 'PYTHON Cours sur les VARIABLES et FONCTIONS.ipynb', 'PYTHON Cours sur MATPLOTLIB(les bases).ipynb', 'PYTHON Cours sur Pandas (Analyse du titanic).ipynb', \"PYTHON L'Heritage Simplon.ipynb\", 'PYTHON Les décolrateurs et différentes méthodes Simplon.ipynb', 'PYTHON MATPLOTLIB (Graphiques Importants).ipynb', 'PYTHON NUMPY BROADCASTING.ipynb', 'PYTHON NUMPY machine learning.ipynb', 'PYTHON PANDAS Time SERIES.ipynb', 'PYTHON Polymorphisme special method Simplon.ipynb', 'PYTHON PROGRAMMATION ORIENTEE OBJET et son impact en MACHINE LEARNING.ipynb', 'Queleques exercice lors entretient.ipynb', 'SCIPY PYTHON Cours sur OPTIMIZE, FOURIER, NDIMAGE.ipynb', 'titanic.xls', 'watorproject.txt', '__pycache__']\n"
     ]
    }
   ],
   "source": [
    "import glob\n",
    "\n",
    "#retourne tous les noms des fichiers qu'on a dans notre répertoire de travail\n",
    "\n",
    "print(glob.glob(\"*\"))#rappel '*' =  all"
   ]
  },
  {
   "cell_type": "code",
   "execution_count": 7,
   "id": "46566ce1",
   "metadata": {},
   "outputs": [
    {
     "name": "stdout",
     "output_type": "stream",
     "text": [
      "['fichier.txt', 'liensutiles.txt', 'watorproject.txt']\n"
     ]
    }
   ],
   "source": [
    "#on peut également filtrer les types de fichiers qu'on souhaite viser dans notre répertoiree comme .txt par exemple\n",
    "\n",
    "import glob\n",
    "\n",
    "print(glob.glob(\"*.txt\"))#tout les fichiers terminant par .txt"
   ]
  },
  {
   "cell_type": "code",
   "execution_count": 8,
   "id": "f2c84cf1",
   "metadata": {},
   "outputs": [
    {
     "name": "stdout",
     "output_type": "stream",
     "text": [
      "0^2 = 0 \n",
      "1^2 = 1 \n",
      "2^2 = 4 \n",
      "3^2 = 9 \n",
      "4^2 = 16 \n",
      "5^2 = 25 \n",
      "6^2 = 36 \n",
      "7^2 = 49 \n",
      "8^2 = 64 \n",
      "9^2 = 81 \n",
      "\n",
      "https://www.w3schools.com/python/python_ref_list.asp\n",
      "https://gayerie.dev/docs/python/python3/dict.html\n",
      "https://dev.to/ericlecodeur/la-cheat-sheet-complete-de-python-521p\n",
      "https://www.youtube.com/watch?v=h6jciR8K43E\n",
      "https://gayerie.dev/docs/python/python3/heritage.html\n",
      "Contexte du projet\n",
      "L'aquarium Nausicaa souhaite installer un nouvel aquarium afin de fêter leurs 40ans.\n",
      "\n",
      "Cet aquarium possèdera une population composée de proies et de prédateurs afin de montrer l'équilibre entre ceux-ci dans le milieu naturel.\n",
      "\n",
      "Votre rôle est donc de réaliser un programme qui permet de simuler cette population et de la voir évoluer de manière visuelle.\n",
      "\n",
      "Modalite´s pédagogiques\n",
      "Groupe de trois\n",
      "Durée : 5 jours\n",
      "Critères de performance\n",
      "Le code doit être documenté (Docstrings et commentaires)\n",
      "Utilisation de la POO\n",
      "https://en.wikipedia.org/wiki/Wa-Tor#Rules\n"
     ]
    }
   ],
   "source": [
    "#imaginons que dans les fichiers qu'on a des données qu'on veut analyser on peuit utiliser la fonction glob et open\n",
    "\n",
    "filenames=glob.glob(\"*.txt\")\n",
    "\n",
    "for file in filenames:\n",
    "    with open(file, 'r') as f:\n",
    "        print(f.read())"
   ]
  },
  {
   "cell_type": "code",
   "execution_count": null,
   "id": "6140d89c",
   "metadata": {},
   "outputs": [],
   "source": []
  }
 ],
 "metadata": {
  "kernelspec": {
   "display_name": "Python 3 (ipykernel)",
   "language": "python",
   "name": "python3"
  },
  "language_info": {
   "codemirror_mode": {
    "name": "ipython",
    "version": 3
   },
   "file_extension": ".py",
   "mimetype": "text/x-python",
   "name": "python",
   "nbconvert_exporter": "python",
   "pygments_lexer": "ipython3",
   "version": "3.11.5"
  }
 },
 "nbformat": 4,
 "nbformat_minor": 5
}
