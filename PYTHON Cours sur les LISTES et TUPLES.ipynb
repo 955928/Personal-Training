{
 "cells": [
  {
   "cell_type": "code",
   "execution_count": 1,
   "id": "cbf6c281",
   "metadata": {},
   "outputs": [
    {
     "name": "stdout",
     "output_type": "stream",
     "text": [
      "[[1, 8, 4, 38], ['Paris', 'Berlin', 'Tokyo', 'Bruxelles']]\n"
     ]
    }
   ],
   "source": [
    "#Les listes; '[]' les différents éléments qu'on veut dans notre liste\n",
    "\n",
    "liste_1 = [1, 8, 4, 38]\n",
    "villes = ['Paris', 'Berlin', 'Tokyo', 'Bruxelles']\n",
    "\n",
    "#on peut créer des listes qui contiennent des listes\n",
    "liste_2 = [liste_1, villes]\n",
    "liste_3 = [] #liste vide\n",
    "\n",
    "print(liste_2)"
   ]
  },
  {
   "cell_type": "code",
   "execution_count": 2,
   "id": "042b18e6",
   "metadata": {},
   "outputs": [],
   "source": [
    "#Les tuples : comme une liste mais on pourra pas la modifier après qu'on l'a crée. La liste sera donc protégée\n",
    "#ils utilisent moins de mémoire sur l'ordi qu'une liste. Mais on s'en sert rarement des tuples\n",
    "\n",
    "tuple_1 = (1, 2, 6, 1, 7)"
   ]
  },
  {
   "cell_type": "code",
   "execution_count": 3,
   "id": "02b22845",
   "metadata": {},
   "outputs": [
    {
     "name": "stdout",
     "output_type": "stream",
     "text": [
      "Paris\n"
     ]
    }
   ],
   "source": [
    "#string, chaîne de caractère\n",
    "prénom = 'Nicolas'\n",
    "\n",
    "#Les listes,tuples, string = séquence (ensemble de données qui suivent un ordre); Dans une séquence chaque élément à un index. C-à-d la position de l'élément dans la liste\n",
    "print(villes[0])"
   ]
  },
  {
   "cell_type": "code",
   "execution_count": 4,
   "id": "7d81a10a",
   "metadata": {},
   "outputs": [
    {
     "name": "stdout",
     "output_type": "stream",
     "text": [
      "Bruxelles\n",
      "Tokyo\n"
     ]
    }
   ],
   "source": [
    "#TECHNIQUE D'INDEXING\n",
    "#pour accéder au dernier élément dans une liste\n",
    "print(villes[-1])\n",
    "#même pour l'avant dernier\n",
    "print(villes[-2])\n"
   ]
  },
  {
   "cell_type": "code",
   "execution_count": 5,
   "id": "e222bc45",
   "metadata": {},
   "outputs": [
    {
     "name": "stdout",
     "output_type": "stream",
     "text": [
      "['Paris', 'Berlin', 'Tokyo']\n"
     ]
    }
   ],
   "source": [
    "#TECHNIQUE SLICING: permet d'accéder à une fourchette d'éléments dans notre séquence en indiquant la fourchette d'index'\n",
    "# Liste[début: fin: pas] cf range(début, fin, pas). Eg:\n",
    "\n",
    "print(villes[0:3])#de 0 jusqu'à 3\n"
   ]
  },
  {
   "cell_type": "code",
   "execution_count": 6,
   "id": "b93828ca",
   "metadata": {},
   "outputs": [
    {
     "name": "stdout",
     "output_type": "stream",
     "text": [
      "['Paris', 'Berlin', 'Tokyo']\n"
     ]
    }
   ],
   "source": [
    "#ou\n",
    "\n",
    "print(villes[:3])"
   ]
  },
  {
   "cell_type": "code",
   "execution_count": 7,
   "id": "57e9ca02",
   "metadata": {},
   "outputs": [
    {
     "name": "stdout",
     "output_type": "stream",
     "text": [
      "['Tokyo', 'Bruxelles']\n"
     ]
    }
   ],
   "source": [
    "#définir à partir d'un nombre jusq'au dernier élément\n",
    "\n",
    "print(villes[2:])"
   ]
  },
  {
   "cell_type": "code",
   "execution_count": 8,
   "id": "8986c8e0",
   "metadata": {},
   "outputs": [
    {
     "name": "stdout",
     "output_type": "stream",
     "text": [
      "['Paris', 'Tokyo']\n"
     ]
    }
   ],
   "source": [
    "#ou sauter des élément\n",
    "\n",
    "print(villes[::2])#rappel:pas besoin de définir l'index si on veut tenir toute la liste en compte"
   ]
  },
  {
   "cell_type": "code",
   "execution_count": 9,
   "id": "5ef9fe21",
   "metadata": {},
   "outputs": [
    {
     "name": "stdout",
     "output_type": "stream",
     "text": [
      "['Bruxelles', 'Tokyo', 'Berlin', 'Paris']\n"
     ]
    }
   ],
   "source": [
    "#ou faire cela à l'envers\n",
    "print(villes[::-1])"
   ]
  },
  {
   "cell_type": "code",
   "execution_count": 10,
   "id": "64ef6bc2",
   "metadata": {},
   "outputs": [
    {
     "name": "stdout",
     "output_type": "stream",
     "text": [
      "Nic\n"
     ]
    }
   ],
   "source": [
    "#on peut faire apparaître les caractères individuelles d'un string\n",
    "\n",
    "print(prénom[:3])"
   ]
  },
  {
   "cell_type": "code",
   "execution_count": 11,
   "id": "32b28353",
   "metadata": {},
   "outputs": [
    {
     "name": "stdout",
     "output_type": "stream",
     "text": [
      "['Moscow', 'Berlin', 'Tokyo', 'Bruxelles']\n"
     ]
    }
   ],
   "source": [
    "#modifier une séquence\n",
    "\n",
    "villes[0] = 'Moscow' #premier élément de ma liste on change à Moscow\n",
    "\n",
    "print(villes)"
   ]
  },
  {
   "cell_type": "code",
   "execution_count": 12,
   "id": "81e89075",
   "metadata": {
    "scrolled": true
   },
   "outputs": [
    {
     "data": {
      "text/plain": [
       "['Moscow', 'Berlin', 'Tokyo', 'Bruxelles', 'Londres']"
      ]
     },
     "execution_count": 12,
     "metadata": {},
     "output_type": "execute_result"
    }
   ],
   "source": [
    "villes.append('Londres') #l'action append qui permet de rajouter un élément tout à la fin de la liste\n",
    "villes"
   ]
  },
  {
   "cell_type": "code",
   "execution_count": 13,
   "id": "07da9f48",
   "metadata": {},
   "outputs": [
    {
     "data": {
      "text/plain": [
       "5"
      ]
     },
     "execution_count": 13,
     "metadata": {},
     "output_type": "execute_result"
    }
   ],
   "source": [
    "len(villes)"
   ]
  },
  {
   "cell_type": "code",
   "execution_count": 14,
   "id": "66564da4",
   "metadata": {},
   "outputs": [
    {
     "data": {
      "text/plain": [
       "['Moscow', 'Berlin', 'Madrid', 'Tokyo', 'Bruxelles', 'Londres']"
      ]
     },
     "execution_count": 14,
     "metadata": {},
     "output_type": "execute_result"
    }
   ],
   "source": [
    "#l'action insert qui permet d'ajouter un élément dans la liste \n",
    "\n",
    "villes.insert(2,'Madrid')#on ajoute MADRID à l'index 2\n",
    "villes"
   ]
  },
  {
   "cell_type": "code",
   "execution_count": 15,
   "id": "4c41386e",
   "metadata": {},
   "outputs": [
    {
     "data": {
      "text/plain": [
       "['Moscow',\n",
       " 'Berlin',\n",
       " 'Madrid',\n",
       " 'Tokyo',\n",
       " 'Bruxelles',\n",
       " 'Londres',\n",
       " 'Amsterdam',\n",
       " 'Port of Spain']"
      ]
     },
     "execution_count": 15,
     "metadata": {},
     "output_type": "execute_result"
    }
   ],
   "source": [
    "#pour ajouter une liste à la fin d'une liste\n",
    "\n",
    "villes_2 = ['Amsterdam', 'Port of Spain']\n",
    "villes.extend(villes_2)\n",
    "villes"
   ]
  },
  {
   "cell_type": "code",
   "execution_count": 17,
   "id": "60e84d34",
   "metadata": {},
   "outputs": [
    {
     "data": {
      "text/plain": [
       "8"
      ]
     },
     "execution_count": 17,
     "metadata": {},
     "output_type": "execute_result"
    }
   ],
   "source": [
    "len(villes)"
   ]
  },
  {
   "cell_type": "code",
   "execution_count": 18,
   "id": "52bb52cb",
   "metadata": {},
   "outputs": [
    {
     "data": {
      "text/plain": [
       "['Amsterdam',\n",
       " 'Berlin',\n",
       " 'Bruxelles',\n",
       " 'Londres',\n",
       " 'Madrid',\n",
       " 'Moscow',\n",
       " 'Port of Spain',\n",
       " 'Tokyo']"
      ]
     },
     "execution_count": 18,
     "metadata": {},
     "output_type": "execute_result"
    }
   ],
   "source": [
    "#'.sort': soit il trie notre liste dans l'orde alphabétique|anti-alphabétqiue ou ordre numérique | à l'inverse\n",
    "\n",
    "villes.sort()\n",
    "villes"
   ]
  },
  {
   "cell_type": "code",
   "execution_count": 19,
   "id": "021af090",
   "metadata": {},
   "outputs": [
    {
     "data": {
      "text/plain": [
       "['Tokyo',\n",
       " 'Port of Spain',\n",
       " 'Moscow',\n",
       " 'Madrid',\n",
       " 'Londres',\n",
       " 'Bruxelles',\n",
       " 'Berlin',\n",
       " 'Amsterdam']"
      ]
     },
     "execution_count": 19,
     "metadata": {},
     "output_type": "execute_result"
    }
   ],
   "source": [
    "villes.sort(reverse=True)\n",
    "villes"
   ]
  },
  {
   "cell_type": "code",
   "execution_count": 20,
   "id": "7b09740a",
   "metadata": {},
   "outputs": [
    {
     "data": {
      "text/plain": [
       "[1, 4, 8, 38]"
      ]
     },
     "execution_count": 20,
     "metadata": {},
     "output_type": "execute_result"
    }
   ],
   "source": [
    "liste_1.sort()\n",
    "liste_1"
   ]
  },
  {
   "cell_type": "code",
   "execution_count": 21,
   "id": "989c78de",
   "metadata": {},
   "outputs": [
    {
     "data": {
      "text/plain": [
       "1"
      ]
     },
     "execution_count": 21,
     "metadata": {},
     "output_type": "execute_result"
    }
   ],
   "source": [
    "#méthode qui permet de compter combiens de fois une valeur apparait dans la liste\n",
    "villes.count('Madrid')"
   ]
  },
  {
   "cell_type": "code",
   "execution_count": 22,
   "id": "adc7e180",
   "metadata": {},
   "outputs": [
    {
     "name": "stdout",
     "output_type": "stream",
     "text": [
      "Oui\n"
     ]
    }
   ],
   "source": [
    "if 'Madrid' in villes:\n",
    "    print('Oui')\n",
    "else:\n",
    "    print('Non')"
   ]
  },
  {
   "cell_type": "code",
   "execution_count": 23,
   "id": "6052acb9",
   "metadata": {},
   "outputs": [
    {
     "name": "stdout",
     "output_type": "stream",
     "text": [
      "Tokyo\n",
      "Port of Spain\n",
      "Moscow\n",
      "Madrid\n",
      "Londres\n",
      "Bruxelles\n",
      "Berlin\n",
      "Amsterdam\n"
     ]
    }
   ],
   "source": [
    "#le boucle 'for' effectue ses itérations sur les éléments de notre liste et non pas sur des nombres. Elle va donc manipuler les éléments\n",
    "\n",
    "for i in villes:\n",
    "    print(i)"
   ]
  },
  {
   "cell_type": "code",
   "execution_count": 24,
   "id": "430a7e9d",
   "metadata": {},
   "outputs": [
    {
     "name": "stdout",
     "output_type": "stream",
     "text": [
      "0 Tokyo\n",
      "1 Port of Spain\n",
      "2 Moscow\n",
      "3 Madrid\n",
      "4 Londres\n",
      "5 Bruxelles\n",
      "6 Berlin\n",
      "7 Amsterdam\n"
     ]
    }
   ],
   "source": [
    "#'for index,valeur in enumerate()': va extraire l'index des éléments\n",
    "\n",
    "for index, valeur in enumerate(villes):\n",
    "    print(index, valeur)"
   ]
  },
  {
   "cell_type": "code",
   "execution_count": 25,
   "id": "9edd484a",
   "metadata": {},
   "outputs": [
    {
     "name": "stdout",
     "output_type": "stream",
     "text": [
      "Tokyo 1\n",
      "Port of Spain 4\n",
      "Moscow 8\n",
      "Madrid 38\n"
     ]
    }
   ],
   "source": [
    "#La commande 'ZIP': permet d'utiliser un boucle 'For'  avec deux listes en parallel\n",
    "#PS: La boucle 'For' s'arrêtera là où la liste LA PLUS COURTE s'arrête.\n",
    "\n",
    "\n",
    "for a,  b in zip(villes, liste_1):\n",
    "    print(a, b)"
   ]
  },
  {
   "cell_type": "code",
   "execution_count": null,
   "id": "dcc4aeaa",
   "metadata": {},
   "outputs": [],
   "source": []
  }
 ],
 "metadata": {
  "kernelspec": {
   "display_name": "Python 3 (ipykernel)",
   "language": "python",
   "name": "python3"
  },
  "language_info": {
   "codemirror_mode": {
    "name": "ipython",
    "version": 3
   },
   "file_extension": ".py",
   "mimetype": "text/x-python",
   "name": "python",
   "nbconvert_exporter": "python",
   "pygments_lexer": "ipython3",
   "version": "3.11.5"
  }
 },
 "nbformat": 4,
 "nbformat_minor": 5
}
