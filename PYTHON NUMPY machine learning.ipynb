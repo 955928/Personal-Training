{
 "cells": [
  {
   "cell_type": "code",
   "execution_count": 3,
   "id": "3a63171c",
   "metadata": {},
   "outputs": [],
   "source": [
    "#objet= NDARRAY en numpy le plus puissant; permet à créer des tableaux à n dimension est +\n",
    "\n",
    "#numpy est comparable à une séquence mais inégal à une liste parceque il est bcp plus rapide, prendre moins place et donne bcp plus de méthodes pour faire des calculs\n",
    "\n",
    "#en data science en utilise bcp les tableaux à 2 dimension. Dans nos tableaux on peut enregistrer des pixel allant de 0 à 255(0= noir à 255 = white)\n",
    "\n",
    "#attributs leplus important en machine learning c'est l'attribut ndarray.shape(permettre à voir la forme de notre tableau(profondeurs,combien de lignes etc ) \n",
    "#ndim = 1 (dimension)\n",
    "#shape = (2,)\n",
    "\n",
    "#ndim = 2\n",
    "#shape = (2,3)(2 lignes et 3 colonnes)\n",
    "\n",
    "#ndim = 3\n",
    "#shape = (2, 3, 2)(2 lignes, 3 colonnes,)\n",
    "\n",
    "#l'attribut shape donne un tuple (une séquence avec des index). donc cc'est un attribut immutable donc en quelque sorte protégé"
   ]
  },
  {
   "cell_type": "code",
   "execution_count": 4,
   "id": "ef0aea35",
   "metadata": {},
   "outputs": [],
   "source": [
    "import numpy as np"
   ]
  },
  {
   "cell_type": "code",
   "execution_count": 5,
   "id": "3c5374a0",
   "metadata": {},
   "outputs": [
    {
     "ename": "TypeError",
     "evalue": "array() takes from 1 to 2 positional arguments but 3 were given",
     "output_type": "error",
     "traceback": [
      "\u001b[1;31m---------------------------------------------------------------------------\u001b[0m",
      "\u001b[1;31mTypeError\u001b[0m                                 Traceback (most recent call last)",
      "Cell \u001b[1;32mIn[5], line 1\u001b[0m\n\u001b[1;32m----> 1\u001b[0m np\u001b[38;5;241m.\u001b[39marray(\u001b[38;5;241m1\u001b[39m, \u001b[38;5;241m2\u001b[39m, \u001b[38;5;241m3\u001b[39m )\n",
      "\u001b[1;31mTypeError\u001b[0m: array() takes from 1 to 2 positional arguments but 3 were given"
     ]
    }
   ],
   "source": [
    "np.array(1, 2, 3 )"
   ]
  },
  {
   "cell_type": "code",
   "execution_count": 6,
   "id": "22a29ca8",
   "metadata": {},
   "outputs": [
    {
     "data": {
      "text/plain": [
       "1"
      ]
     },
     "execution_count": 6,
     "metadata": {},
     "output_type": "execute_result"
    }
   ],
   "source": [
    "#pour faire passer nos nombre dans notre constructeur on est obligé de utiliser '[]'\n",
    "\n",
    "A = np.array([1, 2, 3])\n",
    "\n",
    "A.ndim#resort sa dimesnions\n"
   ]
  },
  {
   "cell_type": "code",
   "execution_count": 7,
   "id": "95fcc9ea",
   "metadata": {},
   "outputs": [
    {
     "data": {
      "text/plain": [
       "(3,)"
      ]
     },
     "execution_count": 7,
     "metadata": {},
     "output_type": "execute_result"
    }
   ],
   "source": [
    "A.shape#resort sa forme"
   ]
  },
  {
   "cell_type": "code",
   "execution_count": 69,
   "id": "939d5725",
   "metadata": {},
   "outputs": [
    {
     "data": {
      "text/plain": [
       "3"
      ]
     },
     "execution_count": 69,
     "metadata": {},
     "output_type": "execute_result"
    }
   ],
   "source": [
    "A.size #resort tout les éléments dans notre tableau"
   ]
  },
  {
   "cell_type": "code",
   "execution_count": 8,
   "id": "05909740",
   "metadata": {},
   "outputs": [
    {
     "data": {
      "text/plain": [
       "array([[0., 0.],\n",
       "       [0., 0.],\n",
       "       [0., 0.]])"
      ]
     },
     "execution_count": 8,
     "metadata": {},
     "output_type": "execute_result"
    }
   ],
   "source": [
    "#initialise notre tableau avec pleins de zéros en indiquant le éléments de notre dimension de tableau en '()'\n",
    "\n",
    "B = np.zeros((3, 2))\n",
    "B \n"
   ]
  },
  {
   "cell_type": "code",
   "execution_count": 9,
   "id": "56f9fbed",
   "metadata": {},
   "outputs": [
    {
     "data": {
      "text/plain": [
       "(3, 2)"
      ]
     },
     "execution_count": 9,
     "metadata": {},
     "output_type": "execute_result"
    }
   ],
   "source": [
    "B.shape"
   ]
  },
  {
   "cell_type": "code",
   "execution_count": 10,
   "id": "8f66634b",
   "metadata": {},
   "outputs": [
    {
     "data": {
      "text/plain": [
       "tuple"
      ]
     },
     "execution_count": 10,
     "metadata": {},
     "output_type": "execute_result"
    }
   ],
   "source": [
    "type(B.shape)"
   ]
  },
  {
   "cell_type": "raw",
   "id": "9d5d7272",
   "metadata": {},
   "source": [
    "C = np.ones((3, 4))\n",
    "C"
   ]
  },
  {
   "cell_type": "code",
   "execution_count": 74,
   "id": "3abbffd6",
   "metadata": {},
   "outputs": [
    {
     "data": {
      "text/plain": [
       "12"
      ]
     },
     "execution_count": 74,
     "metadata": {},
     "output_type": "execute_result"
    }
   ],
   "source": [
    "C.size"
   ]
  },
  {
   "cell_type": "code",
   "execution_count": 75,
   "id": "8d5e49e2",
   "metadata": {},
   "outputs": [
    {
     "data": {
      "text/plain": [
       "array([[9, 9, 9],\n",
       "       [9, 9, 9]])"
      ]
     },
     "execution_count": 75,
     "metadata": {},
     "output_type": "execute_result"
    }
   ],
   "source": [
    "#\"np.full\" une fonction pas super utile d'initialiser un tableau avec un certain nombre\n",
    "#très rare de voir un tableau plus soit avec des 1's , des 0's ou des nombre aléatoires \n",
    "D = np.full((2, 3), 9)\n",
    "\n",
    "D"
   ]
  },
  {
   "cell_type": "code",
   "execution_count": 76,
   "id": "d96865e9",
   "metadata": {},
   "outputs": [
    {
     "data": {
      "text/plain": [
       "array([[-0.21155631, -0.49939633, -1.07560279, -1.60669868],\n",
       "       [ 1.31592995,  1.2403638 ,  2.46447632, -1.95464588],\n",
       "       [ 1.27101876,  0.86343843,  0.07247885,  1.63210438]])"
      ]
     },
     "execution_count": 76,
     "metadata": {},
     "output_type": "execute_result"
    }
   ],
   "source": [
    "#random.randn initialise nos tableaux avec des nombres issus de la distribution normale centré en 0 \n",
    "#à chaque execution du code le résultat change\n",
    "np.random.randn(3, 4)"
   ]
  },
  {
   "cell_type": "code",
   "execution_count": 77,
   "id": "75abf265",
   "metadata": {},
   "outputs": [
    {
     "data": {
      "text/plain": [
       "array([[ 1.76405235,  0.40015721,  0.97873798,  2.2408932 ],\n",
       "       [ 1.86755799, -0.97727788,  0.95008842, -0.15135721],\n",
       "       [-0.10321885,  0.4105985 ,  0.14404357,  1.45427351]])"
      ]
     },
     "execution_count": 77,
     "metadata": {},
     "output_type": "execute_result"
    }
   ],
   "source": [
    "#donc la fonction seed va fixer l'aléatoire de notre code générateur\n",
    "\n",
    "np.random.seed(0) #pour changer notre aléatoir faut juste changer le chiffre \n",
    "np.random.randn(3, 4)"
   ]
  },
  {
   "cell_type": "code",
   "execution_count": 78,
   "id": "db70154b",
   "metadata": {},
   "outputs": [
    {
     "data": {
      "text/plain": [
       "array([[ 2.63020515,  0.33163518, -0.98753978,  1.19650759],\n",
       "       [ 1.70517555,  0.1445731 , -0.22478908,  0.22137286],\n",
       "       [ 2.0621206 ,  2.35645496,  2.34544362, -0.9736413 ]])"
      ]
     },
     "execution_count": 78,
     "metadata": {},
     "output_type": "execute_result"
    }
   ],
   "source": [
    "#donc la fonction seed va fixer l'aléatoire de notre code constructeur\n",
    "\n",
    "np.random.seed(3000) #pour change notre aléatoire faut juste changer le chiffre \n",
    "np.random.randn(3, 4)"
   ]
  },
  {
   "cell_type": "code",
   "execution_count": 79,
   "id": "dd3a18dc",
   "metadata": {},
   "outputs": [
    {
     "data": {
      "text/plain": [
       "array([[1., 0., 0., 0.],\n",
       "       [0., 1., 0., 0.],\n",
       "       [0., 0., 1., 0.],\n",
       "       [0., 0., 0., 1.]])"
      ]
     },
     "execution_count": 79,
     "metadata": {},
     "output_type": "execute_result"
    }
   ],
   "source": [
    "#fonction 'np.eye' =  retourne la matrice et identite (pas trop utilisé en machine learning et data)\n",
    "\n",
    "np.eye(4)"
   ]
  },
  {
   "cell_type": "code",
   "execution_count": 80,
   "id": "f9b0447b",
   "metadata": {},
   "outputs": [
    {
     "data": {
      "text/plain": [
       "array([ 0.        ,  0.52631579,  1.05263158,  1.57894737,  2.10526316,\n",
       "        2.63157895,  3.15789474,  3.68421053,  4.21052632,  4.73684211,\n",
       "        5.26315789,  5.78947368,  6.31578947,  6.84210526,  7.36842105,\n",
       "        7.89473684,  8.42105263,  8.94736842,  9.47368421, 10.        ])"
      ]
     },
     "execution_count": 80,
     "metadata": {},
     "output_type": "execute_result"
    }
   ],
   "source": [
    "#constructeur 'np.linspace()' = permet à créer une tableau à n dimension où on va préciser un point de début, un point de fin et  une quantité qu'on veut avoir dans notre tableau*\n",
    "\n",
    "np.linspace(0, 10, 20)#20 points repartis entre 0 et 10\n"
   ]
  },
  {
   "cell_type": "code",
   "execution_count": 81,
   "id": "e153c733",
   "metadata": {},
   "outputs": [
    {
     "data": {
      "text/plain": [
       "array([0, 1, 2, 3, 4, 5, 6, 7, 8, 9])"
      ]
     },
     "execution_count": 81,
     "metadata": {},
     "output_type": "execute_result"
    }
   ],
   "source": [
    "#constructeur 'np.arange()' = permet à créer un tableau à n dimension où on va préciser un point de début, un point de fin et le pas qu'on désir sauter dans nos éléments de 0 jusqu'à 10\n",
    "\n",
    "np.arange(0, 10, 1 )"
   ]
  },
  {
   "cell_type": "code",
   "execution_count": 82,
   "id": "62960691",
   "metadata": {},
   "outputs": [
    {
     "data": {
      "text/plain": [
       "array([0. , 0.5, 1. , 1.5, 2. , 2.5, 3. , 3.5, 4. , 4.5, 5. , 5.5, 6. ,\n",
       "       6.5, 7. , 7.5, 8. , 8.5, 9. , 9.5])"
      ]
     },
     "execution_count": 82,
     "metadata": {},
     "output_type": "execute_result"
    }
   ],
   "source": [
    "\n",
    "np.arange(0, 10, 0.5)"
   ]
  },
  {
   "cell_type": "code",
   "execution_count": 83,
   "id": "977f71cb",
   "metadata": {},
   "outputs": [],
   "source": [
    "#dans numpy on peut choisir quel type de donnée on veut avoir dans notre tableau\n",
    "#grace au paramètre dtype=float(datatype); on peut également choisir le nombre de bites que va occuper notre valeur\n",
    "#'np.int8' on peut créer des nombres entiers qui occupent 8bites de notre mémoire ou np.int16 etc\n",
    "#quelque soit le constructeur de tableau on choisit(linspace,full,arange) on peut préciser le type de donnée on veut avoir"
   ]
  },
  {
   "cell_type": "code",
   "execution_count": 84,
   "id": "c28bf0ea",
   "metadata": {},
   "outputs": [
    {
     "data": {
      "text/plain": [
       "array([ 0.        ,  0.52631579,  1.05263158,  1.57894737,  2.10526316,\n",
       "        2.63157895,  3.15789474,  3.68421053,  4.21052632,  4.73684211,\n",
       "        5.26315789,  5.78947368,  6.31578947,  6.84210526,  7.36842105,\n",
       "        7.89473684,  8.42105263,  8.94736842,  9.47368421, 10.        ])"
      ]
     },
     "execution_count": 84,
     "metadata": {},
     "output_type": "execute_result"
    }
   ],
   "source": [
    "np.linspace(0, 10, 20, dtype=np.float64)#on aura une grande précision dans les nombres obtenus. Le programme sera lent à l'exe\n"
   ]
  },
  {
   "cell_type": "code",
   "execution_count": 85,
   "id": "c60891fa",
   "metadata": {},
   "outputs": [
    {
     "data": {
      "text/plain": [
       "array([ 0.    ,  0.5264,  1.053 ,  1.579 ,  2.105 ,  2.63  ,  3.158 ,\n",
       "        3.684 ,  4.21  ,  4.74  ,  5.26  ,  5.79  ,  6.316 ,  6.844 ,\n",
       "        7.367 ,  7.895 ,  8.42  ,  8.945 ,  9.48  , 10.    ],\n",
       "      dtype=float16)"
      ]
     },
     "execution_count": 85,
     "metadata": {},
     "output_type": "execute_result"
    }
   ],
   "source": [
    "np.linspace(0, 10, 20, dtype=np.float16)#on aura  moins de précision dans les nombres obtenus. Le programme sera plus rapide à l'exe\n"
   ]
  },
  {
   "cell_type": "code",
   "execution_count": 86,
   "id": "1c3a8e91",
   "metadata": {},
   "outputs": [],
   "source": [
    "#Différents méthodes qui nous permettent de manipuler des tableaux"
   ]
  },
  {
   "cell_type": "code",
   "execution_count": 87,
   "id": "bb969ed1",
   "metadata": {},
   "outputs": [],
   "source": [
    "A = np.zeros((3, 2))\n",
    "B = np.ones((3, 2))"
   ]
  },
  {
   "cell_type": "code",
   "execution_count": 88,
   "id": "ea69ec34",
   "metadata": {},
   "outputs": [
    {
     "name": "stdout",
     "output_type": "stream",
     "text": [
      "[[0. 0.]\n",
      " [0. 0.]\n",
      " [0. 0.]]\n"
     ]
    }
   ],
   "source": [
    "print(A)"
   ]
  },
  {
   "cell_type": "code",
   "execution_count": 89,
   "id": "b30b8347",
   "metadata": {},
   "outputs": [
    {
     "name": "stdout",
     "output_type": "stream",
     "text": [
      "[[1. 1.]\n",
      " [1. 1.]\n",
      " [1. 1.]]\n"
     ]
    }
   ],
   "source": [
    "print(B)"
   ]
  },
  {
   "cell_type": "code",
   "execution_count": 90,
   "id": "7727e8c0",
   "metadata": {},
   "outputs": [],
   "source": [
    "#assembler de façon horizontal\n",
    "C = np.hstack((A, B))"
   ]
  },
  {
   "cell_type": "code",
   "execution_count": 91,
   "id": "225a2e6e",
   "metadata": {},
   "outputs": [
    {
     "data": {
      "text/plain": [
       "array([[0., 0., 1., 1.],\n",
       "       [0., 0., 1., 1.],\n",
       "       [0., 0., 1., 1.]])"
      ]
     },
     "execution_count": 91,
     "metadata": {},
     "output_type": "execute_result"
    }
   ],
   "source": [
    "C"
   ]
  },
  {
   "cell_type": "code",
   "execution_count": 92,
   "id": "0606afdb",
   "metadata": {},
   "outputs": [
    {
     "data": {
      "text/plain": [
       "(3, 4)"
      ]
     },
     "execution_count": 92,
     "metadata": {},
     "output_type": "execute_result"
    }
   ],
   "source": [
    "C.shape"
   ]
  },
  {
   "cell_type": "code",
   "execution_count": 93,
   "id": "28c2c7c4",
   "metadata": {},
   "outputs": [],
   "source": [
    "#assembler le tableau de façon verticale; Affiche d'abord le tableau A puis celui du B \n",
    "\n",
    "D = np.vstack((A, B))"
   ]
  },
  {
   "cell_type": "code",
   "execution_count": 94,
   "id": "2dda3d2a",
   "metadata": {},
   "outputs": [
    {
     "data": {
      "text/plain": [
       "array([[0., 0.],\n",
       "       [0., 0.],\n",
       "       [0., 0.],\n",
       "       [1., 1.],\n",
       "       [1., 1.],\n",
       "       [1., 1.]])"
      ]
     },
     "execution_count": 94,
     "metadata": {},
     "output_type": "execute_result"
    }
   ],
   "source": [
    "D"
   ]
  },
  {
   "cell_type": "code",
   "execution_count": 95,
   "id": "ab4729b4",
   "metadata": {},
   "outputs": [
    {
     "data": {
      "text/plain": [
       "(6, 2)"
      ]
     },
     "execution_count": 95,
     "metadata": {},
     "output_type": "execute_result"
    }
   ],
   "source": [
    "D.shape"
   ]
  },
  {
   "cell_type": "code",
   "execution_count": 96,
   "id": "8a4cc8da",
   "metadata": {},
   "outputs": [
    {
     "data": {
      "text/plain": [
       "array([[0., 0., 1., 1.],\n",
       "       [0., 0., 1., 1.],\n",
       "       [0., 0., 1., 1.]])"
      ]
     },
     "execution_count": 96,
     "metadata": {},
     "output_type": "execute_result"
    }
   ],
   "source": [
    "#ou concatenate qui donne le même résultat et où on va devoir désigner un axe sur lequel on veut faire sur notre assemblage\n",
    "#plus facile à changer de dimension que \"vstack\" ou \"hstack\"\n",
    "#et on pourra développer une meilleur compréhension sur des axes numpy\n",
    "np.concatenate((A, B), axis=1)    \n",
    "    "
   ]
  },
  {
   "cell_type": "code",
   "execution_count": 97,
   "id": "38abbd13",
   "metadata": {},
   "outputs": [
    {
     "data": {
      "text/plain": [
       "12"
      ]
     },
     "execution_count": 97,
     "metadata": {},
     "output_type": "execute_result"
    }
   ],
   "source": [
    "#\".reshape\" = méthode qui nous permet de remanipuler la forme d'un tableau pour lui donner un nouvel forme\n",
    "#Seulement fonctionnable si le nombre d'élément qu'on a dans la forme initiale est = au nombre d'éléments qu'on a dans la forme finale\n",
    "\n",
    "D.size"
   ]
  },
  {
   "cell_type": "code",
   "execution_count": 98,
   "id": "8b7efe26",
   "metadata": {},
   "outputs": [
    {
     "data": {
      "text/plain": [
       "array([[0., 0., 0., 0.],\n",
       "       [0., 0., 1., 1.],\n",
       "       [1., 1., 1., 1.]])"
      ]
     },
     "execution_count": 98,
     "metadata": {},
     "output_type": "execute_result"
    }
   ],
   "source": [
    "D = D.reshape((3, 4))#on écrit ces chiffres dans un tuple vu que shape doit être dans un tuple\n",
    "\n",
    "D"
   ]
  },
  {
   "cell_type": "code",
   "execution_count": 99,
   "id": "9d779596",
   "metadata": {},
   "outputs": [
    {
     "data": {
      "text/plain": [
       "(3,)"
      ]
     },
     "execution_count": 99,
     "metadata": {},
     "output_type": "execute_result"
    }
   ],
   "source": [
    "A = np.array([1, 2, 3])\n",
    "A.shape\n",
    "#le 1 manquant de notre shape peut créer des problèmes dans notre algorythme donc on va reshape à la suite"
   ]
  },
  {
   "cell_type": "code",
   "execution_count": 100,
   "id": "0d3c5728",
   "metadata": {},
   "outputs": [
    {
     "data": {
      "text/plain": [
       "(3, 1)"
      ]
     },
     "execution_count": 100,
     "metadata": {},
     "output_type": "execute_result"
    }
   ],
   "source": [
    "A = A.reshape((A.shape[0], 1))\n",
    "A.shape"
   ]
  },
  {
   "cell_type": "code",
   "execution_count": 101,
   "id": "fb4a1240",
   "metadata": {},
   "outputs": [
    {
     "data": {
      "text/plain": [
       "(3, 1)"
      ]
     },
     "execution_count": 101,
     "metadata": {},
     "output_type": "execute_result"
    }
   ],
   "source": [
    "#ou\n",
    "A = A.reshape((3, 1))\n",
    "A.shape"
   ]
  },
  {
   "cell_type": "code",
   "execution_count": 102,
   "id": "c8dac375",
   "metadata": {},
   "outputs": [],
   "source": [
    "#Cependant dans certains fonction comme crééer des graphiques, observer une photo à l'écran\n",
    "#vaut mieux qu'il y'a le un qui est absent parcequ'il peut présenter des problèmes"
   ]
  },
  {
   "cell_type": "code",
   "execution_count": 103,
   "id": "931c9148",
   "metadata": {},
   "outputs": [],
   "source": [
    "A = A.squeeze()\n",
    "#va retouner le tableau le 1 a été remplaçé par rien. Donc,il a pour fonction de disparaître toutes les dimensions finisons par 1"
   ]
  },
  {
   "cell_type": "code",
   "execution_count": 104,
   "id": "55ec1956",
   "metadata": {},
   "outputs": [
    {
     "data": {
      "text/plain": [
       "(3,)"
      ]
     },
     "execution_count": 104,
     "metadata": {},
     "output_type": "execute_result"
    }
   ],
   "source": [
    "A.shape"
   ]
  },
  {
   "cell_type": "code",
   "execution_count": 105,
   "id": "cab5ef1b",
   "metadata": {},
   "outputs": [],
   "source": [
    "#\".ravel\" = méthode qui permet d'aplâtir un tableau à une seule dimension"
   ]
  },
  {
   "cell_type": "code",
   "execution_count": 106,
   "id": "85455cab",
   "metadata": {},
   "outputs": [
    {
     "data": {
      "text/plain": [
       "array([0., 0., 0., 0., 0., 0., 1., 1., 1., 1., 1., 1.])"
      ]
     },
     "execution_count": 106,
     "metadata": {},
     "output_type": "execute_result"
    }
   ],
   "source": [
    "#on va utiliser D de plus haut dans lequel on a 3 lignes et 4 colonnes\n",
    "\n",
    "D.ravel()"
   ]
  },
  {
   "cell_type": "code",
   "execution_count": 107,
   "id": "df158023",
   "metadata": {},
   "outputs": [
    {
     "data": {
      "text/plain": [
       "(12,)"
      ]
     },
     "execution_count": 107,
     "metadata": {},
     "output_type": "execute_result"
    }
   ],
   "source": [
    "#si on veut vérifier les dimensions\n",
    "D.ravel().shape"
   ]
  }
 ],
 "metadata": {
  "kernelspec": {
   "display_name": "Python 3 (ipykernel)",
   "language": "python",
   "name": "python3"
  },
  "language_info": {
   "codemirror_mode": {
    "name": "ipython",
    "version": 3
   },
   "file_extension": ".py",
   "mimetype": "text/x-python",
   "name": "python",
   "nbconvert_exporter": "python",
   "pygments_lexer": "ipython3",
   "version": "3.11.5"
  }
 },
 "nbformat": 4,
 "nbformat_minor": 5
}
