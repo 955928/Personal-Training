{
 "cells": [
  {
   "cell_type": "code",
   "execution_count": 70,
   "id": "e1c3c4d4",
   "metadata": {},
   "outputs": [],
   "source": [
    "nb_grades =  []\n",
    "\n",
    "def grade_entry():\n",
    "    while True:\n",
    "        user_input = input (\"Enter grade\")\n",
    "        \n",
    "        if user_input == \"\":\n",
    "             break\n",
    "                \n",
    "        grades = int(user_input)\n",
    "        \n",
    "        if 0 <= grades <= 20:\n",
    "            nb_grades.append(grades)\n",
    "            \n",
    "        \n",
    "        else: \n",
    "            return \"Invalid grade. Must be between 0 and 20\"\n",
    "\n",
    "        if nb_grades:\n",
    "            \n",
    "            nb_grades_count = len(nb_grades)\n",
    "            highest_grade = max(nb_grades)\n",
    "            lowest_grade = min(nb_grades)\n",
    "            average_grade = sum(nb_grades)/nb_grades_count\n",
    "            print(f\"You have submitted the following grade:{grades}\")\n",
    "            print(f\"The highest grade is {highest_grade}\")\n",
    "            print(f\"The lowest grade is {lowest_grade}\")\n",
    "            print(f\"The average grade is {average_grade}\")\n",
    "\n",
    "        else:\n",
    "            print(\"no grades entered\")\n",
    "    "
   ]
  },
  {
   "cell_type": "code",
   "execution_count": 71,
   "id": "7102fda0",
   "metadata": {},
   "outputs": [
    {
     "name": "stdout",
     "output_type": "stream",
     "text": [
      "Enter grade15\n",
      "You have submitted the following grade:15\n",
      "The highest grade is 15\n",
      "The lowest grade is 15\n",
      "The average grade is 15.0\n",
      "Enter grade16\n",
      "You have submitted the following grade:16\n",
      "The highest grade is 16\n",
      "The lowest grade is 15\n",
      "The average grade is 15.5\n",
      "Enter grade7\n",
      "You have submitted the following grade:7\n",
      "The highest grade is 16\n",
      "The lowest grade is 7\n",
      "The average grade is 12.666666666666666\n",
      "Enter grade12.6\n"
     ]
    },
    {
     "ename": "ValueError",
     "evalue": "invalid literal for int() with base 10: '12.6'",
     "output_type": "error",
     "traceback": [
      "\u001b[1;31m---------------------------------------------------------------------------\u001b[0m",
      "\u001b[1;31mValueError\u001b[0m                                Traceback (most recent call last)",
      "Cell \u001b[1;32mIn[71], line 1\u001b[0m\n\u001b[1;32m----> 1\u001b[0m grade_entry()\n",
      "Cell \u001b[1;32mIn[70], line 10\u001b[0m, in \u001b[0;36mgrade_entry\u001b[1;34m()\u001b[0m\n\u001b[0;32m      7\u001b[0m \u001b[38;5;28;01mif\u001b[39;00m user_input \u001b[38;5;241m==\u001b[39m \u001b[38;5;124m\"\u001b[39m\u001b[38;5;124m\"\u001b[39m:\n\u001b[0;32m      8\u001b[0m      \u001b[38;5;28;01mbreak\u001b[39;00m\n\u001b[1;32m---> 10\u001b[0m grades \u001b[38;5;241m=\u001b[39m \u001b[38;5;28mint\u001b[39m(user_input)\n\u001b[0;32m     12\u001b[0m \u001b[38;5;28;01mif\u001b[39;00m \u001b[38;5;241m0\u001b[39m \u001b[38;5;241m<\u001b[39m\u001b[38;5;241m=\u001b[39m grades \u001b[38;5;241m<\u001b[39m\u001b[38;5;241m=\u001b[39m \u001b[38;5;241m20\u001b[39m:\n\u001b[0;32m     13\u001b[0m     nb_grades\u001b[38;5;241m.\u001b[39mappend(grades)\n",
      "\u001b[1;31mValueError\u001b[0m: invalid literal for int() with base 10: '12.6'"
     ]
    }
   ],
   "source": [
    "grade_entry()"
   ]
  },
  {
   "cell_type": "code",
   "execution_count": null,
   "id": "d6e92c0b",
   "metadata": {},
   "outputs": [],
   "source": []
  }
 ],
 "metadata": {
  "kernelspec": {
   "display_name": "Python 3 (ipykernel)",
   "language": "python",
   "name": "python3"
  },
  "language_info": {
   "codemirror_mode": {
    "name": "ipython",
    "version": 3
   },
   "file_extension": ".py",
   "mimetype": "text/x-python",
   "name": "python",
   "nbconvert_exporter": "python",
   "pygments_lexer": "ipython3",
   "version": "3.11.5"
  }
 },
 "nbformat": 4,
 "nbformat_minor": 5
}
