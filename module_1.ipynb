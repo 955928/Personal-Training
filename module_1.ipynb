def fibonacci(n):
    a = 0
    b = 1
    fib=[a]
    while b < n:
        a, b = b, a+b
        fib.append(a)
        
    return fib




def trier(classeur, nombre):
    
    if nombre >= 0:
        classeur['positif'].append(nombre)
    else:
        classeur['négatif'].append(nombre)
        
    return classeur