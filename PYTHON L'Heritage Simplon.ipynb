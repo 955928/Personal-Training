{
 "cells": [
  {
   "cell_type": "code",
   "execution_count": null,
   "id": "1a1c301d",
   "metadata": {},
   "outputs": [],
   "source": [
    "from random import randint\n",
    "\n",
    "class Point:\n",
    "\n",
    "    def __init__(self, x, y):\n",
    "        self.x = x\n",
    "        self.y = y\n",
    "\n",
    "    def falls_in_rectangle(self, rectangle):\n",
    "        if rectangle.point1.x < self.x < rectangle.point2.x \\\n",
    "                and rectangle.point1.y < self.y < rectangle.point2.y:\n",
    "            return True\n",
    "        else:\n",
    "            return False\n",
    "\n",
    "\n",
    "class Rectangle:\n",
    "\n",
    "    def __init__(self, point1, point2):\n",
    "        # On s'assure que point1 est en bas à gauche\n",
    "        # et que point2 est en haut à droite\n",
    "        self.point1 = Point(min(point1.x, point2.x), min(point1.y, point2.y))\n",
    "        self.point2 = Point(max(point1.x, point2.x), max(point1.y, point2.y))\n",
    "\n",
    "    def area(self):\n",
    "        return (self.point2.x - self.point1.x) * \\\n",
    "               (self.point2.y - self.point1.y)\n",
    "\n",
    "\n",
    "# Create rectangle object\n",
    "rectangle = Rectangle(Point(randint(0, 9), randint(0, 9)),\n",
    "              Point(randint(10, 19), randint(10, 19)))\n",
    "\n",
    "# Print rectangle coordinates\n",
    "print(\"Rectangle Coordinates: \",\n",
    "      rectangle.point1.x, \",\",\n",
    "      rectangle.point1.y, \"and\",\n",
    "      rectangle.point2.x, \",\",\n",
    "      rectangle.point2.y)\n",
    "\n",
    "# Get point and area from user\n",
    "user_point = Point(float(input(\"Guess x: \")), float(input(\"Guess y: \")))\n",
    "user_area = float(input(\"Guess rectangle area: \"))\n",
    "\n",
    "# Print out the game result\n",
    "print(\"Your point was inside rectangle: \", user_point.falls_in_rectangle(rectangle))\n",
    "print(\"Your area was off by: \", rectangle.area() - user_area)\n"
   ]
  },
  {
   "cell_type": "code",
   "execution_count": null,
   "id": "6792fa39",
   "metadata": {},
   "outputs": [],
   "source": [
    "import turtle\n",
    "\n",
    "myturtle = turtle.Turtle()\n",
    "\n",
    "class GraphicalRectangle(Rectangle):\n",
    "\n",
    "    def draw(self, canvas=myturtle):\n",
    "        canvas.penup()\n",
    "        # Le point (0,0) c'est le centre du canves\n",
    "        canvas.goto(10, 50)\n",
    "        canvas.pendown()\n",
    "\n",
    "        # Dessin d'un rectangle\n",
    "        canvas.forward(100)\n",
    "        canvas.left(90)\n",
    "        canvas.forward(200)\n",
    "        canvas.left(90)\n",
    "        canvas.forward(100)\n",
    "        canvas.left(90)\n",
    "        canvas.forward(200)\n",
    "\n",
    "        turtle.done()"
   ]
  },
  {
   "cell_type": "code",
   "execution_count": null,
   "id": "35f61949",
   "metadata": {},
   "outputs": [],
   "source": [
    "point1 = Point(3,4)\n",
    "point2 = Point(5,6)\n",
    "rectangle = GraphicalRectangle(point1, point2)\n",
    "rectangle.draw()"
   ]
  },
  {
   "cell_type": "code",
   "execution_count": null,
   "id": "fc382557",
   "metadata": {},
   "outputs": [],
   "source": [
    "import turtle\n",
    "\n",
    "myturtle = turtle.Turtle()\n",
    "\n",
    "class GraphicalRectangle(Rectangle):\n",
    "\n",
    "    def draw(self, canvas=myturtle):\n",
    "        canvas.penup()\n",
    "        # Le point (0,0) c'est le centre du canves\n",
    "        canvas.goto(self.point1.x, self.point1.x,)\n",
    "        canvas.pendown()\n",
    "\n",
    "        largeur = self.point2.x - self.point1.x\n",
    "        longueur = self.point2.y - self.point1.y\n",
    "        # Dessin d'un rectangle\n",
    "        canvas.forward(largeur)\n",
    "        canvas.left(90)\n",
    "        canvas.forward(longueur)\n",
    "        canvas.left(90)\n",
    "        canvas.forward(largeur)\n",
    "        canvas.left(90)\n",
    "        canvas.forward(longueur)\n",
    "\n",
    "        turtle.done()"
   ]
  },
  {
   "cell_type": "code",
   "execution_count": null,
   "id": "0d851c3f",
   "metadata": {},
   "outputs": [],
   "source": [
    "point1 = Point(3,4)\n",
    "point2 = Point(5,6)\n",
    "rectangle = GraphicalRectangle(point1, point2)\n",
    "rectangle.draw()"
   ]
  },
  {
   "cell_type": "code",
   "execution_count": null,
   "id": "5a954902",
   "metadata": {},
   "outputs": [],
   "source": [
    "class GraphicalPoint(Point):\n",
    "    def draw(self, canvas, size=5):\n",
    "        canvas.penup()\n",
    "        # Le point (0,0) c'est le centre du canves\n",
    "        canvas.goto(self.x, self.y)\n",
    "        canvas.pendown()\n",
    "        canvas.dot(size=size)"
   ]
  },
  {
   "cell_type": "code",
   "execution_count": null,
   "id": "8b8e37ae",
   "metadata": {},
   "outputs": [],
   "source": []
  }
 ],
 "metadata": {
  "kernelspec": {
   "display_name": "Python 3 (ipykernel)",
   "language": "python",
   "name": "python3"
  },
  "language_info": {
   "codemirror_mode": {
    "name": "ipython",
    "version": 3
   },
   "file_extension": ".py",
   "mimetype": "text/x-python",
   "name": "python",
   "nbconvert_exporter": "python",
   "pygments_lexer": "ipython3",
   "version": "3.11.5"
  }
 },
 "nbformat": 4,
 "nbformat_minor": 5
}
