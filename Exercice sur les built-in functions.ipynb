{
 "cells": [
  {
   "cell_type": "code",
   "execution_count": 2,
   "id": "2f076812",
   "metadata": {},
   "outputs": [],
   "source": [
    "#Lire le \"fichier.ex\" et retourner une liste de tout son contenant\n"
   ]
  },
  {
   "cell_type": "code",
   "execution_count": 3,
   "id": "4cde506f",
   "metadata": {},
   "outputs": [],
   "source": [
    "with open('fichier.ex', 'w') as f:\n",
    "    for i in range(10):\n",
    "        f.write(\"{}^2 = {} \\n\".format(i, i**2) )"
   ]
  },
  {
   "cell_type": "code",
   "execution_count": 11,
   "id": "cad1f0ad",
   "metadata": {},
   "outputs": [],
   "source": [
    "liste_1 = str(i)"
   ]
  },
  {
   "cell_type": "code",
   "execution_count": 10,
   "id": "bb76dec1",
   "metadata": {},
   "outputs": [
    {
     "data": {
      "text/plain": [
       "int"
      ]
     },
     "execution_count": 10,
     "metadata": {},
     "output_type": "execute_result"
    }
   ],
   "source": [
    "type(i)"
   ]
  },
  {
   "cell_type": "code",
   "execution_count": 12,
   "id": "24545816",
   "metadata": {},
   "outputs": [
    {
     "data": {
      "text/plain": [
       "['9']"
      ]
     },
     "execution_count": 12,
     "metadata": {},
     "output_type": "execute_result"
    }
   ],
   "source": [
    "list(liste_1)"
   ]
  },
  {
   "cell_type": "code",
   "execution_count": 30,
   "id": "e62b1fdb",
   "metadata": {},
   "outputs": [],
   "source": [
    "with open('fichier.ex', 'w') as f:\n",
    "    for i in range(10):\n",
    "        f.write(\"{}^2 = {} \\n\".format(i, i**2) )"
   ]
  },
  {
   "cell_type": "code",
   "execution_count": 53,
   "id": "f429795b",
   "metadata": {},
   "outputs": [
    {
     "name": "stdout",
     "output_type": "stream",
     "text": [
      "0^2 = 0 \n",
      "1^2 = 1 \n",
      "2^2 = 4 \n",
      "3^2 = 9 \n",
      "4^2 = 16 \n",
      "5^2 = 25 \n",
      "6^2 = 36 \n",
      "7^2 = 49 \n",
      "8^2 = 64 \n",
      "9^2 = 81 \n",
      "\n"
     ]
    }
   ],
   "source": [
    "with open('fichier.txt', 'r') as f:\n",
    "    print(f.read())"
   ]
  },
  {
   "cell_type": "code",
   "execution_count": 54,
   "id": "662e3388",
   "metadata": {},
   "outputs": [
    {
     "data": {
      "text/plain": [
       "'0^2 = 0 \\n1^2 = 1 \\n2^2 = 4 \\n3^2 = 9 \\n4^2 = 16 \\n5^2 = 25 \\n6^2 = 36 \\n7^2 = 49 \\n8^2 = 64 \\n9^2 = 81 \\n'"
      ]
     },
     "execution_count": 54,
     "metadata": {},
     "output_type": "execute_result"
    }
   ],
   "source": [
    "f = open('fichier.txt', 'r')\n",
    "f.read()"
   ]
  },
  {
   "cell_type": "code",
   "execution_count": 58,
   "id": "c667967b",
   "metadata": {},
   "outputs": [],
   "source": [
    "with open('fichier.ex', 'w') as f:\n",
    "    for i in range(10):\n",
    "        f.write(\"{}^2 = {} \\n\".format(i, i**2))"
   ]
  },
  {
   "cell_type": "code",
   "execution_count": 61,
   "id": "3f6c2662",
   "metadata": {},
   "outputs": [
    {
     "ename": "TypeError",
     "evalue": "argument should be integer or None, not 'str'",
     "output_type": "error",
     "traceback": [
      "\u001b[1;31m---------------------------------------------------------------------------\u001b[0m",
      "\u001b[1;31mTypeError\u001b[0m                                 Traceback (most recent call last)",
      "Cell \u001b[1;32mIn[61], line 2\u001b[0m\n\u001b[0;32m      1\u001b[0m \u001b[38;5;28;01mwith\u001b[39;00m \u001b[38;5;28mopen\u001b[39m(\u001b[38;5;124m'\u001b[39m\u001b[38;5;124mfichier.txt\u001b[39m\u001b[38;5;124m'\u001b[39m, \u001b[38;5;124m'\u001b[39m\u001b[38;5;124mr\u001b[39m\u001b[38;5;124m'\u001b[39m) \u001b[38;5;28;01mas\u001b[39;00m f:\n\u001b[1;32m----> 2\u001b[0m     \u001b[38;5;28mprint\u001b[39m(f\u001b[38;5;241m.\u001b[39mread(\u001b[38;5;124m\"\u001b[39m\u001b[38;5;124m\"\u001b[39m))\n",
      "\u001b[1;31mTypeError\u001b[0m: argument should be integer or None, not 'str'"
     ]
    }
   ],
   "source": [
    "with open('fichier.txt', 'r') as f:\n",
    "    print(f.read())"
   ]
  },
  {
   "cell_type": "code",
   "execution_count": 5,
   "id": "24ae5ba0",
   "metadata": {},
   "outputs": [],
   "source": [
    "#REPONSE\n",
    "with open('fichier.ex', 'w') as f:\n",
    "    for i in range(10):\n",
    "        f.write(\"{}^2 = {} \\n\".format(i, i**2))"
   ]
  },
  {
   "cell_type": "code",
   "execution_count": 7,
   "id": "0b449e7d",
   "metadata": {},
   "outputs": [
    {
     "data": {
      "text/plain": [
       "['0^2 = 0 \\n',\n",
       " '1^2 = 1 \\n',\n",
       " '2^2 = 4 \\n',\n",
       " '3^2 = 9 \\n',\n",
       " '4^2 = 16 \\n',\n",
       " '5^2 = 25 \\n',\n",
       " '6^2 = 36 \\n',\n",
       " '7^2 = 49 \\n',\n",
       " '8^2 = 64 \\n',\n",
       " '9^2 = 81 \\n']"
      ]
     },
     "execution_count": 7,
     "metadata": {},
     "output_type": "execute_result"
    }
   ],
   "source": [
    "\n",
    "\n",
    "with open('fichier.txt', 'r') as f:\n",
    "    liste_1 = f.readlines()\n",
    "    \n",
    "liste_1\n",
    "    "
   ]
  },
  {
   "cell_type": "code",
   "execution_count": 8,
   "id": "f6598cf4",
   "metadata": {},
   "outputs": [
    {
     "data": {
      "text/plain": [
       "['0^2 = 0 ',\n",
       " '1^2 = 1 ',\n",
       " '2^2 = 4 ',\n",
       " '3^2 = 9 ',\n",
       " '4^2 = 16 ',\n",
       " '5^2 = 25 ',\n",
       " '6^2 = 36 ',\n",
       " '7^2 = 49 ',\n",
       " '8^2 = 64 ',\n",
       " '9^2 = 81 ']"
      ]
     },
     "execution_count": 8,
     "metadata": {},
     "output_type": "execute_result"
    }
   ],
   "source": [
    "#pour enlever les \\n\n",
    "\n",
    "with open('fichier.txt', 'r') as f:\n",
    "    liste_1 = f.read().splitlines()\n",
    "    \n",
    "liste_1"
   ]
  },
  {
   "cell_type": "code",
   "execution_count": 9,
   "id": "2105f111",
   "metadata": {},
   "outputs": [
    {
     "data": {
      "text/plain": [
       "['0^2 = 0 \\n',\n",
       " '1^2 = 1 \\n',\n",
       " '2^2 = 4 \\n',\n",
       " '3^2 = 9 \\n',\n",
       " '4^2 = 16 \\n',\n",
       " '5^2 = 25 \\n',\n",
       " '6^2 = 36 \\n',\n",
       " '7^2 = 49 \\n',\n",
       " '8^2 = 64 \\n',\n",
       " '9^2 = 81 \\n']"
      ]
     },
     "execution_count": 9,
     "metadata": {},
     "output_type": "execute_result"
    }
   ],
   "source": [
    "#autre solution: list comprehension\n",
    "\n",
    "liste_1 = [line for line in open('fichier.txt', 'r')]\n",
    "\n",
    "liste_1"
   ]
  },
  {
   "cell_type": "code",
   "execution_count": 11,
   "id": "d90a4d4c",
   "metadata": {},
   "outputs": [
    {
     "data": {
      "text/plain": [
       "['0^2 = 0',\n",
       " '1^2 = 1',\n",
       " '2^2 = 4',\n",
       " '3^2 = 9',\n",
       " '4^2 = 16',\n",
       " '5^2 = 25',\n",
       " '6^2 = 36',\n",
       " '7^2 = 49',\n",
       " '8^2 = 64',\n",
       " '9^2 = 81']"
      ]
     },
     "execution_count": 11,
     "metadata": {},
     "output_type": "execute_result"
    }
   ],
   "source": [
    "#ou pour enlever \\n\n",
    "\n",
    "liste_1 = [line.strip() for line in open('fichier.txt', 'r')] \n",
    "\n",
    "liste_1\n"
   ]
  },
  {
   "cell_type": "code",
   "execution_count": null,
   "id": "5d927898",
   "metadata": {},
   "outputs": [],
   "source": []
  }
 ],
 "metadata": {
  "kernelspec": {
   "display_name": "Python 3 (ipykernel)",
   "language": "python",
   "name": "python3"
  },
  "language_info": {
   "codemirror_mode": {
    "name": "ipython",
    "version": 3
   },
   "file_extension": ".py",
   "mimetype": "text/x-python",
   "name": "python",
   "nbconvert_exporter": "python",
   "pygments_lexer": "ipython3",
   "version": "3.11.4"
  }
 },
 "nbformat": 4,
 "nbformat_minor": 5
}
