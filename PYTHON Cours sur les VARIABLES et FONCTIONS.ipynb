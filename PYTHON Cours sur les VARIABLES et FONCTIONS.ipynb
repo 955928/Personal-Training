{
 "cells": [
  {
   "cell_type": "markdown",
   "id": "6eb6a667",
   "metadata": {},
   "source": [
    "### x = 1\n",
    "print(x)"
   ]
  },
  {
   "cell_type": "code",
   "execution_count": 18,
   "id": "8d3b17f4",
   "metadata": {},
   "outputs": [
    {
     "name": "stdout",
     "output_type": "stream",
     "text": [
      "2\n"
     ]
    }
   ],
   "source": [
    "x = 2\n",
    "print(x)"
   ]
  },
  {
   "cell_type": "code",
   "execution_count": 19,
   "id": "1dc89d93",
   "metadata": {},
   "outputs": [
    {
     "name": "stdout",
     "output_type": "stream",
     "text": [
      "3\n"
     ]
    }
   ],
   "source": [
    "x = x + 1\n",
    "print(x)"
   ]
  },
  {
   "cell_type": "code",
   "execution_count": 20,
   "id": "fc613c91",
   "metadata": {},
   "outputs": [
    {
     "name": "stdout",
     "output_type": "stream",
     "text": [
      "4\n"
     ]
    }
   ],
   "source": [
    "x += 1\n",
    "print(x)"
   ]
  },
  {
   "cell_type": "code",
   "execution_count": 21,
   "id": "e552409a",
   "metadata": {},
   "outputs": [
    {
     "name": "stdout",
     "output_type": "stream",
     "text": [
      "6.5\n"
     ]
    }
   ],
   "source": [
    "y = 2.5\n",
    "print(x+y)"
   ]
  },
  {
   "cell_type": "code",
   "execution_count": 22,
   "id": "7d66bbc3",
   "metadata": {},
   "outputs": [
    {
     "name": "stdout",
     "output_type": "stream",
     "text": [
      "6.5\n",
      "1.5\n",
      "10.0\n",
      "32.0\n",
      "1.6\n",
      "False\n",
      "True\n",
      "False\n",
      "True\n"
     ]
    }
   ],
   "source": [
    "#Arthmetique\n",
    "print(x + y)\n",
    "print(x - y)\n",
    "print(x * y)\n",
    "print(x ** y)\n",
    "print(x / y)\n",
    "\n",
    "#Comparaison\n",
    "print(x <= y)#inf. à y\n",
    "print(x >= y)#sup. à y\n",
    "print(x == y)#égalité\n",
    "print(x != y)#inégalité"
   ]
  },
  {
   "cell_type": "code",
   "execution_count": 23,
   "id": "b883300f",
   "metadata": {},
   "outputs": [
    {
     "name": "stdout",
     "output_type": "stream",
     "text": [
      "False\n",
      "True\n",
      "True\n"
     ]
    }
   ],
   "source": [
    "#Les False ou True == Les Booléens \n",
    "#un type de variable\n",
    "\n",
    "#Les logiques\n",
    "print(False & True)#And\n",
    "print (False | True)#or \"Or\"\n",
    "print(False ^ True)#XOR(le'ou exclusif')"
   ]
  },
  {
   "cell_type": "code",
   "execution_count": 24,
   "id": "88f8fb0f",
   "metadata": {},
   "outputs": [
    {
     "name": "stdout",
     "output_type": "stream",
     "text": [
      "Djo\n"
     ]
    }
   ],
   "source": [
    "#String (une variable qui permet de stocker des chaînes de caractères)\n",
    "#eg \n",
    "\n",
    "prenom = 'Djo'\n",
    "print(prenom)"
   ]
  },
  {
   "cell_type": "code",
   "execution_count": 25,
   "id": "1f461388",
   "metadata": {},
   "outputs": [],
   "source": [
    "# Soit \n",
    "# x = 1\n",
    "# y = 2\n",
    "\n",
    "#ou\n",
    "# x , y = 1 , 2\n",
    "#pour éviter plusieurs lignes dans le codage et qui potentiellement augmente la rapidité de ton code\n"
   ]
  },
  {
   "cell_type": "code",
   "execution_count": 26,
   "id": "871dc6c1",
   "metadata": {},
   "outputs": [
    {
     "name": "stdout",
     "output_type": "stream",
     "text": [
      "9\n",
      "16\n",
      "25\n"
     ]
    }
   ],
   "source": [
    "#Les fonctions\n",
    "f = lambda x: x**2 # f de x est égale à x², lambda permet une fonction de type mathématique\n",
    "\n",
    "print(f(3))\n",
    "print(f(4))\n",
    "print(f(5))"
   ]
  },
  {
   "cell_type": "code",
   "execution_count": 27,
   "id": "7da08c3c",
   "metadata": {},
   "outputs": [
    {
     "name": "stdout",
     "output_type": "stream",
     "text": [
      "16\n",
      "18\n",
      "28\n"
     ]
    }
   ],
   "source": [
    "f = lambda x, y: x**2 + y\n",
    "\n",
    "print(f(3, 7))\n",
    "print(f(4, 2))\n",
    "print(f(5, 3))"
   ]
  },
  {
   "cell_type": "code",
   "execution_count": 28,
   "id": "8b18b18a",
   "metadata": {},
   "outputs": [
    {
     "name": "stdout",
     "output_type": "stream",
     "text": [
      "Bonjour\n",
      "3924.0\n"
     ]
    }
   ],
   "source": [
    "#faire des fonctions plus complexes avec\"()\" = des arguments\n",
    "def e_potentielle(masse, hauteur, g):# masse, hauteur, g sont les arguements de notre fonction, des prêtes noms / keywords qui passent des valeurs ou des variables à l'int. de notre fonc.\n",
    "    E = masse * hauteur * g# E est une variable interne qui n'existe que à l'int. de notre fonc. de e_potentielle\n",
    "    print(E)\n",
    "\n",
    "print('Bonjour')\n",
    "e_potentielle(80, 5, 9.81)"
   ]
  },
  {
   "cell_type": "code",
   "execution_count": 29,
   "id": "a015eede",
   "metadata": {},
   "outputs": [
    {
     "name": "stdout",
     "output_type": "stream",
     "text": [
      "Bonjour\n",
      "3924.0 Joules\n"
     ]
    }
   ],
   "source": [
    "def e_potentielle(masse, hauteur, g):\n",
    "    E = masse * hauteur * g\n",
    "    print(E, 'Joules')\n",
    "\n",
    "print('Bonjour')\n",
    "e_potentielle(80, 5, 9.81)"
   ]
  },
  {
   "cell_type": "code",
   "execution_count": 30,
   "id": "98676e46",
   "metadata": {},
   "outputs": [
    {
     "name": "stdout",
     "output_type": "stream",
     "text": [
      "Bonjour\n",
      "3924.0\n"
     ]
    }
   ],
   "source": [
    "def e_potentielle(masse, hauteur, g):\n",
    "    E = masse * hauteur * g\n",
    "    print(E)\n",
    "    return E #va permettre à utiliser notre fonction à produire un résultat et pourvoir permettre la utilisation du résultat de E pour la suite du programme\n",
    "\n",
    "print('Bonjour')\n",
    "resultat = e_potentielle(masse=80, hauteur=5, g=9.81)"
   ]
  },
  {
   "cell_type": "code",
   "execution_count": 31,
   "id": "9c1482db",
   "metadata": {},
   "outputs": [
    {
     "name": "stdout",
     "output_type": "stream",
     "text": [
      "Bonjour\n",
      "3924.0\n"
     ]
    }
   ],
   "source": [
    "def e_potentielle(masse, hauteur, g=9.81):\n",
    "    E = masse * hauteur * g\n",
    "    print(E)\n",
    "    return E \n",
    "\n",
    "print('Bonjour')\n",
    "resultat = e_potentielle(masse=80, hauteur=5)#plus besoin de préciser g vu que ça a été préciser en haut"
   ]
  },
  {
   "cell_type": "code",
   "execution_count": 32,
   "id": "b98e7803",
   "metadata": {},
   "outputs": [
    {
     "name": "stdout",
     "output_type": "stream",
     "text": [
      "Bonjour\n",
      "2608.0\n"
     ]
    }
   ],
   "source": [
    "def e_potentielle(masse, hauteur, g=9.81):\n",
    "    E = masse * hauteur * g\n",
    "    print(E)\n",
    "    return E \n",
    "\n",
    "print('Bonjour')\n",
    "resultat = e_potentielle(masse=80, hauteur=5, g=6.52)#on peut comme meme changer la valeur de g si tu souhaites le donner un autre valeur que sa valeur par défaut"
   ]
  },
  {
   "cell_type": "code",
   "execution_count": null,
   "id": "1fd1e1cc",
   "metadata": {},
   "outputs": [],
   "source": []
  },
  {
   "cell_type": "code",
   "execution_count": 33,
   "id": "b8003b04",
   "metadata": {},
   "outputs": [
    {
     "name": "stdout",
     "output_type": "stream",
     "text": [
      "Bonjour\n"
     ]
    },
    {
     "ename": "TypeError",
     "evalue": "e_potentielle() missing 1 required positional argument: 'e_limite'",
     "output_type": "error",
     "traceback": [
      "\u001b[1;31m---------------------------------------------------------------------------\u001b[0m",
      "\u001b[1;31mTypeError\u001b[0m                                 Traceback (most recent call last)",
      "Cell \u001b[1;32mIn[33], line 8\u001b[0m\n\u001b[0;32m      5\u001b[0m     \u001b[38;5;28;01mreturn\u001b[39;00m E \n\u001b[0;32m      7\u001b[0m \u001b[38;5;28mprint\u001b[39m(\u001b[38;5;124m'\u001b[39m\u001b[38;5;124mBonjour\u001b[39m\u001b[38;5;124m'\u001b[39m)\n\u001b[1;32m----> 8\u001b[0m resultat \u001b[38;5;241m=\u001b[39m e_potentielle(masse\u001b[38;5;241m=\u001b[39m\u001b[38;5;241m80\u001b[39m, hauteur\u001b[38;5;241m=\u001b[39m\u001b[38;5;241m5\u001b[39m)\n",
      "\u001b[1;31mTypeError\u001b[0m: e_potentielle() missing 1 required positional argument: 'e_limite'"
     ]
    }
   ],
   "source": [
    "#Exercice calculer si l'énergie dans le calcul des keywords  est inf. ou sup. à l'énergie limite\n",
    "def e_potentielle(masse, hauteur, e_limite, g=9.81):\n",
    "    E = masse * hauteur * g\n",
    "    print(E)\n",
    "    return E \n",
    "\n",
    "print('Bonjour')\n",
    "resultat = e_potentielle(masse=80, hauteur=5)"
   ]
  }
 ],
 "metadata": {
  "kernelspec": {
   "display_name": "Python 3 (ipykernel)",
   "language": "python",
   "name": "python3"
  },
  "language_info": {
   "codemirror_mode": {
    "name": "ipython",
    "version": 3
   },
   "file_extension": ".py",
   "mimetype": "text/x-python",
   "name": "python",
   "nbconvert_exporter": "python",
   "pygments_lexer": "ipython3",
   "version": "3.11.5"
  }
 },
 "nbformat": 4,
 "nbformat_minor": 5
}
