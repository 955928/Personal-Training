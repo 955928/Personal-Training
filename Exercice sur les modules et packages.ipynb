{
 "cells": [
  {
   "cell_type": "code",
   "execution_count": 2,
   "id": "b6433a9c",
   "metadata": {},
   "outputs": [
    {
     "name": "stdout",
     "output_type": "stream",
     "text": [
      "{'fichier.txt': ['0^2 = 0 ', '1^2 = 1 ', '2^2 = 4 ', '3^2 = 9 ', '4^2 = 16 ', '5^2 = 25 ', '6^2 = 36 ', '7^2 = 49 ', '8^2 = 64 ', '9^2 = 81 '], 'liensutiles.txt': ['https://www.w3schools.com/python/python_ref_list.asp', 'https://gayerie.dev/docs/python/python3/dict.html', 'https://dev.to/ericlecodeur/la-cheat-sheet-complete-de-python-521p', 'https://www.youtube.com/watch?v=h6jciR8K43E', 'https://gayerie.dev/docs/python/python3/heritage.html'], 'watorproject.txt': ['Contexte du projet', \"L'aquarium Nausicaa souhaite installer un nouvel aquarium afin de fêter leurs 40ans.\", '', \"Cet aquarium possèdera une population composée de proies et de prédateurs afin de montrer l'équilibre entre ceux-ci dans le milieu naturel.\", '', 'Votre rôle est donc de réaliser un programme qui permet de simuler cette population et de la voir évoluer de manière visuelle.', '', 'Modalite´s pédagogiques', 'Groupe de trois', 'Durée : 5 jours', 'Critères de performance', 'Le code doit être documenté (Docstrings et commentaires)', 'Utilisation de la POO', 'https://en.wikipedia.org/wiki/Wa-Tor#Rules']}\n"
     ]
    }
   ],
   "source": [
    "#l'objectif est de créer un algorythme qui nous permet d'ouvrir tous les fichiers dans notre répertoire et les enregistrer le contenu de chaque fichier dans une sorte de variable à l'int. de python\n",
    "#donc dans un bouble for on peut pas créer d'autre variable donc on doit se servir d'un dictionnaire\n",
    "\n",
    "\n",
    "\n",
    "#REPONSE\n",
    "import glob\n",
    "\n",
    "filenames=glob.glob(\"*.txt\")\n",
    "d = {}\n",
    "\n",
    "for file in filenames:\n",
    "    with open(file, 'r') as f:\n",
    "        d[file] = f.read().splitlines()\n",
    "#on a crée une dict. vide, à l'int de notre boucle FOR , achaque ouverture d'un fichier on va rajouter une clef au dictionnaie \"[file]\"\n",
    "#qui sera égale aux contenus dont se trouve dans notre fichier F\n",
    "print(d)\n",
    "     "
   ]
  },
  {
   "cell_type": "code",
   "execution_count": null,
   "id": "c9f8829d",
   "metadata": {},
   "outputs": [],
   "source": []
  }
 ],
 "metadata": {
  "kernelspec": {
   "display_name": "Python 3 (ipykernel)",
   "language": "python",
   "name": "python3"
  },
  "language_info": {
   "codemirror_mode": {
    "name": "ipython",
    "version": 3
   },
   "file_extension": ".py",
   "mimetype": "text/x-python",
   "name": "python",
   "nbconvert_exporter": "python",
   "pygments_lexer": "ipython3",
   "version": "3.11.4"
  }
 },
 "nbformat": 4,
 "nbformat_minor": 5
}
