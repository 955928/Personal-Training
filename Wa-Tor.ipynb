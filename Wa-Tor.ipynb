{
 "cells": [
  {
   "cell_type": "code",
   "execution_count": 27,
   "id": "d57cbedd",
   "metadata": {},
   "outputs": [],
   "source": [
    "\n",
    "from tkinter import *\n"
   ]
  },
  {
   "cell_type": "code",
   "execution_count": 31,
   "id": "931295c3",
   "metadata": {},
   "outputs": [],
   "source": [
    "\n",
    "window = Tk()\n",
    "\n",
    "window.title(\"Planet Wator\")\n",
    "window.geometry(\"1080x720\")\n",
    "window.minsize(480, 360)\n",
    "window.iconbitmap(\"the_water_planet.ico\")\n",
    "window.config(background='#6ec2ff')\n",
    "\n",
    "\n",
    "label_title = Label(window, text=\"Welcome to Planet WATOR\")\n",
    "label_title.pack()\n",
    "\n",
    "\n",
    "\n",
    "window.mainloop()"
   ]
  },
  {
   "cell_type": "code",
   "execution_count": 24,
   "id": "3a49d3df",
   "metadata": {},
   "outputs": [
    {
     "ename": "SyntaxError",
     "evalue": "invalid syntax (1553573817.py, line 15)",
     "output_type": "error",
     "traceback": [
      "\u001b[1;36m  Cell \u001b[1;32mIn[24], line 15\u001b[1;36m\u001b[0m\n\u001b[1;33m    def__init__(self, reproduction):\u001b[0m\n\u001b[1;37m                                   ^\u001b[0m\n\u001b[1;31mSyntaxError\u001b[0m\u001b[1;31m:\u001b[0m invalid syntax\n"
     ]
    }
   ],
   "source": [
    "\n",
    "class Planet:\n",
    "    def __init__(self, largeur, hauteur):\n",
    "        \n",
    "    def unité_chronon(self):\n",
    "        pass\n",
    "        \n",
    "class Sea_Creatures:\n",
    "    def__init__(self, reproduction):\n",
    "        self.fish_time_reproduction = fish_time_reproduction\n",
    "        pass\n",
    "        \n",
    "    \n",
    "class Fish(Sea_Creatures):\n",
    "    def __init__(self, num_fish):\n",
    "        super().__init__(self, reproduction)\n",
    "        self.num_fish = []\n",
    "        \n",
    "        \n",
    "class Shark(Sea_Creatures):\n",
    "    \n",
    "    def__init__(self, num_shark, energie):\n",
    "        super().__init__(self, reproduction)\n",
    "        self.num_shark = []\n",
    "        self.energie = energie\n",
    "        if chronon + 1:\n",
    "            energy -= 1\n",
    "        self.eat()\n",
    "            \n",
    "    def get_eat_fish(self):\n",
    "        self.eat = energy + 1\n",
    "        return\n",
    "        \n",
    "    "
   ]
  },
  {
   "cell_type": "code",
   "execution_count": null,
   "id": "3f324977",
   "metadata": {},
   "outputs": [],
   "source": []
  }
 ],
 "metadata": {
  "kernelspec": {
   "display_name": "Python 3 (ipykernel)",
   "language": "python",
   "name": "python3"
  },
  "language_info": {
   "codemirror_mode": {
    "name": "ipython",
    "version": 3
   },
   "file_extension": ".py",
   "mimetype": "text/x-python",
   "name": "python",
   "nbconvert_exporter": "python",
   "pygments_lexer": "ipython3",
   "version": "3.11.5"
  }
 },
 "nbformat": 4,
 "nbformat_minor": 5
}
