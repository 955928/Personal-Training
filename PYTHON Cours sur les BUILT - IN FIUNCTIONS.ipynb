{
 "cells": [
  {
   "cell_type": "code",
   "execution_count": 1,
   "id": "758eb8ae",
   "metadata": {},
   "outputs": [],
   "source": [
    "#Built-in functions\n",
    "#eg print()\n",
    "#abs() qui retourne la valeur absolue de la valuer qu'on indique en argument\n"
   ]
  },
  {
   "cell_type": "code",
   "execution_count": 2,
   "id": "0bf4df11",
   "metadata": {},
   "outputs": [
    {
     "data": {
      "text/plain": [
       "3"
      ]
     },
     "execution_count": 2,
     "metadata": {},
     "output_type": "execute_result"
    }
   ],
   "source": [
    "x = -3\n",
    "abs(x)"
   ]
  },
  {
   "cell_type": "code",
   "execution_count": 3,
   "id": "7a863342",
   "metadata": {},
   "outputs": [
    {
     "data": {
      "text/plain": [
       "3"
      ]
     },
     "execution_count": 3,
     "metadata": {},
     "output_type": "execute_result"
    }
   ],
   "source": [
    "x= 3.14\n",
    "round(x)"
   ]
  },
  {
   "cell_type": "code",
   "execution_count": 1,
   "id": "748cf35d",
   "metadata": {},
   "outputs": [],
   "source": [
    "liste_1 = [0, 3, 34, -20]"
   ]
  },
  {
   "cell_type": "code",
   "execution_count": 2,
   "id": "25ab01cd",
   "metadata": {},
   "outputs": [
    {
     "data": {
      "text/plain": [
       "34"
      ]
     },
     "execution_count": 2,
     "metadata": {},
     "output_type": "execute_result"
    }
   ],
   "source": [
    "max(liste_1)"
   ]
  },
  {
   "cell_type": "code",
   "execution_count": 3,
   "id": "49280452",
   "metadata": {},
   "outputs": [
    {
     "data": {
      "text/plain": [
       "-20"
      ]
     },
     "execution_count": 3,
     "metadata": {},
     "output_type": "execute_result"
    }
   ],
   "source": [
    "min(liste_1)"
   ]
  },
  {
   "cell_type": "code",
   "execution_count": 5,
   "id": "4441b59f",
   "metadata": {},
   "outputs": [
    {
     "data": {
      "text/plain": [
       "'kiwi'"
      ]
     },
     "execution_count": 5,
     "metadata": {},
     "output_type": "execute_result"
    }
   ],
   "source": [
    "#the key parameter is used to specify a function (in this case, len) to extract a comparison key for each element. \n",
    "#The min() function then finds the element with the smallest key value.\n",
    "\n",
    "fruits = [\"apples\", \"cherries\", \"kiwi\",  \"banana\"]\n",
    "min (fruits, key=len)"
   ]
  },
  {
   "cell_type": "code",
   "execution_count": 6,
   "id": "8f63ea7d",
   "metadata": {},
   "outputs": [
    {
     "data": {
      "text/plain": [
       "4"
      ]
     },
     "execution_count": 6,
     "metadata": {},
     "output_type": "execute_result"
    }
   ],
   "source": [
    "len(liste_1)"
   ]
  },
  {
   "cell_type": "code",
   "execution_count": 7,
   "id": "59ab0fbe",
   "metadata": {},
   "outputs": [
    {
     "data": {
      "text/plain": [
       "17"
      ]
     },
     "execution_count": 7,
     "metadata": {},
     "output_type": "execute_result"
    }
   ],
   "source": [
    "sum(liste_1) #sum de tout les éléments"
   ]
  },
  {
   "cell_type": "code",
   "execution_count": 8,
   "id": "9dda4fed",
   "metadata": {},
   "outputs": [],
   "source": [
    "liste_2 = [True, True, False]"
   ]
  },
  {
   "cell_type": "code",
   "execution_count": 9,
   "id": "5693833c",
   "metadata": {},
   "outputs": [
    {
     "data": {
      "text/plain": [
       "False"
      ]
     },
     "execution_count": 9,
     "metadata": {},
     "output_type": "execute_result"
    }
   ],
   "source": [
    "all(liste_2)#retourne la function TRUE quand tout les éléments sont TRUE"
   ]
  },
  {
   "cell_type": "code",
   "execution_count": 10,
   "id": "38fbcd45",
   "metadata": {},
   "outputs": [
    {
     "data": {
      "text/plain": [
       "True"
      ]
     },
     "execution_count": 10,
     "metadata": {},
     "output_type": "execute_result"
    }
   ],
   "source": [
    "any(liste_2) #retorune la function TRUe quand au moins un des éléments est lui même égale à TRUE "
   ]
  },
  {
   "cell_type": "code",
   "execution_count": 11,
   "id": "ba06fa32",
   "metadata": {},
   "outputs": [],
   "source": [
    "#0 = FALSE\n",
    "#toute autre valeur est égale à TRUE"
   ]
  },
  {
   "cell_type": "code",
   "execution_count": 12,
   "id": "f8381157",
   "metadata": {},
   "outputs": [
    {
     "data": {
      "text/plain": [
       "True"
      ]
     },
     "execution_count": 12,
     "metadata": {},
     "output_type": "execute_result"
    }
   ],
   "source": [
    "any(liste_1)"
   ]
  },
  {
   "cell_type": "code",
   "execution_count": 13,
   "id": "9d004780",
   "metadata": {},
   "outputs": [
    {
     "data": {
      "text/plain": [
       "int"
      ]
     },
     "execution_count": 13,
     "metadata": {},
     "output_type": "execute_result"
    }
   ],
   "source": [
    "x = 10 #type int\n",
    "type(x) #'type' retourne le type de la variable"
   ]
  },
  {
   "cell_type": "code",
   "execution_count": 14,
   "id": "bf965cac",
   "metadata": {},
   "outputs": [],
   "source": [
    "x = str(x) #de transformer 'int' en 'str' par exemple"
   ]
  },
  {
   "cell_type": "code",
   "execution_count": 15,
   "id": "b1b5a37a",
   "metadata": {},
   "outputs": [
    {
     "data": {
      "text/plain": [
       "'10'"
      ]
     },
     "execution_count": 15,
     "metadata": {},
     "output_type": "execute_result"
    }
   ],
   "source": [
    "x #le int est dont transformé en str avec ses ''"
   ]
  },
  {
   "cell_type": "code",
   "execution_count": 16,
   "id": "fb585614",
   "metadata": {},
   "outputs": [
    {
     "data": {
      "text/plain": [
       "str"
      ]
     },
     "execution_count": 16,
     "metadata": {},
     "output_type": "execute_result"
    }
   ],
   "source": [
    "type(x) #et maintenant en vérifiant il est bien un str "
   ]
  },
  {
   "cell_type": "code",
   "execution_count": 17,
   "id": "68361122",
   "metadata": {},
   "outputs": [],
   "source": [
    "y = '20'\n",
    "y = int(y)"
   ]
  },
  {
   "cell_type": "code",
   "execution_count": 18,
   "id": "afcc050d",
   "metadata": {},
   "outputs": [
    {
     "data": {
      "text/plain": [
       "20"
      ]
     },
     "execution_count": 18,
     "metadata": {},
     "output_type": "execute_result"
    }
   ],
   "source": [
    "y"
   ]
  },
  {
   "cell_type": "code",
   "execution_count": 19,
   "id": "eebabf3a",
   "metadata": {},
   "outputs": [
    {
     "data": {
      "text/plain": [
       "int"
      ]
     },
     "execution_count": 19,
     "metadata": {},
     "output_type": "execute_result"
    }
   ],
   "source": [
    "type(y)"
   ]
  },
  {
   "cell_type": "code",
   "execution_count": 20,
   "id": "44257e74",
   "metadata": {},
   "outputs": [
    {
     "ename": "ValueError",
     "evalue": "invalid literal for int() with base 10: 'bonjour'",
     "output_type": "error",
     "traceback": [
      "\u001b[1;31m---------------------------------------------------------------------------\u001b[0m",
      "\u001b[1;31mValueError\u001b[0m                                Traceback (most recent call last)",
      "Cell \u001b[1;32mIn[20], line 3\u001b[0m\n\u001b[0;32m      1\u001b[0m \u001b[38;5;66;03m#on peut pas convertiut tout en nombre entier eg\u001b[39;00m\n\u001b[0;32m      2\u001b[0m x \u001b[38;5;241m=\u001b[39m \u001b[38;5;124m'\u001b[39m\u001b[38;5;124mbonjour\u001b[39m\u001b[38;5;124m'\u001b[39m\n\u001b[1;32m----> 3\u001b[0m x \u001b[38;5;241m=\u001b[39m \u001b[38;5;28mint\u001b[39m(\u001b[38;5;124m'\u001b[39m\u001b[38;5;124mbonjour\u001b[39m\u001b[38;5;124m'\u001b[39m)\n",
      "\u001b[1;31mValueError\u001b[0m: invalid literal for int() with base 10: 'bonjour'"
     ]
    }
   ],
   "source": [
    "#on peut pas convertir tout en nombre entier eg\n",
    "x = 'bonjour'\n",
    "x = int('bonjour')"
   ]
  },
  {
   "cell_type": "code",
   "execution_count": 14,
   "id": "1d905e36",
   "metadata": {},
   "outputs": [
    {
     "data": {
      "text/plain": [
       "10"
      ]
     },
     "execution_count": 14,
     "metadata": {},
     "output_type": "execute_result"
    }
   ],
   "source": [
    "x = 10 #on convertit un nombre entier en nombre décimal  avec 'float'\n",
    "float(x)\n",
    "x"
   ]
  },
  {
   "cell_type": "code",
   "execution_count": 15,
   "id": "a0678ee3",
   "metadata": {},
   "outputs": [
    {
     "data": {
      "text/plain": [
       "int"
      ]
     },
     "execution_count": 15,
     "metadata": {},
     "output_type": "execute_result"
    }
   ],
   "source": [
    "type(x)"
   ]
  },
  {
   "cell_type": "code",
   "execution_count": 13,
   "id": "720b7855",
   "metadata": {},
   "outputs": [
    {
     "name": "stdout",
     "output_type": "stream",
     "text": [
      "10.0\n"
     ]
    }
   ],
   "source": [
    "x = 10 #on convertit un nombre entier en nombre décimal  avec 'float'\n",
    "float(x)\n",
    "print(float(x))"
   ]
  },
  {
   "cell_type": "code",
   "execution_count": 17,
   "id": "546efae5",
   "metadata": {},
   "outputs": [
    {
     "data": {
      "text/plain": [
       "float"
      ]
     },
     "execution_count": 17,
     "metadata": {},
     "output_type": "execute_result"
    }
   ],
   "source": [
    "type(float(x))"
   ]
  },
  {
   "cell_type": "code",
   "execution_count": 22,
   "id": "a5555e62",
   "metadata": {},
   "outputs": [],
   "source": [
    "#quand on écrit \"liste/tuple_1,2,3 etc\" c'est parceque \"list/tuple\" sont des fonctions déjà protégés en python"
   ]
  },
  {
   "cell_type": "code",
   "execution_count": 23,
   "id": "6e9d5d78",
   "metadata": {},
   "outputs": [],
   "source": [
    "liste_1 = [0, 61, 63, 243]"
   ]
  },
  {
   "cell_type": "code",
   "execution_count": 24,
   "id": "e0989d14",
   "metadata": {},
   "outputs": [
    {
     "data": {
      "text/plain": [
       "(0, 61, 63, 243)"
      ]
     },
     "execution_count": 24,
     "metadata": {},
     "output_type": "execute_result"
    }
   ],
   "source": [
    "tuple(liste_1)#on convertit la liste en tuple"
   ]
  },
  {
   "cell_type": "code",
   "execution_count": 19,
   "id": "19dd65a8",
   "metadata": {},
   "outputs": [
    {
     "data": {
      "text/plain": [
       "(0, 3, 34, -20)"
      ]
     },
     "execution_count": 19,
     "metadata": {},
     "output_type": "execute_result"
    }
   ],
   "source": [
    "tuple_1 = tuple(liste_1)\n",
    "tuple_1"
   ]
  },
  {
   "cell_type": "code",
   "execution_count": 26,
   "id": "babb7e0d",
   "metadata": {},
   "outputs": [
    {
     "data": {
      "text/plain": [
       "[0, 61, 63, 243]"
      ]
     },
     "execution_count": 26,
     "metadata": {},
     "output_type": "execute_result"
    }
   ],
   "source": [
    "list(tuple_1)"
   ]
  },
  {
   "cell_type": "code",
   "execution_count": 27,
   "id": "49b931c0",
   "metadata": {},
   "outputs": [],
   "source": [
    "inventaire = {\n",
    "    \"bananes\" : 5000,\n",
    "    \"pommes\" : 2094,\n",
    "    \"poires\" : 412809\n",
    "}"
   ]
  },
  {
   "cell_type": "code",
   "execution_count": 28,
   "id": "7c4ff8f3",
   "metadata": {},
   "outputs": [
    {
     "data": {
      "text/plain": [
       "['bananes', 'pommes', 'poires']"
      ]
     },
     "execution_count": 28,
     "metadata": {},
     "output_type": "execute_result"
    }
   ],
   "source": [
    "list(inventaire.keys())"
   ]
  },
  {
   "cell_type": "code",
   "execution_count": 29,
   "id": "d05be80d",
   "metadata": {},
   "outputs": [
    {
     "data": {
      "text/plain": [
       "'0b1111'"
      ]
     },
     "execution_count": 29,
     "metadata": {},
     "output_type": "execute_result"
    }
   ],
   "source": [
    "bin(15)# convert un int en nombre binaire"
   ]
  },
  {
   "cell_type": "code",
   "execution_count": 30,
   "id": "508f1c2f",
   "metadata": {},
   "outputs": [
    {
     "data": {
      "text/plain": [
       "'0o17'"
      ]
     },
     "execution_count": 30,
     "metadata": {},
     "output_type": "execute_result"
    }
   ],
   "source": [
    "oct(15)"
   ]
  },
  {
   "cell_type": "code",
   "execution_count": 31,
   "id": "6fa024d7",
   "metadata": {},
   "outputs": [
    {
     "data": {
      "text/plain": [
       "'0xf'"
      ]
     },
     "execution_count": 31,
     "metadata": {},
     "output_type": "execute_result"
    }
   ],
   "source": [
    "hex(15)#convert en hexadecimal"
   ]
  },
  {
   "cell_type": "code",
   "execution_count": 20,
   "id": "260362b6",
   "metadata": {},
   "outputs": [
    {
     "name": "stdout",
     "output_type": "stream",
     "text": [
      "entrez un nombreDjovan\n"
     ]
    }
   ],
   "source": [
    "x = input('entrez un nombre')#permet à utilisatuer du programme de mettre du texte et la fonction nous retourne un str"
   ]
  },
  {
   "cell_type": "code",
   "execution_count": 33,
   "id": "06e7488a",
   "metadata": {},
   "outputs": [
    {
     "data": {
      "text/plain": [
       "str"
      ]
     },
     "execution_count": 33,
     "metadata": {},
     "output_type": "execute_result"
    }
   ],
   "source": [
    "type(x)"
   ]
  },
  {
   "cell_type": "code",
   "execution_count": 21,
   "id": "870886d8",
   "metadata": {},
   "outputs": [
    {
     "name": "stdout",
     "output_type": "stream",
     "text": [
      "entrez un nombre10\n"
     ]
    },
    {
     "data": {
      "text/plain": [
       "20"
      ]
     },
     "execution_count": 21,
     "metadata": {},
     "output_type": "execute_result"
    }
   ],
   "source": [
    "#donc pour convertit le format pour que utilisateur puisse utiliser un int\n",
    "\n",
    "x = int(input('entrez un nombre'))\n",
    "x + 10"
   ]
  },
  {
   "cell_type": "code",
   "execution_count": 35,
   "id": "5bae66bf",
   "metadata": {},
   "outputs": [
    {
     "data": {
      "text/plain": [
       "int"
      ]
     },
     "execution_count": 35,
     "metadata": {},
     "output_type": "execute_result"
    }
   ],
   "source": [
    "type(x)"
   ]
  },
  {
   "cell_type": "code",
   "execution_count": 36,
   "id": "e562865d",
   "metadata": {},
   "outputs": [
    {
     "name": "stdout",
     "output_type": "stream",
     "text": [
      "La température est de x degC à Ville\n"
     ]
    }
   ],
   "source": [
    "#' f\"{variable visée}\" / \"{variable visée}\".format()' permet de personnaliser des chaînes de caractères (le f au début est optionnel)\n",
    "\n",
    "x = 25\n",
    "ville = 'Paris'\n",
    "message =  \"La température est de x degC à Ville\"\n",
    "print(message)"
   ]
  },
  {
   "cell_type": "code",
   "execution_count": 37,
   "id": "938461db",
   "metadata": {},
   "outputs": [
    {
     "name": "stdout",
     "output_type": "stream",
     "text": [
      "La température est de 25 degC à Paris\n"
     ]
    }
   ],
   "source": [
    "\n",
    "x = 25\n",
    "ville = 'Paris'\n",
    "message =  \"La température est de {} degC à {}\".format(x,ville)\n",
    "print(message)"
   ]
  },
  {
   "cell_type": "code",
   "execution_count": 38,
   "id": "49f99176",
   "metadata": {},
   "outputs": [
    {
     "name": "stdout",
     "output_type": "stream",
     "text": [
      "La température est de 25 degC à Paris\n"
     ]
    }
   ],
   "source": [
    "#ou\n",
    "x = 25\n",
    "ville = 'Paris'\n",
    "message = f\"La température est de {x} degC à {ville}\"\n",
    "print(message)"
   ]
  },
  {
   "cell_type": "code",
   "execution_count": 39,
   "id": "961d776b",
   "metadata": {},
   "outputs": [],
   "source": [
    "import numpy as np #dictionnaire paramètres avec un réseaux de neurones très petit\n",
    "\n",
    "parametres = {\n",
    "    \"W1\" : np.random.randn(2, 4),\n",
    "    \"b1\" : np.zeros((2, 1)),\n",
    "    \"W2\" : np.random.randn(2, 2),\n",
    "    \"b2\" : np.zeros((2, 1))\n",
    "}"
   ]
  },
  {
   "cell_type": "code",
   "execution_count": 40,
   "id": "41b42bd5",
   "metadata": {},
   "outputs": [
    {
     "name": "stdout",
     "output_type": "stream",
     "text": [
      "couche 1\n",
      "[[-0.50616575  0.58524718 -1.61083997  0.90891314]\n",
      " [ 0.52951275  0.92816062 -1.04220023  0.37168724]]\n",
      "couche 2\n",
      "[[-0.8086964   0.92820671]\n",
      " [-0.84640433  0.13281662]]\n"
     ]
    }
   ],
   "source": [
    "for i in range(1,3):\n",
    "    print(\"couche\", i)\n",
    "    print(parametres[\"W{}\".format(i)])"
   ]
  },
  {
   "cell_type": "code",
   "execution_count": 41,
   "id": "1aff462b",
   "metadata": {},
   "outputs": [
    {
     "name": "stdout",
     "output_type": "stream",
     "text": [
      "couche 1\n",
      "[[-0.50616575  0.58524718 -1.61083997  0.90891314]\n",
      " [ 0.52951275  0.92816062 -1.04220023  0.37168724]]\n",
      "couche 2\n",
      "[[-0.8086964   0.92820671]\n",
      " [-0.84640433  0.13281662]]\n"
     ]
    }
   ],
   "source": [
    "#OU\n",
    "\n",
    "for i in range(1,3):\n",
    "    print(\"couche\", i)\n",
    "    print(parametres[\"W\"+str(i)])#w + str de ce que contient i"
   ]
  },
  {
   "cell_type": "code",
   "execution_count": 42,
   "id": "9c1851f8",
   "metadata": {},
   "outputs": [],
   "source": [
    "#\"open()\"fonction qui permet de créer/enregistrer  des fichiers sur un certains noms et ouvrir certrains fichiers\n",
    "#different mode qui existe : 'r' ouvrir pour lire(default)\n",
    "#'w' ouvrir pour écrire dans un fichier\n",
    "#'x' ouvrir pour création , erreur si le fichier existe déjà\n",
    "#'a' ouvrir pour écrire , en partant de la fin du fichier, sans supprimant (overwrite)ce qu'il y avait avant\n",
    "#et d'autre mode\n"
   ]
  },
  {
   "cell_type": "code",
   "execution_count": 43,
   "id": "604e6efe",
   "metadata": {},
   "outputs": [],
   "source": [
    "f = open('fichier.txt', 'w')\n",
    "#on va créer une variable F qui est égale au résultat de la fonction open dans laquelle on va mettre 'fichier.txt' puis définir le mode ici 'w'"
   ]
  },
  {
   "cell_type": "code",
   "execution_count": 44,
   "id": "bb7f049a",
   "metadata": {},
   "outputs": [],
   "source": [
    "f.write('Bonjour')\n",
    "#pour avoir accès aux differents méthodse pour write(w) on va écrire '.' puis cliquer sur TAB\n",
    "f.close()"
   ]
  },
  {
   "cell_type": "code",
   "execution_count": 45,
   "id": "68ec7b25",
   "metadata": {},
   "outputs": [],
   "source": [
    "#le fichier qui va ouvrir se trouve dans mes repères de fichiers pour les cours sous \"fichier.txt\" avec \"Bonjour\" affiché dedans"
   ]
  },
  {
   "cell_type": "code",
   "execution_count": 46,
   "id": "e8f56c3b",
   "metadata": {},
   "outputs": [
    {
     "data": {
      "text/plain": [
       "'Bonjour'"
      ]
     },
     "execution_count": 46,
     "metadata": {},
     "output_type": "execute_result"
    }
   ],
   "source": [
    "f = open('fichier.txt', 'r')#ici le programme va lire ce qu'il y a dans le fichier auparavant\n",
    "f.read()"
   ]
  },
  {
   "cell_type": "code",
   "execution_count": 47,
   "id": "dd769b1c",
   "metadata": {},
   "outputs": [
    {
     "name": "stdout",
     "output_type": "stream",
     "text": [
      "Bonjour\n"
     ]
    }
   ],
   "source": [
    "with open('fichier.txt', 'r') as f:\n",
    "    print(f.read())#pas besoin de mettre f.close parceque Python va le fermer automatiquement\n",
    "    "
   ]
  },
  {
   "cell_type": "code",
   "execution_count": 48,
   "id": "7d7260dd",
   "metadata": {},
   "outputs": [
    {
     "ename": "TypeError",
     "evalue": "TextIOWrapper.write() takes exactly one argument (2 given)",
     "output_type": "error",
     "traceback": [
      "\u001b[1;31m---------------------------------------------------------------------------\u001b[0m",
      "\u001b[1;31mTypeError\u001b[0m                                 Traceback (most recent call last)",
      "Cell \u001b[1;32mIn[48], line 3\u001b[0m\n\u001b[0;32m      1\u001b[0m \u001b[38;5;28;01mwith\u001b[39;00m \u001b[38;5;28mopen\u001b[39m(\u001b[38;5;124m'\u001b[39m\u001b[38;5;124mfichier.txt\u001b[39m\u001b[38;5;124m'\u001b[39m, \u001b[38;5;124m'\u001b[39m\u001b[38;5;124mw\u001b[39m\u001b[38;5;124m'\u001b[39m) \u001b[38;5;28;01mas\u001b[39;00m f:\n\u001b[0;32m      2\u001b[0m     \u001b[38;5;28;01mfor\u001b[39;00m i \u001b[38;5;129;01min\u001b[39;00m \u001b[38;5;28mrange\u001b[39m(\u001b[38;5;241m10\u001b[39m):\n\u001b[1;32m----> 3\u001b[0m         f\u001b[38;5;241m.\u001b[39mwrite(i, i\u001b[38;5;241m*\u001b[39m\u001b[38;5;241m*\u001b[39m\u001b[38;5;241m2\u001b[39m)\n",
      "\u001b[1;31mTypeError\u001b[0m: TextIOWrapper.write() takes exactly one argument (2 given)"
     ]
    }
   ],
   "source": [
    "with open('fichier.txt', 'w') as f:\n",
    "    for i in range(10):\n",
    "        f.write(i, i**2)\n",
    "    "
   ]
  },
  {
   "cell_type": "code",
   "execution_count": null,
   "id": "084ca933",
   "metadata": {},
   "outputs": [],
   "source": [
    "with open('fichier.txt', 'w') as f:\n",
    "    for i in range(10):\n",
    "        f.write(i)\n",
    "    "
   ]
  },
  {
   "cell_type": "code",
   "execution_count": null,
   "id": "6a2e3a01",
   "metadata": {},
   "outputs": [],
   "source": [
    "with open('fichier.txt', 'w') as f:\n",
    "    for i in range(10):\n",
    "        f.write(\"{}^2 = {}\".format(i, i**2))\n",
    "        \n",
    "#dans le \"fichier.txt\" dans mon repertoire il est complètement illisible donc avec la suite on va démontrer comment aller à la ligne\n",
    "    "
   ]
  },
  {
   "cell_type": "code",
   "execution_count": 49,
   "id": "a0ab5dd8",
   "metadata": {},
   "outputs": [],
   "source": [
    "with open('fichier.txt', 'w') as f:\n",
    "    for i in range(10):\n",
    "        f.write(\"{}^2 = {} \\n\".format(i, i**2)) \n",
    "        \n"
   ]
  },
  {
   "cell_type": "code",
   "execution_count": 50,
   "id": "d25d0c65",
   "metadata": {},
   "outputs": [
    {
     "name": "stdout",
     "output_type": "stream",
     "text": [
      "0^2 = 0 \n",
      "1^2 = 1 \n",
      "2^2 = 4 \n",
      "3^2 = 9 \n",
      "4^2 = 16 \n",
      "5^2 = 25 \n",
      "6^2 = 36 \n",
      "7^2 = 49 \n",
      "8^2 = 64 \n",
      "9^2 = 81 \n",
      "\n"
     ]
    }
   ],
   "source": [
    "with open('fichier.txt', 'r') as f:\n",
    "    print(f.read())"
   ]
  },
  {
   "cell_type": "code",
   "execution_count": null,
   "id": "bf807188",
   "metadata": {},
   "outputs": [],
   "source": []
  }
 ],
 "metadata": {
  "kernelspec": {
   "display_name": "Python 3 (ipykernel)",
   "language": "python",
   "name": "python3"
  },
  "language_info": {
   "codemirror_mode": {
    "name": "ipython",
    "version": 3
   },
   "file_extension": ".py",
   "mimetype": "text/x-python",
   "name": "python",
   "nbconvert_exporter": "python",
   "pygments_lexer": "ipython3",
   "version": "3.11.5"
  }
 },
 "nbformat": 4,
 "nbformat_minor": 5
}
