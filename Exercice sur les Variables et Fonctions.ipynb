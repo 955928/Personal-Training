{
 "cells": [
  {
   "cell_type": "code",
   "execution_count": null,
   "id": "5012504f",
   "metadata": {},
   "outputs": [],
   "source": [
    "#Exercice calculer si l'énergie dans le calcul des keywords  est inf. ou sup. à l'énergie limite"
   ]
  },
  {
   "cell_type": "code",
   "execution_count": 2,
   "id": "1bd51315",
   "metadata": {},
   "outputs": [
    {
     "name": "stdout",
     "output_type": "stream",
     "text": [
      "Bonjour\n",
      "3924.0\n"
     ]
    }
   ],
   "source": [
    "\n",
    "def e_potentielle(masse, hauteur, e_limite, g):\n",
    "    E = masse * hauteur * g\n",
    "    print(E)\n",
    "    return E \n",
    "\n",
    "print('Bonjour')\n",
    "\n",
    "resultat = e_potentielle(e_limite= 20, masse=80, hauteur=5, g=9.81, )"
   ]
  },
  {
   "cell_type": "code",
   "execution_count": 12,
   "id": "c8daa9e8",
   "metadata": {},
   "outputs": [
    {
     "name": "stdout",
     "output_type": "stream",
     "text": [
      "Bonjour\n",
      "3924.0 Joules\n",
      "Limité à 1000 Joules\n"
     ]
    }
   ],
   "source": [
    "\n",
    "def e_potentielle(masse, hauteur, e_limite, g):\n",
    "    E = masse * hauteur * g\n",
    "    print(E, 'Joules')\n",
    "    print('Limité à', e_limite, 'Joules')\n",
    "    return E\n",
    "\n",
    "print('Bonjour')\n",
    "\n",
    "resultat = e_potentielle(e_limite=1000, masse=80, hauteur=5, g=9.81, )"
   ]
  },
  {
   "cell_type": "code",
   "execution_count": 21,
   "id": "09ffd3ee",
   "metadata": {},
   "outputs": [
    {
     "ename": "SyntaxError",
     "evalue": "invalid syntax (1810815797.py, line 4)",
     "output_type": "error",
     "traceback": [
      "\u001b[1;36m  Cell \u001b[1;32mIn[21], line 4\u001b[1;36m\u001b[0m\n\u001b[1;33m    If e_limite > E:\u001b[0m\n\u001b[1;37m       ^\u001b[0m\n\u001b[1;31mSyntaxError\u001b[0m\u001b[1;31m:\u001b[0m invalid syntax\n"
     ]
    }
   ],
   "source": [
    "\n",
    "def e_potentielle(masse, hauteur, e_limite, g):\n",
    "    E = masse * hauteur * g\n",
    "    e_limite = e_limite\n",
    "    If e_limite > E:\n",
    "        print('Vous avez respectez la limite')\n",
    "        else :\n",
    "            print('Vous avez dépassez la limite permis')\n",
    "    print(E, 'Vous avez consommé Joules')\n",
    "    print('Votre forfait est limité à un consommation de', e_limite, 'Joules')\n",
    "    print(e_limite)\n",
    "    return E\n",
    "\n",
    "print('Bonjour')\n",
    "\n",
    "resultat = e_potentielle(e_limite=1000, masse=80, hauteur=5, g=9.81, )"
   ]
  },
  {
   "cell_type": "code",
   "execution_count": null,
   "id": "e967f310",
   "metadata": {},
   "outputs": [],
   "source": [
    "#La REPONSE\n"
   ]
  },
  {
   "cell_type": "code",
   "execution_count": 14,
   "id": "f1f499d5",
   "metadata": {},
   "outputs": [],
   "source": [
    "\n",
    "def e_potentielle_limite(masse, hauteur, limite, g=9.81):\n",
    "    E = masse * hauteur * g\n",
    "    print(E)\n",
    "    return E < limite # ou '>'"
   ]
  },
  {
   "cell_type": "code",
   "execution_count": 15,
   "id": "24c040e8",
   "metadata": {},
   "outputs": [
    {
     "name": "stdout",
     "output_type": "stream",
     "text": [
      "4905.0\n"
     ]
    },
    {
     "data": {
      "text/plain": [
       "True"
      ]
     },
     "execution_count": 15,
     "metadata": {},
     "output_type": "execute_result"
    }
   ],
   "source": [
    "e_potentielle_limite(50, 10, 6000)"
   ]
  },
  {
   "cell_type": "code",
   "execution_count": null,
   "id": "435b3ffc",
   "metadata": {},
   "outputs": [],
   "source": []
  }
 ],
 "metadata": {
  "kernelspec": {
   "display_name": "Python 3 (ipykernel)",
   "language": "python",
   "name": "python3"
  },
  "language_info": {
   "codemirror_mode": {
    "name": "ipython",
    "version": 3
   },
   "file_extension": ".py",
   "mimetype": "text/x-python",
   "name": "python",
   "nbconvert_exporter": "python",
   "pygments_lexer": "ipython3",
   "version": "3.11.4"
  }
 },
 "nbformat": 4,
 "nbformat_minor": 5
}
