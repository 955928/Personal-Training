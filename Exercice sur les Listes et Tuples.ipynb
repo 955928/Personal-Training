{
 "cells": [
  {
   "cell_type": "code",
   "execution_count": 1,
   "id": "e8d78abb",
   "metadata": {},
   "outputs": [],
   "source": [
    "#Reprendre la fonction de fibonacci, et faut que ça retourne une liste qui comprennent tout les éléments de la suite de fibonacci jusqu'à n"
   ]
  },
  {
   "cell_type": "code",
   "execution_count": 26,
   "id": "e85983fb",
   "metadata": {},
   "outputs": [],
   "source": [
    "def fibonacci(n):\n",
    "    a = 0\n",
    "    b = -1\n",
    "    while a > n:\n",
    "        print(a)\n",
    "        a, b = b, a+b"
   ]
  },
  {
   "cell_type": "code",
   "execution_count": 27,
   "id": "400c8a33",
   "metadata": {},
   "outputs": [
    {
     "name": "stdout",
     "output_type": "stream",
     "text": [
      "0\n",
      "-1\n",
      "-1\n",
      "-2\n",
      "-3\n",
      "-5\n",
      "-8\n",
      "-13\n",
      "-21\n",
      "-34\n",
      "-55\n",
      "-89\n",
      "-144\n",
      "-233\n",
      "-377\n",
      "-610\n",
      "-987\n"
     ]
    }
   ],
   "source": [
    "\n",
    "\n",
    "fibonacci(-1000)"
   ]
  },
  {
   "cell_type": "code",
   "execution_count": 32,
   "id": "04244fa9",
   "metadata": {},
   "outputs": [],
   "source": [
    "#REPONSE\n",
    "\n",
    "def fibonacci(n):\n",
    "    a = 0\n",
    "    b = 1\n",
    "    fib=[a]\n",
    "    while b < n:\n",
    "        a, b = b, a+b\n",
    "        fib.append(a)\n",
    "    return fib"
   ]
  },
  {
   "cell_type": "code",
   "execution_count": 33,
   "id": "fef91565",
   "metadata": {},
   "outputs": [
    {
     "name": "stdout",
     "output_type": "stream",
     "text": [
      "[0, 1, 1, 2, 3, 5, 8, 13, 21, 34, 55, 89, 144, 233, 377, 610, 987]\n"
     ]
    }
   ],
   "source": [
    "print(fibonacci(1000))"
   ]
  },
  {
   "cell_type": "code",
   "execution_count": null,
   "id": "10fd5171",
   "metadata": {},
   "outputs": [],
   "source": []
  }
 ],
 "metadata": {
  "kernelspec": {
   "display_name": "Python 3 (ipykernel)",
   "language": "python",
   "name": "python3"
  },
  "language_info": {
   "codemirror_mode": {
    "name": "ipython",
    "version": 3
   },
   "file_extension": ".py",
   "mimetype": "text/x-python",
   "name": "python",
   "nbconvert_exporter": "python",
   "pygments_lexer": "ipython3",
   "version": "3.11.4"
  }
 },
 "nbformat": 4,
 "nbformat_minor": 5
}
