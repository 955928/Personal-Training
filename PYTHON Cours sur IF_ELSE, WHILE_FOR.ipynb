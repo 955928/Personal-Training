{
 "cells": [
  {
   "cell_type": "code",
   "execution_count": null,
   "id": "90d91484",
   "metadata": {},
   "outputs": [],
   "source": [
    "x = 1\n",
    "\n",
    "if x > 0:\n",
    "    print(x, 'positif')\n"
   ]
  },
  {
   "cell_type": "code",
   "execution_count": null,
   "id": "3dbab4c2",
   "metadata": {},
   "outputs": [],
   "source": [
    "x = -1\n",
    "\n",
    "if x > 0:\n",
    "    print(x, 'positif')\n"
   ]
  },
  {
   "cell_type": "code",
   "execution_count": null,
   "id": "623ed893",
   "metadata": {},
   "outputs": [],
   "source": [
    "x = -1\n",
    "\n",
    "if x > 0:\n",
    "    print(x, 'positif')\n",
    "else:\n",
    "    print(x,'négatif')\n"
   ]
  },
  {
   "cell_type": "code",
   "execution_count": null,
   "id": "8cbec76d",
   "metadata": {},
   "outputs": [],
   "source": [
    "x = -1\n",
    "x = 0\n",
    "\n",
    "if x > 0:\n",
    "    print(x, 'positif')\n",
    "elif x == 0:\n",
    "    print(x, 'nul')\n",
    "else:\n",
    "    print(x,'négatif')\n"
   ]
  },
  {
   "cell_type": "code",
   "execution_count": null,
   "id": "a5606fb5",
   "metadata": {},
   "outputs": [],
   "source": [
    "x == 0"
   ]
  },
  {
   "cell_type": "code",
   "execution_count": null,
   "id": "76eaefea",
   "metadata": {},
   "outputs": [],
   "source": [
    "x = -1\n",
    "x = 0\n",
    "\n",
    "if True:\n",
    "    print(x, 'positif')\n",
    "elif x == 0:\n",
    "    print(x, 'nul')\n",
    "else:\n",
    "    print(x,'négatif')\n"
   ]
  },
  {
   "cell_type": "code",
   "execution_count": null,
   "id": "c136c626",
   "metadata": {},
   "outputs": [],
   "source": [
    "x = 0\n",
    "y = 2\n",
    "\n",
    "if (x>0) & (y>x):\n",
    "    print(x, y, 'positif')\n",
    "elif x == 0:\n",
    "    print(x, 'nul')\n",
    "else:\n",
    "    print(x,'négatif')\n"
   ]
  },
  {
   "cell_type": "code",
   "execution_count": null,
   "id": "5f1f5bb0",
   "metadata": {},
   "outputs": [],
   "source": [
    "x = 1\n",
    "y = 2\n",
    "\n",
    "if (x>0) & (y>x):#quelque soit les valeurs ici faut que ça donne le résultat TRUE pour pouvoir passer aux autres conditions\n",
    "    print(x, y, 'positif')\n",
    "elif x == 0:\n",
    "    print(x, 'nul')\n",
    "else:\n",
    "    print(x,'négatif')\n"
   ]
  },
  {
   "cell_type": "code",
   "execution_count": null,
   "id": "0590908a",
   "metadata": {},
   "outputs": [],
   "source": [
    "def signe(x, y): #j'ai du mettre 2 arguments dans la fonction pour que je puisse avoir la bonne réponse pour l'eg en dessous. avec juste def signe(x) ça donnait 5 négatif\n",
    "    if (x>0) & (y>x):\n",
    "        print(x, y, 'positif')\n",
    "    elif x == 0:\n",
    "        print(x, 'nul')\n",
    "    else:\n",
    "        print(x,'négatif')\n"
   ]
  },
  {
   "cell_type": "code",
   "execution_count": null,
   "id": "38f6d903",
   "metadata": {},
   "outputs": [],
   "source": [
    "signe(5, 8)"
   ]
  },
  {
   "cell_type": "code",
   "execution_count": null,
   "id": "e2865d30",
   "metadata": {},
   "outputs": [],
   "source": [
    "signe(-5, 2)"
   ]
  },
  {
   "cell_type": "code",
   "execution_count": null,
   "id": "b23a9b54",
   "metadata": {},
   "outputs": [],
   "source": [
    "signe(0, 3)"
   ]
  },
  {
   "cell_type": "code",
   "execution_count": null,
   "id": "0ef2f1d8",
   "metadata": {},
   "outputs": [],
   "source": [
    "#Boucle 'FOR'\n",
    "#'range' une fonction en python qui permet à générer une séquence en nombre\n",
    "#ici le range '(5)', allant de 0 à 4\n",
    "\n",
    "for i in range (5):\n",
    "    print('Bonjour')"
   ]
  },
  {
   "cell_type": "code",
   "execution_count": null,
   "id": "def1663e",
   "metadata": {},
   "outputs": [],
   "source": [
    "for i in range (5):\n",
    "    print(i)"
   ]
  },
  {
   "cell_type": "code",
   "execution_count": null,
   "id": "594b2649",
   "metadata": {},
   "outputs": [],
   "source": [
    "#pour tout les nombres i(ici on a choisi d'attribuer le nom 'I' à notre variable mais on peut choisir le nom qu'on souhaite comme element par exemple)\n",
    "\n",
    "for element in range (5):\n",
    "    print(element)"
   ]
  },
  {
   "cell_type": "code",
   "execution_count": null,
   "id": "32c55e56",
   "metadata": {},
   "outputs": [],
   "source": [
    "#on peut choisir le nombre à partir du quel va commencer le range\n",
    "\n",
    "for i in range (2, 5):\n",
    "    print(i)"
   ]
  },
  {
   "cell_type": "code",
   "execution_count": null,
   "id": "ac1b0547",
   "metadata": {},
   "outputs": [],
   "source": [
    "#et on peut choisir le nombre de pas qu'on va sauter jusqu'au limite choisi\n",
    "\n",
    "for i in range (1, 13, 3):#3 pas sauté à partir d'un jusqu'à 13\n",
    "    print(i)"
   ]
  },
  {
   "cell_type": "code",
   "execution_count": null,
   "id": "afce4f71",
   "metadata": {},
   "outputs": [],
   "source": [
    "#ou créer un boucle for qui va de 5 jusqu'à -5\n",
    "\n",
    "for i in range (5, -5, -1):\n",
    "    print(i)\n"
   ]
  },
  {
   "cell_type": "code",
   "execution_count": null,
   "id": "8655401f",
   "metadata": {},
   "outputs": [],
   "source": [
    "#on peut également passer notre valeur 'i' dans notre fonction signe qu'on a défini plus haut\n",
    "\n",
    "for i in range (5, -5, -1):\n",
    "    signe(i)\n"
   ]
  },
  {
   "cell_type": "code",
   "execution_count": null,
   "id": "eacf2144",
   "metadata": {},
   "outputs": [],
   "source": [
    "#Boucle WHILE: SEULEMENT lorsque la condition de notre boucle est respectée, WHILE va nous permettre à faire des itérations\n",
    "\n",
    "x = 0\n",
    "\n",
    "while x < 10:\n",
    "    print(x)\n",
    "    x += 1\n",
    "    \n",
    "#il va imprimer la valeur de X aussi longtemps que la valeur soit inf. à 10 (donc le chiffre 10 ne s'affichera pas)  "
   ]
  },
  {
   "cell_type": "code",
   "execution_count": null,
   "id": "aac82e92",
   "metadata": {},
   "outputs": [],
   "source": [
    "#sans le \"x += 1\" le x continue sans fin(logique vu qu'on demande à print x qui est = à 0 tant qu'il est < 10 \n",
    "# alors que l'équation permet de rajouter 1 au x jusqu'au dernier numéro en dessous de 10 donc 9) feel like i'm a teacher now explaining this lol"
   ]
  }
 ],
 "metadata": {
  "kernelspec": {
   "display_name": "Python 3 (ipykernel)",
   "language": "python",
   "name": "python3"
  },
  "language_info": {
   "codemirror_mode": {
    "name": "ipython",
    "version": 3
   },
   "file_extension": ".py",
   "mimetype": "text/x-python",
   "name": "python",
   "nbconvert_exporter": "python",
   "pygments_lexer": "ipython3",
   "version": "3.11.5"
  }
 },
 "nbformat": 4,
 "nbformat_minor": 5
}
