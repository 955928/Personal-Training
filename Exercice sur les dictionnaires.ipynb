{
 "cells": [
  {
   "cell_type": "code",
   "execution_count": 15,
   "id": "054b293e",
   "metadata": {},
   "outputs": [],
   "source": [
    "#On va créer une fonction \"trier\" qui aurait comme argument un dictionnaire \"classeur\" qui contient une clef \"positif\" et \"négatif\"\n",
    "#La fonction est sensé soit ranger un chiffre dans la liste de \"négatif \"soit dans le \"positif\""
   ]
  },
  {
   "cell_type": "code",
   "execution_count": 16,
   "id": "972e2dd5",
   "metadata": {},
   "outputs": [],
   "source": [
    "def trier(x):\n",
    "    dict_classeur:{\n",
    "        \"positif\" : 'x>0',\n",
    "        \"négatif\" : 'x<0'\n",
    "    }\n",
    "    if x > 0:\n",
    "        print(\"positif\")\n",
    "    return trier"
   ]
  },
  {
   "cell_type": "raw",
   "id": "5ec8e485",
   "metadata": {},
   "source": [
    "trier(5)"
   ]
  },
  {
   "cell_type": "code",
   "execution_count": 39,
   "id": "1acfb984",
   "metadata": {},
   "outputs": [],
   "source": [
    "#CORRECTION\n",
    "\n",
    "classeur = {\n",
    "        \"positif\" : [],\n",
    "        \"négatif\" : []\n",
    "}"
   ]
  },
  {
   "cell_type": "code",
   "execution_count": 40,
   "id": "617fd554",
   "metadata": {},
   "outputs": [],
   "source": [
    "def trier(classeur, nombre):\n",
    "    \n",
    "    if nombre >= 0:\n",
    "        classeur['positif'].append(nombre)#ici on utilise '.append' pour rajouter la liste 'de notre dictionnaire\n",
    "    else:\n",
    "        classeur['négatif'].append(nombre)\n",
    "    return classeur"
   ]
  },
  {
   "cell_type": "code",
   "execution_count": 46,
   "id": "a1dd1c8d",
   "metadata": {},
   "outputs": [
    {
     "data": {
      "text/plain": [
       "{'positif': [4], 'négatif': [-10, -10, -19]}"
      ]
     },
     "execution_count": 46,
     "metadata": {},
     "output_type": "execute_result"
    }
   ],
   "source": [
    "trier(classeur, -19)"
   ]
  },
  {
   "cell_type": "code",
   "execution_count": null,
   "id": "1ec82e9a",
   "metadata": {},
   "outputs": [],
   "source": []
  },
  {
   "cell_type": "code",
   "execution_count": null,
   "id": "8691f528",
   "metadata": {},
   "outputs": [],
   "source": []
  }
 ],
 "metadata": {
  "kernelspec": {
   "display_name": "Python 3 (ipykernel)",
   "language": "python",
   "name": "python3"
  },
  "language_info": {
   "codemirror_mode": {
    "name": "ipython",
    "version": 3
   },
   "file_extension": ".py",
   "mimetype": "text/x-python",
   "name": "python",
   "nbconvert_exporter": "python",
   "pygments_lexer": "ipython3",
   "version": "3.11.4"
  }
 },
 "nbformat": 4,
 "nbformat_minor": 5
}
