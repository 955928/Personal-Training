{
 "cells": [
  {
   "cell_type": "code",
   "execution_count": 55,
   "id": "0f0872b8",
   "metadata": {},
   "outputs": [],
   "source": [
    "#créer un dictionnaire avec le technique de dict comprehension\n",
    "#ce dictionnaire aura comme K de 0 à 20\n",
    "#puis comme v la k**2\n",
    "#donc dictionnaire k:v\n",
    "#k = 0 - 20\n",
    "#v = k**2"
   ]
  },
  {
   "cell_type": "code",
   "execution_count": 68,
   "id": "0f52f485",
   "metadata": {},
   "outputs": [],
   "source": [
    "dict_1 = {\n",
    "    \"0\" : [],\n",
    "    \"1\" : [],\n",
    "    \"2\" : [],\n",
    "    \"3\" : [],\n",
    "    \"4\" : []\n",
    "}"
   ]
  },
  {
   "cell_type": "code",
   "execution_count": 96,
   "id": "983ff681",
   "metadata": {},
   "outputs": [
    {
     "data": {
      "text/plain": [
       "['0', '1', '2', '3', '4']"
      ]
     },
     "execution_count": 96,
     "metadata": {},
     "output_type": "execute_result"
    }
   ],
   "source": [
    "list(dict_1.keys())"
   ]
  },
  {
   "cell_type": "code",
   "execution_count": 99,
   "id": "2516d0dc",
   "metadata": {},
   "outputs": [
    {
     "ename": "TypeError",
     "evalue": "int() argument must be a string, a bytes-like object or a real number, not 'dict_keys'",
     "output_type": "error",
     "traceback": [
      "\u001b[1;31m---------------------------------------------------------------------------\u001b[0m",
      "\u001b[1;31mTypeError\u001b[0m                                 Traceback (most recent call last)",
      "Cell \u001b[1;32mIn[99], line 1\u001b[0m\n\u001b[1;32m----> 1\u001b[0m k \u001b[38;5;241m=\u001b[39m \u001b[38;5;28mint\u001b[39m(dict_1\u001b[38;5;241m.\u001b[39mkeys())\n",
      "\u001b[1;31mTypeError\u001b[0m: int() argument must be a string, a bytes-like object or a real number, not 'dict_keys'"
     ]
    }
   ],
   "source": [
    "k = int(dict_1.keys())"
   ]
  },
  {
   "cell_type": "code",
   "execution_count": 91,
   "id": "762b38ac",
   "metadata": {},
   "outputs": [
    {
     "ename": "TypeError",
     "evalue": "unsupported operand type(s) for ** or pow(): 'dict_keys' and 'int'",
     "output_type": "error",
     "traceback": [
      "\u001b[1;31m---------------------------------------------------------------------------\u001b[0m",
      "\u001b[1;31mTypeError\u001b[0m                                 Traceback (most recent call last)",
      "Cell \u001b[1;32mIn[91], line 1\u001b[0m\n\u001b[1;32m----> 1\u001b[0m v \u001b[38;5;241m=\u001b[39m k\u001b[38;5;241m*\u001b[39m\u001b[38;5;241m*\u001b[39m\u001b[38;5;241m2\u001b[39m\n",
      "\u001b[1;31mTypeError\u001b[0m: unsupported operand type(s) for ** or pow(): 'dict_keys' and 'int'"
     ]
    }
   ],
   "source": [
    "v = k**2"
   ]
  },
  {
   "cell_type": "code",
   "execution_count": 90,
   "id": "0179535e",
   "metadata": {},
   "outputs": [
    {
     "ename": "TypeError",
     "evalue": "'int' object is not callable",
     "output_type": "error",
     "traceback": [
      "\u001b[1;31m---------------------------------------------------------------------------\u001b[0m",
      "\u001b[1;31mTypeError\u001b[0m                                 Traceback (most recent call last)",
      "Cell \u001b[1;32mIn[90], line 1\u001b[0m\n\u001b[1;32m----> 1\u001b[0m dico \u001b[38;5;241m=\u001b[39m {k:v \u001b[38;5;28;01mfor\u001b[39;00m k, v \u001b[38;5;129;01min\u001b[39;00m v(k)}\n\u001b[0;32m      2\u001b[0m \u001b[38;5;28mprint\u001b[39m(dico)\n",
      "\u001b[1;31mTypeError\u001b[0m: 'int' object is not callable"
     ]
    }
   ],
   "source": [
    "dico = {k:v for k, v in v(k)}\n",
    "print(dico)"
   ]
  },
  {
   "cell_type": "code",
   "execution_count": 100,
   "id": "f583c844",
   "metadata": {},
   "outputs": [],
   "source": [
    "#REPONSE\n",
    "carres_pairs = {\n",
    "    str(k) : k**2 for k in range(0, 20)\n",
    "}"
   ]
  },
  {
   "cell_type": "code",
   "execution_count": null,
   "id": "0bc4ee21",
   "metadata": {},
   "outputs": [],
   "source": []
  }
 ],
 "metadata": {
  "kernelspec": {
   "display_name": "Python 3 (ipykernel)",
   "language": "python",
   "name": "python3"
  },
  "language_info": {
   "codemirror_mode": {
    "name": "ipython",
    "version": 3
   },
   "file_extension": ".py",
   "mimetype": "text/x-python",
   "name": "python",
   "nbconvert_exporter": "python",
   "pygments_lexer": "ipython3",
   "version": "3.11.4"
  }
 },
 "nbformat": 4,
 "nbformat_minor": 5
}
