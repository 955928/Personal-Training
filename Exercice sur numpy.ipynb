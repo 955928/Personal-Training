{
 "cells": [
  {
   "cell_type": "code",
   "execution_count": 20,
   "id": "71bdf0fd",
   "metadata": {},
   "outputs": [],
   "source": [
    " #def initialisation(m, n):\n",
    "    #m:nombre de lignes\n",
    "    #n:nombre de colonnes\n",
    "    #retourne une matrice aléatoire(m, n+1)\n",
    "    #avec une colonne biais(remplie de \"1\")tout à droite\n",
    "    \n",
    "    #return\n",
    "#TIPS\n",
    "#va falloir utiliser.reshape, random.randn et concatenate"
   ]
  },
  {
   "cell_type": "code",
   "execution_count": 21,
   "id": "6278eb06",
   "metadata": {},
   "outputs": [],
   "source": [
    "import numpy as np\n",
    "\n",
    "def initialisation(m, n):\n",
    "    #on d'abord crée une matrice de dimension m*n\n",
    "    X = np.random.randn(m, n)\n",
    "    #soit on utilise hstack ou concatenate (=recommandé vu qu'on pourra indiquer les valeurs pour les axis)\n",
    "    #je rentre ma matrice X avec un vecteur rempli de '1' qui a la même dimension que le nombre de lignes qu'il ya dans la matrice X\n",
    "    X = np.concatenate((X, np.ones((X.shape[0], 1))), axis = 0)\n",
    "    \n",
    "    \n",
    "    return"
   ]
  },
  {
   "cell_type": "code",
   "execution_count": 22,
   "id": "dec229f7",
   "metadata": {},
   "outputs": [
    {
     "ename": "ValueError",
     "evalue": "all the input array dimensions except for the concatenation axis must match exactly, but along dimension 1, the array at index 0 has size 4 and the array at index 1 has size 1",
     "output_type": "error",
     "traceback": [
      "\u001b[1;31m---------------------------------------------------------------------------\u001b[0m",
      "\u001b[1;31mValueError\u001b[0m                                Traceback (most recent call last)",
      "Cell \u001b[1;32mIn[22], line 1\u001b[0m\n\u001b[1;32m----> 1\u001b[0m initialisation(\u001b[38;5;241m3\u001b[39m, \u001b[38;5;241m4\u001b[39m)\n",
      "Cell \u001b[1;32mIn[21], line 8\u001b[0m, in \u001b[0;36minitialisation\u001b[1;34m(m, n)\u001b[0m\n\u001b[0;32m      5\u001b[0m X \u001b[38;5;241m=\u001b[39m np\u001b[38;5;241m.\u001b[39mrandom\u001b[38;5;241m.\u001b[39mrandn(m, n)\n\u001b[0;32m      6\u001b[0m \u001b[38;5;66;03m#soit on utilise hstack ou concatenate (=recommandé vu qu'on pourra indiquer les valeurs pour les axis)\u001b[39;00m\n\u001b[0;32m      7\u001b[0m \u001b[38;5;66;03m#je rentre ma matrice X avec un vecteur rempli de '1' qui a la même dimension que le nombre de lignes qu'il ya dans la matrice X\u001b[39;00m\n\u001b[1;32m----> 8\u001b[0m X \u001b[38;5;241m=\u001b[39m np\u001b[38;5;241m.\u001b[39mconcatenate((X, np\u001b[38;5;241m.\u001b[39mones((X\u001b[38;5;241m.\u001b[39mshape[\u001b[38;5;241m0\u001b[39m], \u001b[38;5;241m1\u001b[39m))), axis \u001b[38;5;241m=\u001b[39m \u001b[38;5;241m0\u001b[39m)\n\u001b[0;32m     11\u001b[0m \u001b[38;5;28;01mreturn\u001b[39;00m\n",
      "File \u001b[1;32m<__array_function__ internals>:200\u001b[0m, in \u001b[0;36mconcatenate\u001b[1;34m(*args, **kwargs)\u001b[0m\n",
      "\u001b[1;31mValueError\u001b[0m: all the input array dimensions except for the concatenation axis must match exactly, but along dimension 1, the array at index 0 has size 4 and the array at index 1 has size 1"
     ]
    }
   ],
   "source": [
    "initialisation(3, 4)\n",
    "#pas la bonne axis donc erreur"
   ]
  },
  {
   "cell_type": "code",
   "execution_count": 23,
   "id": "622ed12f",
   "metadata": {},
   "outputs": [],
   "source": [
    "def initialisation(m, n):\n",
    "    X = np.random.randn(m, n)\n",
    "    X = np.concatenate((X, np.ones((X.shape[0], 1))), axis = 1)\n",
    "\n",
    "    return"
   ]
  },
  {
   "cell_type": "code",
   "execution_count": 31,
   "id": "0287013f",
   "metadata": {},
   "outputs": [],
   "source": [
    "initialisation(3, 4)"
   ]
  },
  {
   "cell_type": "code",
   "execution_count": null,
   "id": "f6ace316",
   "metadata": {},
   "outputs": [],
   "source": []
  }
 ],
 "metadata": {
  "kernelspec": {
   "display_name": "Python 3 (ipykernel)",
   "language": "python",
   "name": "python3"
  },
  "language_info": {
   "codemirror_mode": {
    "name": "ipython",
    "version": 3
   },
   "file_extension": ".py",
   "mimetype": "text/x-python",
   "name": "python",
   "nbconvert_exporter": "python",
   "pygments_lexer": "ipython3",
   "version": "3.11.4"
  }
 },
 "nbformat": 4,
 "nbformat_minor": 5
}
