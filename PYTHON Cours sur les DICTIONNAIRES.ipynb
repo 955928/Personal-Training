{
 "cells": [
  {
   "cell_type": "code",
   "execution_count": 1,
   "id": "eb3461de",
   "metadata": {},
   "outputs": [],
   "source": [
    "#Dictionnaires: structures de données qui n'est pas ordonnées, les données non pas d'index\n",
    "#elles ont des clefs\n",
    "#on ne peut avoir 1 fois la même clefs comme \"oiseau\", mais autant de fois la valeur \"bird\" par exemple\n",
    "\n",
    "traduction = {\n",
    "    \"chien\": \"dog\",\n",
    "    \"chat\": \"cat\",\n",
    "    \"souris\": \"mouse\",\n",
    "    \"oiseau\": \"bird\",\n",
    "}\n",
    "\n",
    "inventaire = {\n",
    "    \"bannanes\" : 5000,\n",
    "    \"pommes\": 2094,\n",
    "    \"poires\": 412809,\n",
    "    \"cerises\": 2893\n",
    "    \n",
    "}"
   ]
  },
  {
   "cell_type": "code",
   "execution_count": 2,
   "id": "65d19171",
   "metadata": {},
   "outputs": [],
   "source": [
    "#on peut créer des dictionnaires qui ont plusieures dictionnaires\n",
    "\n",
    "dictionnaire_3 = {\n",
    "    \"dict_1\": traduction,\n",
    "    \"dict_2\": inventaire\n",
    "}"
   ]
  },
  {
   "cell_type": "code",
   "execution_count": 3,
   "id": "7e47a8ee",
   "metadata": {},
   "outputs": [],
   "source": [
    "import numpy as np #module à voir dans les prochains cours\n",
    "\n",
    "parametres = {\n",
    "    \"W1\": np.random.randn(10, 100),\n",
    "    \"b1\": np.random.randn(10, 1),\n",
    "    \"W2\": np.random.randn(10,10),\n",
    "    \"b2\": np.random.randn(10,1)\n",
    "}"
   ]
  },
  {
   "cell_type": "code",
   "execution_count": 4,
   "id": "cb243613",
   "metadata": {},
   "outputs": [
    {
     "data": {
      "text/plain": [
       "dict_values([5000, 2094, 412809, 2893])"
      ]
     },
     "execution_count": 4,
     "metadata": {},
     "output_type": "execute_result"
    }
   ],
   "source": [
    "inventaire.values() #pour obtenir les valeurs"
   ]
  },
  {
   "cell_type": "code",
   "execution_count": 5,
   "id": "09a36f37",
   "metadata": {},
   "outputs": [
    {
     "data": {
      "text/plain": [
       "dict_keys(['bannanes', 'pommes', 'poires', 'cerises'])"
      ]
     },
     "execution_count": 5,
     "metadata": {},
     "output_type": "execute_result"
    }
   ],
   "source": [
    "inventaire.keys() #pour obtenir les clefs"
   ]
  },
  {
   "cell_type": "code",
   "execution_count": 6,
   "id": "8957cb52",
   "metadata": {},
   "outputs": [
    {
     "data": {
      "text/plain": [
       "4"
      ]
     },
     "execution_count": 6,
     "metadata": {},
     "output_type": "execute_result"
    }
   ],
   "source": [
    "len(inventaire)#pour avoir le nombre d'associations dans notre dictionnaire"
   ]
  },
  {
   "cell_type": "code",
   "execution_count": 7,
   "id": "542c70c6",
   "metadata": {},
   "outputs": [
    {
     "data": {
      "text/plain": [
       "{'bannanes': 5000,\n",
       " 'pommes': 2094,\n",
       " 'poires': 412809,\n",
       " 'cerises': 2893,\n",
       " 'abricots': 4902}"
      ]
     },
     "execution_count": 7,
     "metadata": {},
     "output_type": "execute_result"
    }
   ],
   "source": [
    "inventaire[\"abricots\"] = 4902 #ajouter une association dans notre dictionnaire\n",
    "inventaire"
   ]
  },
  {
   "cell_type": "code",
   "execution_count": 8,
   "id": "5e45c01d",
   "metadata": {},
   "outputs": [],
   "source": [
    "#Un dictionnaire n'a pas de début ni de fin du coup on a pas besoin des choses comme .insert"
   ]
  },
  {
   "cell_type": "code",
   "execution_count": 9,
   "id": "a6275774",
   "metadata": {},
   "outputs": [
    {
     "ename": "KeyError",
     "evalue": "'peches'",
     "output_type": "error",
     "traceback": [
      "\u001b[1;31m---------------------------------------------------------------------------\u001b[0m",
      "\u001b[1;31mKeyError\u001b[0m                                  Traceback (most recent call last)",
      "Cell \u001b[1;32mIn[9], line 1\u001b[0m\n\u001b[1;32m----> 1\u001b[0m inventaire[\u001b[38;5;124m'\u001b[39m\u001b[38;5;124mpeches\u001b[39m\u001b[38;5;124m'\u001b[39m]\n",
      "\u001b[1;31mKeyError\u001b[0m: 'peches'"
     ]
    }
   ],
   "source": [
    "inventaire['peches']#y'en a pas donc erreur\n",
    "#donc pour éviter ça \n"
   ]
  },
  {
   "cell_type": "code",
   "execution_count": 11,
   "id": "678f7376",
   "metadata": {},
   "outputs": [
    {
     "name": "stdout",
     "output_type": "stream",
     "text": [
      "None\n"
     ]
    }
   ],
   "source": [
    "print(inventaire.get('peches'))"
   ]
  },
  {
   "cell_type": "code",
   "execution_count": 12,
   "id": "ed04e759",
   "metadata": {},
   "outputs": [
    {
     "name": "stdout",
     "output_type": "stream",
     "text": [
      "1\n"
     ]
    }
   ],
   "source": [
    "print(inventaire.get('peches', 1))"
   ]
  },
  {
   "cell_type": "code",
   "execution_count": 13,
   "id": "d2280ec0",
   "metadata": {},
   "outputs": [
    {
     "name": "stdout",
     "output_type": "stream",
     "text": [
      "2893\n"
     ]
    }
   ],
   "source": [
    "print(inventaire.get('cerises', 1))"
   ]
  },
  {
   "cell_type": "code",
   "execution_count": 14,
   "id": "46de7139",
   "metadata": {},
   "outputs": [
    {
     "data": {
      "text/plain": [
       "{'Paris': 'defaut', 'Londres': 'defaut', 'Bruxelles': 'defaut'}"
      ]
     },
     "execution_count": 14,
     "metadata": {},
     "output_type": "execute_result"
    }
   ],
   "source": [
    "liste_1 = ('Paris', 'Londres', 'Bruxelles')\n",
    "inventaire.fromkeys(liste_1, 'defaut')#on peut également ajouter une valeur 'defaut' par exemple"
   ]
  },
  {
   "cell_type": "code",
   "execution_count": 15,
   "id": "1f1ae7c5",
   "metadata": {},
   "outputs": [],
   "source": [
    "#'.pop()': permet d'extraire une association dans notre dictionnaire et sa valeur dans la sortie de notre fonction .pop()\n",
    "\n",
    "fruits = inventaire.pop('abricots')"
   ]
  },
  {
   "cell_type": "code",
   "execution_count": 16,
   "id": "c9060259",
   "metadata": {},
   "outputs": [
    {
     "data": {
      "text/plain": [
       "4902"
      ]
     },
     "execution_count": 16,
     "metadata": {},
     "output_type": "execute_result"
    }
   ],
   "source": [
    "fruits"
   ]
  },
  {
   "cell_type": "code",
   "execution_count": 17,
   "id": "ecb9542b",
   "metadata": {},
   "outputs": [
    {
     "data": {
      "text/plain": [
       "{'bannanes': 5000, 'pommes': 2094, 'poires': 412809, 'cerises': 2893}"
      ]
     },
     "execution_count": 17,
     "metadata": {},
     "output_type": "execute_result"
    }
   ],
   "source": [
    "inventaire"
   ]
  },
  {
   "cell_type": "code",
   "execution_count": 18,
   "id": "c2504263",
   "metadata": {},
   "outputs": [
    {
     "name": "stdout",
     "output_type": "stream",
     "text": [
      "bannanes\n",
      "pommes\n",
      "poires\n",
      "cerises\n"
     ]
    }
   ],
   "source": [
    "#utilisation des dictionnaires dans les boucles FOR\n",
    "#ca va juste afficher les clefs\n",
    "for i in inventaire:\n",
    "    print(i)"
   ]
  },
  {
   "cell_type": "code",
   "execution_count": 19,
   "id": "e78de9e1",
   "metadata": {},
   "outputs": [
    {
     "name": "stdout",
     "output_type": "stream",
     "text": [
      "5000\n",
      "2094\n",
      "412809\n",
      "2893\n"
     ]
    }
   ],
   "source": [
    "for i in inventaire.values():#ca va afficher les valeurs\n",
    "    print(i)"
   ]
  },
  {
   "cell_type": "code",
   "execution_count": 1,
   "id": "73a89109",
   "metadata": {},
   "outputs": [
    {
     "ename": "NameError",
     "evalue": "name 'inventaire' is not defined",
     "output_type": "error",
     "traceback": [
      "\u001b[1;31m---------------------------------------------------------------------------\u001b[0m",
      "\u001b[1;31mNameError\u001b[0m                                 Traceback (most recent call last)",
      "Cell \u001b[1;32mIn[1], line 1\u001b[0m\n\u001b[1;32m----> 1\u001b[0m \u001b[38;5;28;01mfor\u001b[39;00m i \u001b[38;5;129;01min\u001b[39;00m inventaire\u001b[38;5;241m.\u001b[39mkeys(): \u001b[38;5;66;03m#va retourner les clefs\u001b[39;00m\n\u001b[0;32m      2\u001b[0m     \u001b[38;5;28mprint\u001b[39m(i)\n",
      "\u001b[1;31mNameError\u001b[0m: name 'inventaire' is not defined"
     ]
    }
   ],
   "source": [
    "for i in inventaire.keys(): #va retourner les clefs\n",
    "    print(i)"
   ]
  },
  {
   "cell_type": "code",
   "execution_count": 20,
   "id": "e4e507d4",
   "metadata": {},
   "outputs": [
    {
     "name": "stdout",
     "output_type": "stream",
     "text": [
      "bannanes 5000\n",
      "pommes 2094\n",
      "poires 412809\n",
      "cerises 2893\n"
     ]
    }
   ],
   "source": [
    "for k, v in inventaire.items():#ca va afficher les clefs et les valeurs\n",
    "    print(k, v)"
   ]
  }
 ],
 "metadata": {
  "kernelspec": {
   "display_name": "Python 3 (ipykernel)",
   "language": "python",
   "name": "python3"
  },
  "language_info": {
   "codemirror_mode": {
    "name": "ipython",
    "version": 3
   },
   "file_extension": ".py",
   "mimetype": "text/x-python",
   "name": "python",
   "nbconvert_exporter": "python",
   "pygments_lexer": "ipython3",
   "version": "3.11.5"
  }
 },
 "nbformat": 4,
 "nbformat_minor": 5
}
