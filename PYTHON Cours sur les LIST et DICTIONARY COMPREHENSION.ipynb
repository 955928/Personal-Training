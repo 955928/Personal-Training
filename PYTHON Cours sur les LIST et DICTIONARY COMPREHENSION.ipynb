{
 "cells": [
  {
   "cell_type": "code",
   "execution_count": 1,
   "id": "9a1e551b",
   "metadata": {},
   "outputs": [
    {
     "name": "stdout",
     "output_type": "stream",
     "text": [
      "[0, 1, 4, 9, 16, 25, 36, 49, 64, 81]\n"
     ]
    }
   ],
   "source": [
    "#List Comprehension: à inserer la boucle FOR à l'int. de la liste elle même\n",
    "liste_1 = []\n",
    "for i in range (10):\n",
    "    liste_1.append(i**2)\n",
    "    \n",
    "print(liste_1)"
   ]
  },
  {
   "cell_type": "code",
   "execution_count": 2,
   "id": "bf86a59e",
   "metadata": {},
   "outputs": [
    {
     "name": "stdout",
     "output_type": "stream",
     "text": [
      "[0, 1, 4, 9, 16, 25, 36, 49, 64, 81]\n"
     ]
    }
   ],
   "source": [
    "liste_2 = [i**2 for i in range(10)]#I AU CARRE\n",
    "print(liste_2)"
   ]
  },
  {
   "cell_type": "code",
   "execution_count": 3,
   "id": "2f71054b",
   "metadata": {},
   "outputs": [],
   "source": [
    "#List Comprehension, moins de lignes, il fait plus Python(esthétiquement parlant) et le processus de création à l'int. de la mémoire de l'ordi est donc plus rapide "
   ]
  },
  {
   "cell_type": "code",
   "execution_count": 4,
   "id": "4ff04dfc",
   "metadata": {},
   "outputs": [],
   "source": [
    "import time"
   ]
  },
  {
   "cell_type": "code",
   "execution_count": 5,
   "id": "cc770f09",
   "metadata": {},
   "outputs": [
    {
     "name": "stdout",
     "output_type": "stream",
     "text": [
      "13.534890413284302\n"
     ]
    }
   ],
   "source": [
    "start = time.time()\n",
    "\n",
    "liste_1 = []\n",
    "for i in range(100000000):\n",
    "    liste_1.append(i**2)\n",
    "    \n",
    "end = time.time()\n",
    "print(end-start)#le résultat ici est le temps que l'algorithme prend pour faire sa tâche"
   ]
  },
  {
   "cell_type": "code",
   "execution_count": 6,
   "id": "76768aac",
   "metadata": {},
   "outputs": [
    {
     "name": "stdout",
     "output_type": "stream",
     "text": [
      "1.7573258876800537\n"
     ]
    }
   ],
   "source": [
    "start = time.time()\n",
    "\n",
    "liste_1 = [i**2 for i in range(10000000)]\n",
    "    \n",
    "end = time.time()\n",
    "print(end-start)#ce formule est donc moins lourde sur le processus de l'ordi vu le résultat "
   ]
  },
  {
   "cell_type": "code",
   "execution_count": 7,
   "id": "a7699e78",
   "metadata": {},
   "outputs": [],
   "source": [
    "#Nested list: une liste qui contient d'autres listes"
   ]
  },
  {
   "cell_type": "code",
   "execution_count": 8,
   "id": "0178d44f",
   "metadata": {},
   "outputs": [
    {
     "data": {
      "text/plain": [
       "[0, 1, 2]"
      ]
     },
     "execution_count": 8,
     "metadata": {},
     "output_type": "execute_result"
    }
   ],
   "source": [
    "liste_3 = [i for i in range(3)]\n",
    "liste_3"
   ]
  },
  {
   "cell_type": "code",
   "execution_count": 9,
   "id": "385ad08f",
   "metadata": {},
   "outputs": [
    {
     "data": {
      "text/plain": [
       "[[0, 1, 2], [0, 1, 2], [0, 1, 2]]"
      ]
     },
     "execution_count": 9,
     "metadata": {},
     "output_type": "execute_result"
    }
   ],
   "source": [
    "#si on veut répeter le '0,1,2' dans la liste\n",
    "liste_3 = [[i for i in range(3)] for j in range(3)]#le deuxième '(3)' défini le nombre de répetition qu'il y aura\n",
    "liste_3\n"
   ]
  },
  {
   "cell_type": "code",
   "execution_count": 10,
   "id": "95fd3172",
   "metadata": {},
   "outputs": [],
   "source": [
    "#Dict Comprehension\n",
    "\n",
    "dictionnaire = {\n",
    "    '0': 'Pierre',\n",
    "    '1': 'Jean',\n",
    "    '2':'Julie',\n",
    "    '3':'Sophie'\n",
    "}"
   ]
  },
  {
   "cell_type": "code",
   "execution_count": 3,
   "id": "f367e9d6",
   "metadata": {},
   "outputs": [],
   "source": [
    "prenoms = ['Pierre', 'Jean', 'Julie', 'Sophie']"
   ]
  },
  {
   "cell_type": "code",
   "execution_count": 4,
   "id": "f448524d",
   "metadata": {},
   "outputs": [
    {
     "name": "stdout",
     "output_type": "stream",
     "text": [
      "{0: 'Pierre', 1: 'Jean', 2: 'Julie', 3: 'Sophie'}\n"
     ]
    }
   ],
   "source": [
    "dico = {k:v for k, v in enumerate(prenoms)} #k=keys, v=values\n",
    "print(dico)"
   ]
  },
  {
   "cell_type": "code",
   "execution_count": 5,
   "id": "7efaf3c2",
   "metadata": {},
   "outputs": [
    {
     "data": {
      "text/plain": [
       "{0: 'Pierre', 1: 'Jean', 2: 'Julie', 3: 'Sophie'}"
      ]
     },
     "execution_count": 5,
     "metadata": {},
     "output_type": "execute_result"
    }
   ],
   "source": [
    "dico = {k:v for k, v in enumerate(prenoms)} #k=keys, v=values\n",
    "dico"
   ]
  },
  {
   "cell_type": "code",
   "execution_count": 6,
   "id": "c153753b",
   "metadata": {},
   "outputs": [
    {
     "data": {
      "text/plain": [
       "dict_keys([0, 1, 2, 3])"
      ]
     },
     "execution_count": 6,
     "metadata": {},
     "output_type": "execute_result"
    }
   ],
   "source": [
    "dico.keys()"
   ]
  },
  {
   "cell_type": "code",
   "execution_count": 14,
   "id": "395104f7",
   "metadata": {},
   "outputs": [
    {
     "data": {
      "text/plain": [
       "dict_values(['Pierre', 'Jean', 'Julie', 'Sophie'])"
      ]
     },
     "execution_count": 14,
     "metadata": {},
     "output_type": "execute_result"
    }
   ],
   "source": [
    "dico.values()"
   ]
  },
  {
   "cell_type": "code",
   "execution_count": 7,
   "id": "69d1823c",
   "metadata": {},
   "outputs": [
    {
     "data": {
      "text/plain": [
       "dict_items([(0, 'Pierre'), (1, 'Jean'), (2, 'Julie'), (3, 'Sophie')])"
      ]
     },
     "execution_count": 7,
     "metadata": {},
     "output_type": "execute_result"
    }
   ],
   "source": [
    "dico.items()"
   ]
  },
  {
   "cell_type": "code",
   "execution_count": 15,
   "id": "0768bfc7",
   "metadata": {},
   "outputs": [],
   "source": [
    "#En utilisant ZIP\n",
    "\n",
    "\n",
    "ages = [24, 62, 10, 23]"
   ]
  },
  {
   "cell_type": "code",
   "execution_count": 16,
   "id": "aa9c53f8",
   "metadata": {},
   "outputs": [],
   "source": [
    "dico_2= {prenom:age for prenom, age in zip (prenoms,ages)}#on crée un dictionnaire dont les clefs sont les 'prenoms' et les valeurs se sont les \"ages\""
   ]
  },
  {
   "cell_type": "code",
   "execution_count": 17,
   "id": "9dfeb59a",
   "metadata": {},
   "outputs": [
    {
     "data": {
      "text/plain": [
       "{'Pierre': 24, 'Jean': 62, 'Julie': 10, 'Sophie': 23}"
      ]
     },
     "execution_count": 17,
     "metadata": {},
     "output_type": "execute_result"
    }
   ],
   "source": [
    "dico_2"
   ]
  },
  {
   "cell_type": "code",
   "execution_count": 18,
   "id": "3ca9dce6",
   "metadata": {},
   "outputs": [],
   "source": [
    "#On peut également inclure des conditions \n",
    "\n",
    "dico_2= {prenom:age for prenom, age in zip (prenoms,ages) if age > 30}"
   ]
  },
  {
   "cell_type": "code",
   "execution_count": 19,
   "id": "be9fcd97",
   "metadata": {},
   "outputs": [
    {
     "data": {
      "text/plain": [
       "{'Jean': 62}"
      ]
     },
     "execution_count": 19,
     "metadata": {},
     "output_type": "execute_result"
    }
   ],
   "source": [
    "dico_2"
   ]
  }
 ],
 "metadata": {
  "kernelspec": {
   "display_name": "Python 3 (ipykernel)",
   "language": "python",
   "name": "python3"
  },
  "language_info": {
   "codemirror_mode": {
    "name": "ipython",
    "version": 3
   },
   "file_extension": ".py",
   "mimetype": "text/x-python",
   "name": "python",
   "nbconvert_exporter": "python",
   "pygments_lexer": "ipython3",
   "version": "3.11.5"
  }
 },
 "nbformat": 4,
 "nbformat_minor": 5
}
