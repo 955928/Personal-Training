{
 "cells": [
  {
   "cell_type": "code",
   "execution_count": 15,
   "id": "302f69dc",
   "metadata": {},
   "outputs": [],
   "source": [
    "def simple_decorator(func):\n",
    "    def wrapper():\n",
    "        print(\"Avant l'appel de la fonction.\")\n",
    "        func()\n",
    "        print(\"Après l'appel de la fonction.\")\n",
    "    return wrapper\n",
    "\n",
    "@simple_decorator\n",
    "def say_hello():\n",
    "    print(\"Hello!\")"
   ]
  },
  {
   "cell_type": "code",
   "execution_count": 18,
   "id": "5c199840",
   "metadata": {},
   "outputs": [
    {
     "name": "stdout",
     "output_type": "stream",
     "text": [
      "Avant l'appel de la fonction.\n",
      "Hello!\n",
      "Après l'appel de la fonction.\n"
     ]
    }
   ],
   "source": [
    "say_hello()"
   ]
  },
  {
   "cell_type": "code",
   "execution_count": 3,
   "id": "1610a904",
   "metadata": {},
   "outputs": [],
   "source": [
    "say_hello = simple_decorator(say_hello)"
   ]
  },
  {
   "cell_type": "code",
   "execution_count": 24,
   "id": "9477cb36",
   "metadata": {},
   "outputs": [],
   "source": [
    "def my_decorator(original_function):\n",
    "    def inner_function():\n",
    "        print(\"Avant l'appel de la fonction.\")\n",
    "        original_function()\n",
    "        print(\"Après l'appel de la fonction.\")\n",
    "    return inner_function\n",
    "\n",
    "@my_decorator\n",
    "def greet():\n",
    "    print(\"Hello!\")"
   ]
  },
  {
   "cell_type": "code",
   "execution_count": 25,
   "id": "8c3f5b40",
   "metadata": {},
   "outputs": [
    {
     "name": "stdout",
     "output_type": "stream",
     "text": [
      "Avant l'appel de la fonction.\n",
      "Hello!\n",
      "Après l'appel de la fonction.\n"
     ]
    }
   ],
   "source": [
    "greet()"
   ]
  },
  {
   "cell_type": "code",
   "execution_count": 32,
   "id": "3105b12b",
   "metadata": {},
   "outputs": [],
   "source": [
    "def decorator_with_args(func):\n",
    "    def wrapper(*args, **kwargs):\n",
    "        print(f\"Arguments : {args}, {kwargs}\")\n",
    "        return func(*args, **kwargs)\n",
    "    return wrapper\n",
    "\n",
    "@decorator_with_args\n",
    "def greet(name, age=None):\n",
    "    if age:\n",
    "        return f\"Hello {name}, you are {age} years old!\"\n",
    "    else:\n",
    "        return f\"Hello {name}!\""
   ]
  },
  {
   "cell_type": "code",
   "execution_count": 33,
   "id": "a43b0f42",
   "metadata": {},
   "outputs": [
    {
     "name": "stdout",
     "output_type": "stream",
     "text": [
      "Arguments : ('Camille',), {'age': 31}\n"
     ]
    },
    {
     "data": {
      "text/plain": [
       "'Hello Camille, you are 31 years old!'"
      ]
     },
     "execution_count": 33,
     "metadata": {},
     "output_type": "execute_result"
    }
   ],
   "source": [
    "greet(\"Camille\", age=31)"
   ]
  },
  {
   "cell_type": "raw",
   "id": "b28c200e",
   "metadata": {},
   "source": [
    "greet(\"Camille\", age=23)"
   ]
  },
  {
   "cell_type": "raw",
   "id": "9992b651",
   "metadata": {},
   "source": [
    "greet(\"Camille\", \"Morgane\", age=31,23)"
   ]
  },
  {
   "cell_type": "code",
   "execution_count": 29,
   "id": "9d5c3b29",
   "metadata": {},
   "outputs": [],
   "source": [
    "\n",
    "def greet(name, age=None):\n",
    "    if age:\n",
    "        return f\"Hello {name}, you are {age} years old!\"\n",
    "    else:\n",
    "        return f\"Hello {name}!\""
   ]
  },
  {
   "cell_type": "code",
   "execution_count": 30,
   "id": "c25f1f5b",
   "metadata": {},
   "outputs": [
    {
     "data": {
      "text/plain": [
       "'Hello Camille, you are 31 years old!'"
      ]
     },
     "execution_count": 30,
     "metadata": {},
     "output_type": "execute_result"
    }
   ],
   "source": [
    "greet(\"Camille\", age=31)"
   ]
  },
  {
   "cell_type": "code",
   "execution_count": 31,
   "id": "ac71949f",
   "metadata": {},
   "outputs": [],
   "source": [
    "#args et *kwargs dans le wrapper permettent de passer n'importe quel nombre d'arguments positionnels et nommés à la fonction originale"
   ]
  },
  {
   "cell_type": "code",
   "execution_count": 34,
   "id": "1a237c5c",
   "metadata": {},
   "outputs": [
    {
     "name": "stdout",
     "output_type": "stream",
     "text": [
      "Avant d'appeler ma_methode\n",
      "Méthode appelée avec test. Valeur interne: 42\n",
      "Après avoir appelé ma_methode\n"
     ]
    }
   ],
   "source": [
    "def method_decorator(func):\n",
    "    def wrapper(self, *args, **kwargs):\n",
    "        print(f\"Avant d'appeler {func.__name__}\")\n",
    "        result = func(self, *args, **kwargs)\n",
    "        print(f\"Après avoir appelé {func.__name__}\")\n",
    "        return result\n",
    "    return wrapper\n",
    "\n",
    "class MaClasse:\n",
    "    def __init__(self, value):\n",
    "        self.value = value\n",
    "\n",
    "    @method_decorator\n",
    "    def ma_methode(self, param):\n",
    "        print(f\"Méthode appelée avec {param}. Valeur interne: {self.value}\")\n",
    "\n",
    "instance = MaClasse(42)\n",
    "instance.ma_methode(\"test\")\n"
   ]
  },
  {
   "cell_type": "code",
   "execution_count": 66,
   "id": "b36de4d7",
   "metadata": {},
   "outputs": [],
   "source": [
    "class Adherent:\n",
    "    def __init__(self, nom, prenom):\n",
    "        self.nom = nom\n",
    "        self.prenom = prenom\n",
    "        self.livres_empruntes = []\n",
    "\n",
    "    def emprunter(self, livre):\n",
    "        self.livres_empruntes.append(livre)\n",
    "        print(f\"{self.prenom} {self.nom} a emprunté {livre.titre}.\")\n",
    "\n",
    "    def retourner(self, livre):\n",
    "        if livre in self.livres_empruntes:\n",
    "            self.livres_empruntes.remove(livre)\n",
    "            print(f\"{self.prenom} {self.nom} a retourné {livre.titre}.\")"
   ]
  },
  {
   "cell_type": "code",
   "execution_count": 67,
   "id": "d54dcfcf",
   "metadata": {},
   "outputs": [
    {
     "ename": "TypeError",
     "evalue": "'str' object is not callable",
     "output_type": "error",
     "traceback": [
      "\u001b[1;31m---------------------------------------------------------------------------\u001b[0m",
      "\u001b[1;31mTypeError\u001b[0m                                 Traceback (most recent call last)",
      "Cell \u001b[1;32mIn[67], line 3\u001b[0m\n\u001b[0;32m      1\u001b[0m prenom \u001b[38;5;241m=\u001b[39m \u001b[38;5;124m'\u001b[39m\u001b[38;5;124mDjovan\u001b[39m\u001b[38;5;124m'\u001b[39m\n\u001b[0;32m      2\u001b[0m nom \u001b[38;5;241m=\u001b[39m \u001b[38;5;124m'\u001b[39m\u001b[38;5;124mLe Chat\u001b[39m\u001b[38;5;124m'\u001b[39m\n\u001b[1;32m----> 3\u001b[0m livre1 \u001b[38;5;241m=\u001b[39m livre(\u001b[38;5;124m\"\u001b[39m\u001b[38;5;124mTabasco\u001b[39m\u001b[38;5;124m\"\u001b[39m)\n\u001b[0;32m      5\u001b[0m livre1\u001b[38;5;241m.\u001b[39memprunter()\n",
      "\u001b[1;31mTypeError\u001b[0m: 'str' object is not callable"
     ]
    }
   ],
   "source": [
    "prenom = 'Djovan'\n",
    "nom = 'Le Chat'\n",
    "livre1 = \"Tabasco\"\n",
    "\n",
    "livre1.emprunter()"
   ]
  },
  {
   "cell_type": "code",
   "execution_count": 63,
   "id": "1f9f723f",
   "metadata": {},
   "outputs": [],
   "source": [
    "\n",
    "class Livre:\n",
    "    _id_livre = 0\n",
    "\n",
    "    def __init__(self, titre, auteur):\n",
    "        self.titre = titre\n",
    "        self.auteur = auteur\n",
    "        self.id = Livre._id_livre\n",
    "        Livre.incr_id()\n",
    "\n",
    "    @classmethod\n",
    "    def incr_id(cls):\n",
    "        cls._id_livre += 1"
   ]
  },
  {
   "cell_type": "code",
   "execution_count": 64,
   "id": "9ae749f4",
   "metadata": {},
   "outputs": [
    {
     "name": "stdout",
     "output_type": "stream",
     "text": [
      "0\n",
      "1\n"
     ]
    }
   ],
   "source": [
    "livre1 = Livre(\"Anna Karenina\", \"Leo Tolstoy\")\n",
    "print(livre1.id)  # Affiche : 0\n",
    "\n",
    "livre2 = Livre(\"War and Peace\", \"Leo Tolstoy\")\n",
    "print(livre2.id)  # Affiche : 1"
   ]
  },
  {
   "cell_type": "code",
   "execution_count": 68,
   "id": "592a2ba1",
   "metadata": {},
   "outputs": [
    {
     "name": "stdout",
     "output_type": "stream",
     "text": [
      "Après la création du premier livre:\n",
      "livre1._id_livre: 1\n",
      "Livre._id_livre: 1\n",
      "\n",
      "Après avoir modifié _id_livre à travers l'instance livre1:\n",
      "livre1._id_livre: 10\n",
      "Livre._id_livre: 1\n",
      "\n",
      "Après la création du second livre:\n",
      "livre2._id_livre: 2\n",
      "Livre._id_livre: 2\n",
      "\n",
      "Après avoir modifié _id_livre à travers la classe Livre:\n",
      "livre2._id_livre: 20\n",
      "Livre._id_livre: 20\n",
      "\n",
      "Après la création du troisieme livre:\n",
      "livre3._id_livre: 21\n",
      "Livre._id_livre: 21\n"
     ]
    }
   ],
   "source": [
    "class Livre:\n",
    "    _id_livre = 0  # Variable de classe\n",
    "\n",
    "    def __init__(self, titre, auteur):\n",
    "        self.titre = titre\n",
    "        self.auteur = auteur\n",
    "        self.id = Livre._id_livre\n",
    "        Livre._id_livre += 1\n",
    "\n",
    "# Créons une instance de Livre\n",
    "livre1 = Livre(\"Anna Karenina\", \"Leo Tolstoy\")\n",
    "\n",
    "# La variable de classe peut être accédée à la fois par l'instance et par la classe elle-même\n",
    "print(\"Après la création du premier livre:\")\n",
    "print(\"livre1._id_livre:\", livre1._id_livre)  # Affiche : 1\n",
    "print(\"Livre._id_livre:\", Livre._id_livre)   # Affiche : 1\n",
    "\n",
    "# Modifions la variable de classe via l'instance\n",
    "livre1._id_livre = 10\n",
    "\n",
    "# Vérifions les valeurs après modification\n",
    "print(\"\\nAprès avoir modifié _id_livre à travers l'instance livre1:\")\n",
    "print(\"livre1._id_livre:\", livre1._id_livre)  # Affiche : 10\n",
    "print(\"Livre._id_livre:\", Livre._id_livre)   # Affiche : 1 (n'a pas été modifié)\n",
    "\n",
    "# Créons une autre instance de Livre\n",
    "livre2 = Livre(\"War and Peace\", \"Leo Tolstoy\")\n",
    "\n",
    "# Vérifions les valeurs\n",
    "print(\"\\nAprès la création du second livre:\")\n",
    "print(\"livre2._id_livre:\", livre2._id_livre)  # Affiche : 2 (car la valeur a été incrémentée lors de la création de l'instance)\n",
    "print(\"Livre._id_livre:\", Livre._id_livre)   # Affiche : 2\n",
    "\n",
    "# Modifions la variable de classe via la classe elle-même\n",
    "Livre._id_livre = 20\n",
    "\n",
    "# Vérifions les valeurs après modification\n",
    "print(\"\\nAprès avoir modifié _id_livre à travers la classe Livre:\")\n",
    "print(\"livre2._id_livre:\", livre2._id_livre)  # Affiche : 2 (la valeur de l'instance ne change pas)\n",
    "print(\"Livre._id_livre:\", Livre._id_livre)   # Affiche : 20\n",
    "\n",
    "\n",
    "# Créons une autre instance de Livre\n",
    "livre3 = Livre(\"L'étranger\", \"Alberet Camus\")\n",
    "\n",
    "# Vérifions les valeurs\n",
    "print(\"\\nAprès la création du troisieme livre:\")\n",
    "print(\"livre3._id_livre:\", livre2._id_livre)  # Affiche : 21 (car la valeur a été incrémentée lors de la création de l'instance depuis la base 20)\n",
    "print(\"Livre._id_livre:\", Livre._id_livre)   # Affiche : 21\n"
   ]
  },
  {
   "cell_type": "code",
   "execution_count": 69,
   "id": "b4c3a012",
   "metadata": {},
   "outputs": [],
   "source": [
    "class Livre:\n",
    "    def __init__(self, titre, auteur):\n",
    "        self.titre = titre\n",
    "        self.auteur = auteur\n",
    "        self.section = Livre.definir_section(titre)\n",
    "        # ... (autres attributs)\n",
    "    \n",
    "    @staticmethod\n",
    "    def definir_section(titre):\n",
    "        if \"A\" <= titre[0] <= \"M\":\n",
    "            return \"Section 1\"\n",
    "        elif \"N\" <= titre[0] <= \"Z\":\n",
    "            return \"Section 2\"\n",
    "        else:\n",
    "            return \"Section Autre\""
   ]
  },
  {
   "cell_type": "code",
   "execution_count": 70,
   "id": "80a803c6",
   "metadata": {},
   "outputs": [
    {
     "name": "stdout",
     "output_type": "stream",
     "text": [
      "Section 1\n",
      "Section 2\n"
     ]
    }
   ],
   "source": [
    "livre1 = Livre(\"Anna Karenina\", \"Leo Tolstoy\")\n",
    "print(livre1.section)  # Affiche : Section 1\n",
    "\n",
    "livre2 = Livre(\"War and Peace\", \"Leo Tolstoy\")\n",
    "print(livre2.section)  # Affiche : Section 2"
   ]
  },
  {
   "cell_type": "code",
   "execution_count": null,
   "id": "2466d7fb",
   "metadata": {},
   "outputs": [],
   "source": []
  }
 ],
 "metadata": {
  "kernelspec": {
   "display_name": "Python 3 (ipykernel)",
   "language": "python",
   "name": "python3"
  },
  "language_info": {
   "codemirror_mode": {
    "name": "ipython",
    "version": 3
   },
   "file_extension": ".py",
   "mimetype": "text/x-python",
   "name": "python",
   "nbconvert_exporter": "python",
   "pygments_lexer": "ipython3",
   "version": "3.11.5"
  }
 },
 "nbformat": 4,
 "nbformat_minor": 5
}
